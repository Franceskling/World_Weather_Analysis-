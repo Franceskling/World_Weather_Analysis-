{
 "cells": [
  {
   "cell_type": "code",
   "execution_count": 1,
   "metadata": {},
   "outputs": [],
   "source": [
    "#ImportDependencies\n",
    "import pandas as pd\n",
    "import gmaps\n",
    "import requests\n",
    "%matplotlib inline\n",
    "import numpy as np\n",
    "from datetime import datetime\n",
    "import traceback \n",
    "\n",
    "#Import the API key\n",
    "from config import weather_api_key"
   ]
  },
  {
   "cell_type": "code",
   "execution_count": 2,
   "metadata": {},
   "outputs": [
    {
     "data": {
      "text/plain": [
       "<zip at 0x187538c7788>"
      ]
     },
     "execution_count": 2,
     "metadata": {},
     "output_type": "execute_result"
    }
   ],
   "source": [
    "#Generate a new set of 1,500 random latitudes and longitudes.\n",
    "lats = np.random.uniform(low=-90.000, high=90.000, size=1500)\n",
    "lngs = np.random.uniform(low=-180.000, high=180.000, size=1500)\n",
    "\n",
    "#pack the latitudes (lats) and longitudes (lngs) as pairs by zipping them (lat_lngs) with the zip() function.\n",
    "lat_lngs = zip(lats, lngs)\n",
    "lat_lngs "
   ]
  },
  {
   "cell_type": "code",
   "execution_count": 3,
   "metadata": {},
   "outputs": [],
   "source": [
    "# Add the latitudes and longitudes to a list.\n",
    "coordinates = list(lat_lngs)\n"
   ]
  },
  {
   "cell_type": "code",
   "execution_count": 4,
   "metadata": {},
   "outputs": [],
   "source": [
    "#Get the nearest city using the citipy module.\n",
    "\n",
    "# Use the citipy module to determine city based on latitude and longitude.\n",
    "from citipy import citipy"
   ]
  },
  {
   "cell_type": "code",
   "execution_count": 5,
   "metadata": {},
   "outputs": [
    {
     "data": {
      "text/plain": [
       "607"
      ]
     },
     "execution_count": 5,
     "metadata": {},
     "output_type": "execute_result"
    }
   ],
   "source": [
    "#Get the nearest city using the citipy module.\n",
    "\n",
    "# Create a list for holding the cities.\n",
    "cities = []\n",
    "# Identify the nearest city for each latitude and longitude combination.\n",
    "for coordinate in coordinates:\n",
    "    city = citipy.nearest_city(coordinate[0], coordinate[1]).city_name\n",
    "    \n",
    "    # If the city is unique, then we will add it to the cities list.\n",
    "    if city not in cities:\n",
    "        cities.append(city)\n",
    "# Print the city count to confirm sufficient count.\n",
    "len(cities)\n"
   ]
  },
  {
   "cell_type": "code",
   "execution_count": 6,
   "metadata": {},
   "outputs": [
    {
     "name": "stdout",
     "output_type": "stream",
     "text": [
      "http://api.openweathermap.org/data/2.5/weather?units=Imperial&APPID=dd069afc625f7308f2e35856c0b2b4d0\n"
     ]
    }
   ],
   "source": [
    "#Perform an API call with the OpenWeatherMap.\n",
    "\n",
    "url = \"http://api.openweathermap.org/data/2.5/weather?units=Imperial&APPID=\" + weather_api_key\n",
    "print(url)"
   ]
  },
  {
   "cell_type": "code",
   "execution_count": 8,
   "metadata": {
    "scrolled": true
   },
   "outputs": [
    {
     "data": {
      "text/plain": [
       "{'coord': {'lon': -74.01, 'lat': 40.71},\n",
       " 'weather': [{'id': 500,\n",
       "   'main': 'Rain',\n",
       "   'description': 'light rain',\n",
       "   'icon': '10d'}],\n",
       " 'base': 'stations',\n",
       " 'main': {'temp': 47.59,\n",
       "  'feels_like': 42.93,\n",
       "  'temp_min': 45,\n",
       "  'temp_max': 50,\n",
       "  'pressure': 1010,\n",
       "  'humidity': 81},\n",
       " 'visibility': 8047,\n",
       " 'wind': {'speed': 5.08, 'deg': 98},\n",
       " 'rain': {'1h': 0.25},\n",
       " 'clouds': {'all': 90},\n",
       " 'dt': 1582664703,\n",
       " 'sys': {'type': 1,\n",
       "  'id': 4686,\n",
       "  'country': 'US',\n",
       "  'sunrise': 1582630618,\n",
       "  'sunset': 1582670504},\n",
       " 'timezone': -18000,\n",
       " 'id': 5128581,\n",
       " 'name': 'New York',\n",
       " 'cod': 200}"
      ]
     },
     "execution_count": 8,
     "metadata": {},
     "output_type": "execute_result"
    }
   ],
   "source": [
    "# Create an endpoint URL for a city.\n",
    "try_city_url = url + \"&q=\" + \"New York\"\n",
    "try_city_weather = requests.get(try_city_url)\n",
    "try_city_weather.json()"
   ]
  },
  {
   "cell_type": "code",
   "execution_count": 9,
   "metadata": {},
   "outputs": [],
   "source": [
    "try:\n",
    "    try_city_weather = requests.get(try_city_url).json()\n",
    "    city_rain = try_city_weather[\"rain\"][\"1h\"]\n",
    "\n",
    "\n",
    "except:\n",
    "    traceback.print_exc()   \n",
    "    city_rain=0\n"
   ]
  },
  {
   "cell_type": "code",
   "execution_count": 10,
   "metadata": {},
   "outputs": [
    {
     "name": "stdout",
     "output_type": "stream",
     "text": [
      "Beginning Data Retrieval     \n",
      "-----------------------------\n",
      "Processing Record 1 of Set 1 | kruisfontein\n"
     ]
    },
    {
     "name": "stderr",
     "output_type": "stream",
     "text": [
      "Traceback (most recent call last):\n",
      "  File \"<ipython-input-10-441c2514960e>\", line 40, in <module>\n",
      "    city_rain = city_weather['rain']['3h']\n",
      "KeyError: 'rain'\n"
     ]
    },
    {
     "name": "stdout",
     "output_type": "stream",
     "text": [
      "Processing Record 2 of Set 1 | barentsburg\n"
     ]
    },
    {
     "name": "stderr",
     "output_type": "stream",
     "text": [
      "Traceback (most recent call last):\n",
      "  File \"<ipython-input-10-441c2514960e>\", line 32, in <module>\n",
      "    city_lat = city_weather[\"coord\"][\"lat\"]\n",
      "KeyError: 'coord'\n"
     ]
    },
    {
     "name": "stdout",
     "output_type": "stream",
     "text": [
      "Processing Record 3 of Set 1 | kapaa\n"
     ]
    },
    {
     "name": "stderr",
     "output_type": "stream",
     "text": [
      "Traceback (most recent call last):\n",
      "  File \"<ipython-input-10-441c2514960e>\", line 40, in <module>\n",
      "    city_rain = city_weather['rain']['3h']\n",
      "KeyError: 'rain'\n"
     ]
    },
    {
     "name": "stdout",
     "output_type": "stream",
     "text": [
      "Processing Record 4 of Set 1 | san quintin\n"
     ]
    },
    {
     "name": "stderr",
     "output_type": "stream",
     "text": [
      "Traceback (most recent call last):\n",
      "  File \"<ipython-input-10-441c2514960e>\", line 40, in <module>\n",
      "    city_rain = city_weather['rain']['3h']\n",
      "KeyError: 'rain'\n"
     ]
    },
    {
     "name": "stdout",
     "output_type": "stream",
     "text": [
      "Processing Record 5 of Set 1 | punta arenas\n"
     ]
    },
    {
     "name": "stderr",
     "output_type": "stream",
     "text": [
      "Traceback (most recent call last):\n",
      "  File \"<ipython-input-10-441c2514960e>\", line 40, in <module>\n",
      "    city_rain = city_weather['rain']['3h']\n",
      "KeyError: 'rain'\n"
     ]
    },
    {
     "name": "stdout",
     "output_type": "stream",
     "text": [
      "Processing Record 6 of Set 1 | goundam\n"
     ]
    },
    {
     "name": "stderr",
     "output_type": "stream",
     "text": [
      "Traceback (most recent call last):\n",
      "  File \"<ipython-input-10-441c2514960e>\", line 40, in <module>\n",
      "    city_rain = city_weather['rain']['3h']\n",
      "KeyError: 'rain'\n"
     ]
    },
    {
     "name": "stdout",
     "output_type": "stream",
     "text": [
      "Processing Record 7 of Set 1 | rudabanya\n"
     ]
    },
    {
     "name": "stderr",
     "output_type": "stream",
     "text": [
      "Traceback (most recent call last):\n",
      "  File \"<ipython-input-10-441c2514960e>\", line 40, in <module>\n",
      "    city_rain = city_weather['rain']['3h']\n",
      "KeyError: 'rain'\n"
     ]
    },
    {
     "name": "stdout",
     "output_type": "stream",
     "text": [
      "Processing Record 8 of Set 1 | port elizabeth\n"
     ]
    },
    {
     "name": "stderr",
     "output_type": "stream",
     "text": [
      "Traceback (most recent call last):\n",
      "  File \"<ipython-input-10-441c2514960e>\", line 40, in <module>\n",
      "    city_rain = city_weather['rain']['3h']\n",
      "KeyError: 'rain'\n"
     ]
    },
    {
     "name": "stdout",
     "output_type": "stream",
     "text": [
      "Processing Record 9 of Set 1 | barrow\n"
     ]
    },
    {
     "name": "stderr",
     "output_type": "stream",
     "text": [
      "Traceback (most recent call last):\n",
      "  File \"<ipython-input-10-441c2514960e>\", line 40, in <module>\n",
      "    city_rain = city_weather['rain']['3h']\n",
      "KeyError: 'rain'\n"
     ]
    },
    {
     "name": "stdout",
     "output_type": "stream",
     "text": [
      "Processing Record 10 of Set 1 | hami\n"
     ]
    },
    {
     "name": "stderr",
     "output_type": "stream",
     "text": [
      "Traceback (most recent call last):\n",
      "  File \"<ipython-input-10-441c2514960e>\", line 40, in <module>\n",
      "    city_rain = city_weather['rain']['3h']\n",
      "KeyError: 'rain'\n"
     ]
    },
    {
     "name": "stdout",
     "output_type": "stream",
     "text": [
      "Processing Record 11 of Set 1 | cockburn town\n"
     ]
    },
    {
     "name": "stderr",
     "output_type": "stream",
     "text": [
      "Traceback (most recent call last):\n",
      "  File \"<ipython-input-10-441c2514960e>\", line 40, in <module>\n",
      "    city_rain = city_weather['rain']['3h']\n",
      "KeyError: 'rain'\n"
     ]
    },
    {
     "name": "stdout",
     "output_type": "stream",
     "text": [
      "Processing Record 12 of Set 1 | russell\n"
     ]
    },
    {
     "name": "stderr",
     "output_type": "stream",
     "text": [
      "Traceback (most recent call last):\n",
      "  File \"<ipython-input-10-441c2514960e>\", line 40, in <module>\n",
      "    city_rain = city_weather['rain']['3h']\n",
      "KeyError: 'rain'\n"
     ]
    },
    {
     "name": "stdout",
     "output_type": "stream",
     "text": [
      "Processing Record 13 of Set 1 | victoria\n"
     ]
    },
    {
     "name": "stderr",
     "output_type": "stream",
     "text": [
      "Traceback (most recent call last):\n",
      "  File \"<ipython-input-10-441c2514960e>\", line 40, in <module>\n",
      "    city_rain = city_weather['rain']['3h']\n",
      "KeyError: 'rain'\n"
     ]
    },
    {
     "name": "stdout",
     "output_type": "stream",
     "text": [
      "Processing Record 14 of Set 1 | chokurdakh\n"
     ]
    },
    {
     "name": "stderr",
     "output_type": "stream",
     "text": [
      "Traceback (most recent call last):\n",
      "  File \"<ipython-input-10-441c2514960e>\", line 40, in <module>\n",
      "    city_rain = city_weather['rain']['3h']\n",
      "KeyError: 'rain'\n"
     ]
    },
    {
     "name": "stdout",
     "output_type": "stream",
     "text": [
      "Processing Record 15 of Set 1 | mar del plata\n"
     ]
    },
    {
     "name": "stderr",
     "output_type": "stream",
     "text": [
      "Traceback (most recent call last):\n",
      "  File \"<ipython-input-10-441c2514960e>\", line 40, in <module>\n",
      "    city_rain = city_weather['rain']['3h']\n",
      "KeyError: 'rain'\n"
     ]
    },
    {
     "name": "stdout",
     "output_type": "stream",
     "text": [
      "Processing Record 16 of Set 1 | palmer\n"
     ]
    },
    {
     "name": "stderr",
     "output_type": "stream",
     "text": [
      "Traceback (most recent call last):\n",
      "  File \"<ipython-input-10-441c2514960e>\", line 40, in <module>\n",
      "    city_rain = city_weather['rain']['3h']\n",
      "KeyError: 'rain'\n"
     ]
    },
    {
     "name": "stdout",
     "output_type": "stream",
     "text": [
      "Processing Record 17 of Set 1 | comodoro rivadavia\n"
     ]
    },
    {
     "name": "stderr",
     "output_type": "stream",
     "text": [
      "Traceback (most recent call last):\n",
      "  File \"<ipython-input-10-441c2514960e>\", line 40, in <module>\n",
      "    city_rain = city_weather['rain']['3h']\n",
      "KeyError: 'rain'\n"
     ]
    },
    {
     "name": "stdout",
     "output_type": "stream",
     "text": [
      "Processing Record 18 of Set 1 | mahe\n"
     ]
    },
    {
     "name": "stderr",
     "output_type": "stream",
     "text": [
      "Traceback (most recent call last):\n",
      "  File \"<ipython-input-10-441c2514960e>\", line 40, in <module>\n",
      "    city_rain = city_weather['rain']['3h']\n",
      "KeyError: 'rain'\n"
     ]
    },
    {
     "name": "stdout",
     "output_type": "stream",
     "text": [
      "Processing Record 19 of Set 1 | hobart\n"
     ]
    },
    {
     "name": "stderr",
     "output_type": "stream",
     "text": [
      "Traceback (most recent call last):\n",
      "  File \"<ipython-input-10-441c2514960e>\", line 40, in <module>\n",
      "    city_rain = city_weather['rain']['3h']\n",
      "KeyError: '3h'\n"
     ]
    },
    {
     "name": "stdout",
     "output_type": "stream",
     "text": [
      "Processing Record 20 of Set 1 | savannah bight\n"
     ]
    },
    {
     "name": "stderr",
     "output_type": "stream",
     "text": [
      "Traceback (most recent call last):\n",
      "  File \"<ipython-input-10-441c2514960e>\", line 40, in <module>\n",
      "    city_rain = city_weather['rain']['3h']\n",
      "KeyError: 'rain'\n"
     ]
    },
    {
     "name": "stdout",
     "output_type": "stream",
     "text": [
      "Processing Record 21 of Set 1 | ushuaia\n"
     ]
    },
    {
     "name": "stderr",
     "output_type": "stream",
     "text": [
      "Traceback (most recent call last):\n",
      "  File \"<ipython-input-10-441c2514960e>\", line 40, in <module>\n",
      "    city_rain = city_weather['rain']['3h']\n",
      "KeyError: 'rain'\n"
     ]
    },
    {
     "name": "stdout",
     "output_type": "stream",
     "text": [
      "Processing Record 22 of Set 1 | cabo san lucas\n"
     ]
    },
    {
     "name": "stderr",
     "output_type": "stream",
     "text": [
      "Traceback (most recent call last):\n",
      "  File \"<ipython-input-10-441c2514960e>\", line 40, in <module>\n",
      "    city_rain = city_weather['rain']['3h']\n",
      "KeyError: 'rain'\n"
     ]
    },
    {
     "name": "stdout",
     "output_type": "stream",
     "text": [
      "Processing Record 23 of Set 1 | aswan\n"
     ]
    },
    {
     "name": "stderr",
     "output_type": "stream",
     "text": [
      "Traceback (most recent call last):\n",
      "  File \"<ipython-input-10-441c2514960e>\", line 40, in <module>\n",
      "    city_rain = city_weather['rain']['3h']\n",
      "KeyError: 'rain'\n"
     ]
    },
    {
     "name": "stdout",
     "output_type": "stream",
     "text": [
      "Processing Record 24 of Set 1 | miraflores\n"
     ]
    },
    {
     "name": "stderr",
     "output_type": "stream",
     "text": [
      "Traceback (most recent call last):\n",
      "  File \"<ipython-input-10-441c2514960e>\", line 40, in <module>\n",
      "    city_rain = city_weather['rain']['3h']\n",
      "KeyError: 'rain'\n"
     ]
    },
    {
     "name": "stdout",
     "output_type": "stream",
     "text": [
      "Processing Record 25 of Set 1 | vaini\n"
     ]
    },
    {
     "name": "stderr",
     "output_type": "stream",
     "text": [
      "Traceback (most recent call last):\n",
      "  File \"<ipython-input-10-441c2514960e>\", line 40, in <module>\n",
      "    city_rain = city_weather['rain']['3h']\n",
      "KeyError: 'rain'\n"
     ]
    },
    {
     "name": "stdout",
     "output_type": "stream",
     "text": [
      "Processing Record 26 of Set 1 | saint george\n"
     ]
    },
    {
     "name": "stderr",
     "output_type": "stream",
     "text": [
      "Traceback (most recent call last):\n",
      "  File \"<ipython-input-10-441c2514960e>\", line 40, in <module>\n",
      "    city_rain = city_weather['rain']['3h']\n",
      "KeyError: 'rain'\n"
     ]
    },
    {
     "name": "stdout",
     "output_type": "stream",
     "text": [
      "Processing Record 27 of Set 1 | nikolskoye\n"
     ]
    },
    {
     "name": "stderr",
     "output_type": "stream",
     "text": [
      "Traceback (most recent call last):\n",
      "  File \"<ipython-input-10-441c2514960e>\", line 40, in <module>\n",
      "    city_rain = city_weather['rain']['3h']\n",
      "KeyError: 'rain'\n"
     ]
    },
    {
     "name": "stdout",
     "output_type": "stream",
     "text": [
      "Processing Record 28 of Set 1 | sakakah\n"
     ]
    },
    {
     "name": "stderr",
     "output_type": "stream",
     "text": [
      "Traceback (most recent call last):\n",
      "  File \"<ipython-input-10-441c2514960e>\", line 40, in <module>\n",
      "    city_rain = city_weather['rain']['3h']\n",
      "KeyError: 'rain'\n"
     ]
    },
    {
     "name": "stdout",
     "output_type": "stream",
     "text": [
      "Processing Record 29 of Set 1 | jamestown\n"
     ]
    },
    {
     "name": "stderr",
     "output_type": "stream",
     "text": [
      "Traceback (most recent call last):\n",
      "  File \"<ipython-input-10-441c2514960e>\", line 40, in <module>\n",
      "    city_rain = city_weather['rain']['3h']\n",
      "KeyError: 'rain'\n"
     ]
    },
    {
     "name": "stdout",
     "output_type": "stream",
     "text": [
      "Processing Record 30 of Set 1 | bluff\n"
     ]
    },
    {
     "name": "stderr",
     "output_type": "stream",
     "text": [
      "Traceback (most recent call last):\n",
      "  File \"<ipython-input-10-441c2514960e>\", line 40, in <module>\n",
      "    city_rain = city_weather['rain']['3h']\n",
      "KeyError: 'rain'\n"
     ]
    },
    {
     "name": "stdout",
     "output_type": "stream",
     "text": [
      "Processing Record 31 of Set 1 | merauke\n"
     ]
    },
    {
     "name": "stderr",
     "output_type": "stream",
     "text": [
      "Traceback (most recent call last):\n",
      "  File \"<ipython-input-10-441c2514960e>\", line 41, in <module>\n",
      "    city_snow = city_weather[\"snow\"][\"3h\"]\n",
      "KeyError: 'snow'\n"
     ]
    },
    {
     "name": "stdout",
     "output_type": "stream",
     "text": [
      "Processing Record 32 of Set 1 | bartica\n"
     ]
    },
    {
     "name": "stderr",
     "output_type": "stream",
     "text": [
      "Traceback (most recent call last):\n",
      "  File \"<ipython-input-10-441c2514960e>\", line 40, in <module>\n",
      "    city_rain = city_weather['rain']['3h']\n",
      "KeyError: 'rain'\n"
     ]
    },
    {
     "name": "stdout",
     "output_type": "stream",
     "text": [
      "Processing Record 33 of Set 1 | guerrero negro\n"
     ]
    },
    {
     "name": "stderr",
     "output_type": "stream",
     "text": [
      "Traceback (most recent call last):\n",
      "  File \"<ipython-input-10-441c2514960e>\", line 40, in <module>\n",
      "    city_rain = city_weather['rain']['3h']\n",
      "KeyError: 'rain'\n"
     ]
    },
    {
     "name": "stdout",
     "output_type": "stream",
     "text": [
      "Processing Record 34 of Set 1 | yulara\n"
     ]
    },
    {
     "name": "stderr",
     "output_type": "stream",
     "text": [
      "Traceback (most recent call last):\n",
      "  File \"<ipython-input-10-441c2514960e>\", line 40, in <module>\n",
      "    city_rain = city_weather['rain']['3h']\n",
      "KeyError: 'rain'\n"
     ]
    },
    {
     "name": "stdout",
     "output_type": "stream",
     "text": [
      "Processing Record 35 of Set 1 | jacupiranga\n"
     ]
    },
    {
     "name": "stderr",
     "output_type": "stream",
     "text": [
      "Traceback (most recent call last):\n",
      "  File \"<ipython-input-10-441c2514960e>\", line 41, in <module>\n",
      "    city_snow = city_weather[\"snow\"][\"3h\"]\n",
      "KeyError: 'snow'\n"
     ]
    },
    {
     "name": "stdout",
     "output_type": "stream",
     "text": [
      "Processing Record 36 of Set 1 | port hardy\n"
     ]
    },
    {
     "name": "stderr",
     "output_type": "stream",
     "text": [
      "Traceback (most recent call last):\n",
      "  File \"<ipython-input-10-441c2514960e>\", line 40, in <module>\n",
      "    city_rain = city_weather['rain']['3h']\n",
      "KeyError: 'rain'\n"
     ]
    },
    {
     "name": "stdout",
     "output_type": "stream",
     "text": [
      "Processing Record 37 of Set 1 | nizhneyansk\n"
     ]
    },
    {
     "name": "stderr",
     "output_type": "stream",
     "text": [
      "Traceback (most recent call last):\n",
      "  File \"<ipython-input-10-441c2514960e>\", line 32, in <module>\n",
      "    city_lat = city_weather[\"coord\"][\"lat\"]\n",
      "KeyError: 'coord'\n"
     ]
    },
    {
     "name": "stdout",
     "output_type": "stream",
     "text": [
      "Processing Record 38 of Set 1 | hermanus\n"
     ]
    },
    {
     "name": "stderr",
     "output_type": "stream",
     "text": [
      "Traceback (most recent call last):\n",
      "  File \"<ipython-input-10-441c2514960e>\", line 40, in <module>\n",
      "    city_rain = city_weather['rain']['3h']\n",
      "KeyError: 'rain'\n"
     ]
    },
    {
     "name": "stdout",
     "output_type": "stream",
     "text": [
      "Processing Record 39 of Set 1 | opobo\n"
     ]
    },
    {
     "name": "stderr",
     "output_type": "stream",
     "text": [
      "Traceback (most recent call last):\n",
      "  File \"<ipython-input-10-441c2514960e>\", line 32, in <module>\n",
      "    city_lat = city_weather[\"coord\"][\"lat\"]\n",
      "KeyError: 'coord'\n"
     ]
    },
    {
     "name": "stdout",
     "output_type": "stream",
     "text": [
      "Processing Record 40 of Set 1 | santa isabel\n"
     ]
    },
    {
     "name": "stderr",
     "output_type": "stream",
     "text": [
      "Traceback (most recent call last):\n",
      "  File \"<ipython-input-10-441c2514960e>\", line 40, in <module>\n",
      "    city_rain = city_weather['rain']['3h']\n",
      "KeyError: 'rain'\n"
     ]
    },
    {
     "name": "stdout",
     "output_type": "stream",
     "text": [
      "Processing Record 41 of Set 1 | rikitea\n"
     ]
    },
    {
     "name": "stderr",
     "output_type": "stream",
     "text": [
      "Traceback (most recent call last):\n",
      "  File \"<ipython-input-10-441c2514960e>\", line 40, in <module>\n",
      "    city_rain = city_weather['rain']['3h']\n",
      "KeyError: 'rain'\n"
     ]
    },
    {
     "name": "stdout",
     "output_type": "stream",
     "text": [
      "Processing Record 42 of Set 1 | mys shmidta\n"
     ]
    },
    {
     "name": "stderr",
     "output_type": "stream",
     "text": [
      "Traceback (most recent call last):\n",
      "  File \"<ipython-input-10-441c2514960e>\", line 32, in <module>\n",
      "    city_lat = city_weather[\"coord\"][\"lat\"]\n",
      "KeyError: 'coord'\n"
     ]
    },
    {
     "name": "stdout",
     "output_type": "stream",
     "text": [
      "Processing Record 43 of Set 1 | khatanga\n"
     ]
    },
    {
     "name": "stderr",
     "output_type": "stream",
     "text": [
      "Traceback (most recent call last):\n",
      "  File \"<ipython-input-10-441c2514960e>\", line 40, in <module>\n",
      "    city_rain = city_weather['rain']['3h']\n",
      "KeyError: 'rain'\n"
     ]
    },
    {
     "name": "stdout",
     "output_type": "stream",
     "text": [
      "Processing Record 44 of Set 1 | baruun-urt\n"
     ]
    },
    {
     "name": "stderr",
     "output_type": "stream",
     "text": [
      "Traceback (most recent call last):\n",
      "  File \"<ipython-input-10-441c2514960e>\", line 40, in <module>\n",
      "    city_rain = city_weather['rain']['3h']\n",
      "KeyError: 'rain'\n"
     ]
    },
    {
     "name": "stdout",
     "output_type": "stream",
     "text": [
      "Processing Record 45 of Set 1 | petropavlovsk-kamchatskiy\n"
     ]
    },
    {
     "name": "stderr",
     "output_type": "stream",
     "text": [
      "Traceback (most recent call last):\n",
      "  File \"<ipython-input-10-441c2514960e>\", line 40, in <module>\n",
      "    city_rain = city_weather['rain']['3h']\n",
      "KeyError: 'rain'\n"
     ]
    },
    {
     "name": "stdout",
     "output_type": "stream",
     "text": [
      "Processing Record 46 of Set 1 | pathardih\n"
     ]
    },
    {
     "name": "stderr",
     "output_type": "stream",
     "text": [
      "Traceback (most recent call last):\n",
      "  File \"<ipython-input-10-441c2514960e>\", line 41, in <module>\n",
      "    city_snow = city_weather[\"snow\"][\"3h\"]\n",
      "KeyError: 'snow'\n"
     ]
    },
    {
     "name": "stdout",
     "output_type": "stream",
     "text": [
      "Processing Record 47 of Set 1 | taolanaro\n"
     ]
    },
    {
     "name": "stderr",
     "output_type": "stream",
     "text": [
      "Traceback (most recent call last):\n",
      "  File \"<ipython-input-10-441c2514960e>\", line 32, in <module>\n",
      "    city_lat = city_weather[\"coord\"][\"lat\"]\n",
      "KeyError: 'coord'\n"
     ]
    },
    {
     "name": "stdout",
     "output_type": "stream",
     "text": [
      "Processing Record 48 of Set 1 | puerto ayora\n"
     ]
    },
    {
     "name": "stderr",
     "output_type": "stream",
     "text": [
      "Traceback (most recent call last):\n",
      "  File \"<ipython-input-10-441c2514960e>\", line 40, in <module>\n",
      "    city_rain = city_weather['rain']['3h']\n",
      "KeyError: 'rain'\n"
     ]
    },
    {
     "name": "stdout",
     "output_type": "stream",
     "text": [
      "Processing Record 49 of Set 1 | natitingou\n"
     ]
    },
    {
     "name": "stderr",
     "output_type": "stream",
     "text": [
      "Traceback (most recent call last):\n",
      "  File \"<ipython-input-10-441c2514960e>\", line 40, in <module>\n",
      "    city_rain = city_weather['rain']['3h']\n",
      "KeyError: 'rain'\n"
     ]
    },
    {
     "name": "stdout",
     "output_type": "stream",
     "text": [
      "Processing Record 50 of Set 1 | silver city\n"
     ]
    },
    {
     "name": "stderr",
     "output_type": "stream",
     "text": [
      "Traceback (most recent call last):\n",
      "  File \"<ipython-input-10-441c2514960e>\", line 40, in <module>\n",
      "    city_rain = city_weather['rain']['3h']\n",
      "KeyError: 'rain'\n"
     ]
    },
    {
     "name": "stdout",
     "output_type": "stream",
     "text": [
      "Processing Record 1 of Set 2 | faanui\n"
     ]
    },
    {
     "name": "stderr",
     "output_type": "stream",
     "text": [
      "Traceback (most recent call last):\n",
      "  File \"<ipython-input-10-441c2514960e>\", line 40, in <module>\n",
      "    city_rain = city_weather['rain']['3h']\n",
      "KeyError: 'rain'\n"
     ]
    },
    {
     "name": "stdout",
     "output_type": "stream",
     "text": [
      "Processing Record 2 of Set 2 | saldanha\n"
     ]
    },
    {
     "name": "stderr",
     "output_type": "stream",
     "text": [
      "Traceback (most recent call last):\n",
      "  File \"<ipython-input-10-441c2514960e>\", line 40, in <module>\n",
      "    city_rain = city_weather['rain']['3h']\n",
      "KeyError: 'rain'\n"
     ]
    },
    {
     "name": "stdout",
     "output_type": "stream",
     "text": [
      "Processing Record 3 of Set 2 | bambous virieux\n"
     ]
    },
    {
     "name": "stderr",
     "output_type": "stream",
     "text": [
      "Traceback (most recent call last):\n",
      "  File \"<ipython-input-10-441c2514960e>\", line 40, in <module>\n",
      "    city_rain = city_weather['rain']['3h']\n",
      "KeyError: 'rain'\n"
     ]
    },
    {
     "name": "stdout",
     "output_type": "stream",
     "text": [
      "Processing Record 4 of Set 2 | kargasok\n"
     ]
    },
    {
     "name": "stderr",
     "output_type": "stream",
     "text": [
      "Traceback (most recent call last):\n",
      "  File \"<ipython-input-10-441c2514960e>\", line 40, in <module>\n",
      "    city_rain = city_weather['rain']['3h']\n",
      "KeyError: 'rain'\n"
     ]
    },
    {
     "name": "stdout",
     "output_type": "stream",
     "text": [
      "Processing Record 5 of Set 2 | coihaique\n"
     ]
    },
    {
     "name": "stderr",
     "output_type": "stream",
     "text": [
      "Traceback (most recent call last):\n",
      "  File \"<ipython-input-10-441c2514960e>\", line 40, in <module>\n",
      "    city_rain = city_weather['rain']['3h']\n",
      "KeyError: 'rain'\n"
     ]
    },
    {
     "name": "stdout",
     "output_type": "stream",
     "text": [
      "Processing Record 6 of Set 2 | leua\n"
     ]
    },
    {
     "name": "stderr",
     "output_type": "stream",
     "text": [
      "Traceback (most recent call last):\n",
      "  File \"<ipython-input-10-441c2514960e>\", line 40, in <module>\n",
      "    city_rain = city_weather['rain']['3h']\n",
      "KeyError: 'rain'\n"
     ]
    },
    {
     "name": "stdout",
     "output_type": "stream",
     "text": [
      "Processing Record 7 of Set 2 | tutayev\n"
     ]
    },
    {
     "name": "stderr",
     "output_type": "stream",
     "text": [
      "Traceback (most recent call last):\n",
      "  File \"<ipython-input-10-441c2514960e>\", line 40, in <module>\n",
      "    city_rain = city_weather['rain']['3h']\n",
      "KeyError: 'rain'\n"
     ]
    },
    {
     "name": "stdout",
     "output_type": "stream",
     "text": [
      "Processing Record 8 of Set 2 | belushya guba\n"
     ]
    },
    {
     "name": "stderr",
     "output_type": "stream",
     "text": [
      "Traceback (most recent call last):\n",
      "  File \"<ipython-input-10-441c2514960e>\", line 32, in <module>\n",
      "    city_lat = city_weather[\"coord\"][\"lat\"]\n",
      "KeyError: 'coord'\n"
     ]
    },
    {
     "name": "stdout",
     "output_type": "stream",
     "text": [
      "Processing Record 9 of Set 2 | sovetskiy\n"
     ]
    },
    {
     "name": "stderr",
     "output_type": "stream",
     "text": [
      "Traceback (most recent call last):\n",
      "  File \"<ipython-input-10-441c2514960e>\", line 40, in <module>\n",
      "    city_rain = city_weather['rain']['3h']\n",
      "KeyError: 'rain'\n"
     ]
    },
    {
     "name": "stdout",
     "output_type": "stream",
     "text": [
      "Processing Record 10 of Set 2 | saint-philippe\n"
     ]
    },
    {
     "name": "stderr",
     "output_type": "stream",
     "text": [
      "Traceback (most recent call last):\n",
      "  File \"<ipython-input-10-441c2514960e>\", line 40, in <module>\n",
      "    city_rain = city_weather['rain']['3h']\n",
      "KeyError: 'rain'\n"
     ]
    },
    {
     "name": "stdout",
     "output_type": "stream",
     "text": [
      "Processing Record 11 of Set 2 | urdzhar\n"
     ]
    },
    {
     "name": "stderr",
     "output_type": "stream",
     "text": [
      "Traceback (most recent call last):\n",
      "  File \"<ipython-input-10-441c2514960e>\", line 32, in <module>\n",
      "    city_lat = city_weather[\"coord\"][\"lat\"]\n",
      "KeyError: 'coord'\n"
     ]
    },
    {
     "name": "stdout",
     "output_type": "stream",
     "text": [
      "Processing Record 12 of Set 2 | mataura\n"
     ]
    },
    {
     "name": "stderr",
     "output_type": "stream",
     "text": [
      "Traceback (most recent call last):\n",
      "  File \"<ipython-input-10-441c2514960e>\", line 40, in <module>\n",
      "    city_rain = city_weather['rain']['3h']\n",
      "KeyError: 'rain'\n"
     ]
    },
    {
     "name": "stdout",
     "output_type": "stream",
     "text": [
      "Processing Record 13 of Set 2 | touros\n"
     ]
    },
    {
     "name": "stderr",
     "output_type": "stream",
     "text": [
      "Traceback (most recent call last):\n",
      "  File \"<ipython-input-10-441c2514960e>\", line 40, in <module>\n",
      "    city_rain = city_weather['rain']['3h']\n",
      "KeyError: 'rain'\n"
     ]
    },
    {
     "name": "stdout",
     "output_type": "stream",
     "text": [
      "Processing Record 14 of Set 2 | sur\n"
     ]
    },
    {
     "name": "stderr",
     "output_type": "stream",
     "text": [
      "Traceback (most recent call last):\n",
      "  File \"<ipython-input-10-441c2514960e>\", line 40, in <module>\n",
      "    city_rain = city_weather['rain']['3h']\n",
      "KeyError: 'rain'\n"
     ]
    },
    {
     "name": "stdout",
     "output_type": "stream",
     "text": [
      "Processing Record 15 of Set 2 | kodiak\n"
     ]
    },
    {
     "name": "stderr",
     "output_type": "stream",
     "text": [
      "Traceback (most recent call last):\n",
      "  File \"<ipython-input-10-441c2514960e>\", line 40, in <module>\n",
      "    city_rain = city_weather['rain']['3h']\n",
      "KeyError: 'rain'\n"
     ]
    },
    {
     "name": "stdout",
     "output_type": "stream",
     "text": [
      "Processing Record 16 of Set 2 | bara\n"
     ]
    },
    {
     "name": "stderr",
     "output_type": "stream",
     "text": [
      "Traceback (most recent call last):\n",
      "  File \"<ipython-input-10-441c2514960e>\", line 40, in <module>\n",
      "    city_rain = city_weather['rain']['3h']\n",
      "KeyError: 'rain'\n"
     ]
    },
    {
     "name": "stdout",
     "output_type": "stream",
     "text": [
      "Processing Record 17 of Set 2 | mitsamiouli\n"
     ]
    },
    {
     "name": "stderr",
     "output_type": "stream",
     "text": [
      "Traceback (most recent call last):\n",
      "  File \"<ipython-input-10-441c2514960e>\", line 40, in <module>\n",
      "    city_rain = city_weather['rain']['3h']\n",
      "KeyError: 'rain'\n"
     ]
    },
    {
     "name": "stdout",
     "output_type": "stream",
     "text": [
      "Processing Record 18 of Set 2 | hilo\n"
     ]
    },
    {
     "name": "stderr",
     "output_type": "stream",
     "text": [
      "Traceback (most recent call last):\n",
      "  File \"<ipython-input-10-441c2514960e>\", line 40, in <module>\n",
      "    city_rain = city_weather['rain']['3h']\n",
      "KeyError: 'rain'\n"
     ]
    },
    {
     "name": "stdout",
     "output_type": "stream",
     "text": [
      "Processing Record 19 of Set 2 | mackenzie\n"
     ]
    },
    {
     "name": "stderr",
     "output_type": "stream",
     "text": [
      "Traceback (most recent call last):\n",
      "  File \"<ipython-input-10-441c2514960e>\", line 40, in <module>\n",
      "    city_rain = city_weather['rain']['3h']\n",
      "KeyError: 'rain'\n"
     ]
    },
    {
     "name": "stdout",
     "output_type": "stream",
     "text": [
      "Processing Record 20 of Set 2 | cape town\n"
     ]
    },
    {
     "name": "stderr",
     "output_type": "stream",
     "text": [
      "Traceback (most recent call last):\n",
      "  File \"<ipython-input-10-441c2514960e>\", line 40, in <module>\n",
      "    city_rain = city_weather['rain']['3h']\n",
      "KeyError: 'rain'\n"
     ]
    },
    {
     "name": "stdout",
     "output_type": "stream",
     "text": [
      "Processing Record 21 of Set 2 | ouadda\n"
     ]
    },
    {
     "name": "stderr",
     "output_type": "stream",
     "text": [
      "Traceback (most recent call last):\n",
      "  File \"<ipython-input-10-441c2514960e>\", line 40, in <module>\n",
      "    city_rain = city_weather['rain']['3h']\n",
      "KeyError: 'rain'\n"
     ]
    },
    {
     "name": "stdout",
     "output_type": "stream",
     "text": [
      "Processing Record 22 of Set 2 | bethel\n"
     ]
    },
    {
     "name": "stderr",
     "output_type": "stream",
     "text": [
      "Traceback (most recent call last):\n",
      "  File \"<ipython-input-10-441c2514960e>\", line 40, in <module>\n",
      "    city_rain = city_weather['rain']['3h']\n",
      "KeyError: '3h'\n"
     ]
    },
    {
     "name": "stdout",
     "output_type": "stream",
     "text": [
      "Processing Record 23 of Set 2 | hun\n"
     ]
    },
    {
     "name": "stderr",
     "output_type": "stream",
     "text": [
      "Traceback (most recent call last):\n",
      "  File \"<ipython-input-10-441c2514960e>\", line 40, in <module>\n",
      "    city_rain = city_weather['rain']['3h']\n",
      "KeyError: 'rain'\n"
     ]
    },
    {
     "name": "stdout",
     "output_type": "stream",
     "text": [
      "Processing Record 24 of Set 2 | butaritari\n"
     ]
    },
    {
     "name": "stderr",
     "output_type": "stream",
     "text": [
      "Traceback (most recent call last):\n",
      "  File \"<ipython-input-10-441c2514960e>\", line 41, in <module>\n",
      "    city_snow = city_weather[\"snow\"][\"3h\"]\n",
      "KeyError: 'snow'\n"
     ]
    },
    {
     "name": "stdout",
     "output_type": "stream",
     "text": [
      "Processing Record 25 of Set 2 | mayo\n"
     ]
    },
    {
     "name": "stderr",
     "output_type": "stream",
     "text": [
      "Traceback (most recent call last):\n",
      "  File \"<ipython-input-10-441c2514960e>\", line 40, in <module>\n",
      "    city_rain = city_weather['rain']['3h']\n",
      "KeyError: 'rain'\n"
     ]
    },
    {
     "name": "stdout",
     "output_type": "stream",
     "text": [
      "Processing Record 26 of Set 2 | angoche\n"
     ]
    },
    {
     "name": "stderr",
     "output_type": "stream",
     "text": [
      "Traceback (most recent call last):\n",
      "  File \"<ipython-input-10-441c2514960e>\", line 41, in <module>\n",
      "    city_snow = city_weather[\"snow\"][\"3h\"]\n",
      "KeyError: 'snow'\n"
     ]
    },
    {
     "name": "stdout",
     "output_type": "stream",
     "text": [
      "Processing Record 27 of Set 2 | abu dhabi\n"
     ]
    },
    {
     "name": "stderr",
     "output_type": "stream",
     "text": [
      "Traceback (most recent call last):\n",
      "  File \"<ipython-input-10-441c2514960e>\", line 40, in <module>\n",
      "    city_rain = city_weather['rain']['3h']\n",
      "KeyError: 'rain'\n"
     ]
    },
    {
     "name": "stdout",
     "output_type": "stream",
     "text": [
      "Processing Record 28 of Set 2 | dikson\n"
     ]
    },
    {
     "name": "stderr",
     "output_type": "stream",
     "text": [
      "Traceback (most recent call last):\n",
      "  File \"<ipython-input-10-441c2514960e>\", line 40, in <module>\n",
      "    city_rain = city_weather['rain']['3h']\n",
      "KeyError: 'rain'\n"
     ]
    },
    {
     "name": "stdout",
     "output_type": "stream",
     "text": [
      "Processing Record 29 of Set 2 | beidao\n"
     ]
    },
    {
     "name": "stderr",
     "output_type": "stream",
     "text": [
      "Traceback (most recent call last):\n",
      "  File \"<ipython-input-10-441c2514960e>\", line 40, in <module>\n",
      "    city_rain = city_weather['rain']['3h']\n",
      "KeyError: 'rain'\n"
     ]
    },
    {
     "name": "stdout",
     "output_type": "stream",
     "text": [
      "Processing Record 30 of Set 2 | vardo\n"
     ]
    },
    {
     "name": "stderr",
     "output_type": "stream",
     "text": [
      "Traceback (most recent call last):\n",
      "  File \"<ipython-input-10-441c2514960e>\", line 40, in <module>\n",
      "    city_rain = city_weather['rain']['3h']\n",
      "KeyError: 'rain'\n"
     ]
    },
    {
     "name": "stdout",
     "output_type": "stream",
     "text": [
      "Processing Record 31 of Set 2 | pisco\n"
     ]
    },
    {
     "name": "stderr",
     "output_type": "stream",
     "text": [
      "Traceback (most recent call last):\n",
      "  File \"<ipython-input-10-441c2514960e>\", line 40, in <module>\n",
      "    city_rain = city_weather['rain']['3h']\n",
      "KeyError: 'rain'\n"
     ]
    },
    {
     "name": "stdout",
     "output_type": "stream",
     "text": [
      "Processing Record 32 of Set 2 | ugoofaaru\n"
     ]
    },
    {
     "name": "stderr",
     "output_type": "stream",
     "text": [
      "Traceback (most recent call last):\n",
      "  File \"<ipython-input-10-441c2514960e>\", line 40, in <module>\n",
      "    city_rain = city_weather['rain']['3h']\n",
      "KeyError: 'rain'\n"
     ]
    },
    {
     "name": "stdout",
     "output_type": "stream",
     "text": [
      "Processing Record 33 of Set 2 | syamzha\n"
     ]
    },
    {
     "name": "stderr",
     "output_type": "stream",
     "text": [
      "Traceback (most recent call last):\n",
      "  File \"<ipython-input-10-441c2514960e>\", line 40, in <module>\n",
      "    city_rain = city_weather['rain']['3h']\n",
      "KeyError: 'rain'\n"
     ]
    },
    {
     "name": "stdout",
     "output_type": "stream",
     "text": [
      "Processing Record 34 of Set 2 | busselton\n"
     ]
    },
    {
     "name": "stderr",
     "output_type": "stream",
     "text": [
      "Traceback (most recent call last):\n",
      "  File \"<ipython-input-10-441c2514960e>\", line 41, in <module>\n",
      "    city_snow = city_weather[\"snow\"][\"3h\"]\n",
      "KeyError: 'snow'\n"
     ]
    },
    {
     "name": "stdout",
     "output_type": "stream",
     "text": [
      "Processing Record 35 of Set 2 | chuy\n"
     ]
    },
    {
     "name": "stderr",
     "output_type": "stream",
     "text": [
      "Traceback (most recent call last):\n",
      "  File \"<ipython-input-10-441c2514960e>\", line 40, in <module>\n",
      "    city_rain = city_weather['rain']['3h']\n",
      "KeyError: 'rain'\n"
     ]
    },
    {
     "name": "stdout",
     "output_type": "stream",
     "text": [
      "Processing Record 36 of Set 2 | gisborne\n"
     ]
    },
    {
     "name": "stderr",
     "output_type": "stream",
     "text": [
      "Traceback (most recent call last):\n",
      "  File \"<ipython-input-10-441c2514960e>\", line 40, in <module>\n",
      "    city_rain = city_weather['rain']['3h']\n",
      "KeyError: 'rain'\n"
     ]
    },
    {
     "name": "stdout",
     "output_type": "stream",
     "text": [
      "Processing Record 37 of Set 2 | illoqqortoormiut\n"
     ]
    },
    {
     "name": "stderr",
     "output_type": "stream",
     "text": [
      "Traceback (most recent call last):\n",
      "  File \"<ipython-input-10-441c2514960e>\", line 32, in <module>\n",
      "    city_lat = city_weather[\"coord\"][\"lat\"]\n",
      "KeyError: 'coord'\n"
     ]
    },
    {
     "name": "stdout",
     "output_type": "stream",
     "text": [
      "Processing Record 38 of Set 2 | sinnamary\n"
     ]
    },
    {
     "name": "stderr",
     "output_type": "stream",
     "text": [
      "Traceback (most recent call last):\n",
      "  File \"<ipython-input-10-441c2514960e>\", line 40, in <module>\n",
      "    city_rain = city_weather['rain']['3h']\n",
      "KeyError: 'rain'\n"
     ]
    },
    {
     "name": "stdout",
     "output_type": "stream",
     "text": [
      "Processing Record 39 of Set 2 | arraial do cabo\n"
     ]
    },
    {
     "name": "stderr",
     "output_type": "stream",
     "text": [
      "Traceback (most recent call last):\n",
      "  File \"<ipython-input-10-441c2514960e>\", line 40, in <module>\n",
      "    city_rain = city_weather['rain']['3h']\n",
      "KeyError: 'rain'\n"
     ]
    },
    {
     "name": "stdout",
     "output_type": "stream",
     "text": [
      "Processing Record 40 of Set 2 | kuytun\n"
     ]
    },
    {
     "name": "stderr",
     "output_type": "stream",
     "text": [
      "Traceback (most recent call last):\n",
      "  File \"<ipython-input-10-441c2514960e>\", line 40, in <module>\n",
      "    city_rain = city_weather['rain']['3h']\n",
      "KeyError: 'rain'\n"
     ]
    },
    {
     "name": "stdout",
     "output_type": "stream",
     "text": [
      "Processing Record 41 of Set 2 | athens\n"
     ]
    },
    {
     "name": "stderr",
     "output_type": "stream",
     "text": [
      "Traceback (most recent call last):\n",
      "  File \"<ipython-input-10-441c2514960e>\", line 40, in <module>\n",
      "    city_rain = city_weather['rain']['3h']\n",
      "KeyError: 'rain'\n"
     ]
    },
    {
     "name": "stdout",
     "output_type": "stream",
     "text": [
      "Processing Record 42 of Set 2 | lompoc\n"
     ]
    },
    {
     "name": "stderr",
     "output_type": "stream",
     "text": [
      "Traceback (most recent call last):\n",
      "  File \"<ipython-input-10-441c2514960e>\", line 40, in <module>\n",
      "    city_rain = city_weather['rain']['3h']\n",
      "KeyError: 'rain'\n"
     ]
    },
    {
     "name": "stdout",
     "output_type": "stream",
     "text": [
      "Processing Record 43 of Set 2 | griffith\n"
     ]
    },
    {
     "name": "stderr",
     "output_type": "stream",
     "text": [
      "Traceback (most recent call last):\n",
      "  File \"<ipython-input-10-441c2514960e>\", line 40, in <module>\n",
      "    city_rain = city_weather['rain']['3h']\n",
      "KeyError: 'rain'\n"
     ]
    },
    {
     "name": "stdout",
     "output_type": "stream",
     "text": [
      "Processing Record 44 of Set 2 | bathsheba\n"
     ]
    },
    {
     "name": "stderr",
     "output_type": "stream",
     "text": [
      "Traceback (most recent call last):\n",
      "  File \"<ipython-input-10-441c2514960e>\", line 40, in <module>\n",
      "    city_rain = city_weather['rain']['3h']\n",
      "KeyError: 'rain'\n"
     ]
    },
    {
     "name": "stdout",
     "output_type": "stream",
     "text": [
      "Processing Record 45 of Set 2 | yellowknife\n"
     ]
    },
    {
     "name": "stderr",
     "output_type": "stream",
     "text": [
      "Traceback (most recent call last):\n",
      "  File \"<ipython-input-10-441c2514960e>\", line 40, in <module>\n",
      "    city_rain = city_weather['rain']['3h']\n",
      "KeyError: 'rain'\n"
     ]
    },
    {
     "name": "stdout",
     "output_type": "stream",
     "text": [
      "Processing Record 46 of Set 2 | fortuna\n"
     ]
    },
    {
     "name": "stderr",
     "output_type": "stream",
     "text": [
      "Traceback (most recent call last):\n",
      "  File \"<ipython-input-10-441c2514960e>\", line 40, in <module>\n",
      "    city_rain = city_weather['rain']['3h']\n",
      "KeyError: 'rain'\n"
     ]
    },
    {
     "name": "stdout",
     "output_type": "stream",
     "text": [
      "Processing Record 47 of Set 2 | vertientes\n"
     ]
    },
    {
     "name": "stderr",
     "output_type": "stream",
     "text": [
      "Traceback (most recent call last):\n",
      "  File \"<ipython-input-10-441c2514960e>\", line 40, in <module>\n",
      "    city_rain = city_weather['rain']['3h']\n",
      "KeyError: 'rain'\n"
     ]
    },
    {
     "name": "stdout",
     "output_type": "stream",
     "text": [
      "Processing Record 48 of Set 2 | ribeira grande\n"
     ]
    },
    {
     "name": "stderr",
     "output_type": "stream",
     "text": [
      "Traceback (most recent call last):\n",
      "  File \"<ipython-input-10-441c2514960e>\", line 40, in <module>\n",
      "    city_rain = city_weather['rain']['3h']\n",
      "KeyError: 'rain'\n"
     ]
    },
    {
     "name": "stdout",
     "output_type": "stream",
     "text": [
      "Processing Record 49 of Set 2 | yinchuan\n"
     ]
    },
    {
     "name": "stderr",
     "output_type": "stream",
     "text": [
      "Traceback (most recent call last):\n",
      "  File \"<ipython-input-10-441c2514960e>\", line 40, in <module>\n",
      "    city_rain = city_weather['rain']['3h']\n",
      "KeyError: 'rain'\n"
     ]
    },
    {
     "name": "stdout",
     "output_type": "stream",
     "text": [
      "Processing Record 50 of Set 2 | irtyshskiy\n"
     ]
    },
    {
     "name": "stderr",
     "output_type": "stream",
     "text": [
      "Traceback (most recent call last):\n",
      "  File \"<ipython-input-10-441c2514960e>\", line 40, in <module>\n",
      "    city_rain = city_weather['rain']['3h']\n",
      "KeyError: 'rain'\n"
     ]
    },
    {
     "name": "stdout",
     "output_type": "stream",
     "text": [
      "Processing Record 1 of Set 3 | dalvik\n"
     ]
    },
    {
     "name": "stderr",
     "output_type": "stream",
     "text": [
      "Traceback (most recent call last):\n",
      "  File \"<ipython-input-10-441c2514960e>\", line 40, in <module>\n",
      "    city_rain = city_weather['rain']['3h']\n",
      "KeyError: 'rain'\n"
     ]
    },
    {
     "name": "stdout",
     "output_type": "stream",
     "text": [
      "Processing Record 2 of Set 3 | ahipara\n"
     ]
    },
    {
     "name": "stderr",
     "output_type": "stream",
     "text": [
      "Traceback (most recent call last):\n",
      "  File \"<ipython-input-10-441c2514960e>\", line 40, in <module>\n",
      "    city_rain = city_weather['rain']['3h']\n",
      "KeyError: 'rain'\n"
     ]
    },
    {
     "name": "stdout",
     "output_type": "stream",
     "text": [
      "Processing Record 3 of Set 3 | arlit\n"
     ]
    },
    {
     "name": "stderr",
     "output_type": "stream",
     "text": [
      "Traceback (most recent call last):\n",
      "  File \"<ipython-input-10-441c2514960e>\", line 40, in <module>\n",
      "    city_rain = city_weather['rain']['3h']\n",
      "KeyError: 'rain'\n"
     ]
    },
    {
     "name": "stdout",
     "output_type": "stream",
     "text": [
      "Processing Record 4 of Set 3 | attawapiskat\n"
     ]
    },
    {
     "name": "stderr",
     "output_type": "stream",
     "text": [
      "Traceback (most recent call last):\n",
      "  File \"<ipython-input-10-441c2514960e>\", line 32, in <module>\n",
      "    city_lat = city_weather[\"coord\"][\"lat\"]\n",
      "KeyError: 'coord'\n"
     ]
    },
    {
     "name": "stdout",
     "output_type": "stream",
     "text": [
      "Processing Record 5 of Set 3 | praia da vitoria\n"
     ]
    },
    {
     "name": "stderr",
     "output_type": "stream",
     "text": [
      "Traceback (most recent call last):\n",
      "  File \"<ipython-input-10-441c2514960e>\", line 40, in <module>\n",
      "    city_rain = city_weather['rain']['3h']\n",
      "KeyError: 'rain'\n"
     ]
    },
    {
     "name": "stdout",
     "output_type": "stream",
     "text": [
      "Processing Record 6 of Set 3 | mitu\n"
     ]
    },
    {
     "name": "stderr",
     "output_type": "stream",
     "text": [
      "Traceback (most recent call last):\n",
      "  File \"<ipython-input-10-441c2514960e>\", line 40, in <module>\n",
      "    city_rain = city_weather['rain']['3h']\n",
      "KeyError: 'rain'\n"
     ]
    },
    {
     "name": "stdout",
     "output_type": "stream",
     "text": [
      "Processing Record 7 of Set 3 | east london\n"
     ]
    },
    {
     "name": "stderr",
     "output_type": "stream",
     "text": [
      "Traceback (most recent call last):\n",
      "  File \"<ipython-input-10-441c2514960e>\", line 40, in <module>\n",
      "    city_rain = city_weather['rain']['3h']\n",
      "KeyError: 'rain'\n"
     ]
    },
    {
     "name": "stdout",
     "output_type": "stream",
     "text": [
      "Processing Record 8 of Set 3 | cidreira\n"
     ]
    },
    {
     "name": "stderr",
     "output_type": "stream",
     "text": [
      "Traceback (most recent call last):\n",
      "  File \"<ipython-input-10-441c2514960e>\", line 41, in <module>\n",
      "    city_snow = city_weather[\"snow\"][\"3h\"]\n",
      "KeyError: 'snow'\n"
     ]
    },
    {
     "name": "stdout",
     "output_type": "stream",
     "text": [
      "Processing Record 9 of Set 3 | ayan\n"
     ]
    },
    {
     "name": "stderr",
     "output_type": "stream",
     "text": [
      "Traceback (most recent call last):\n",
      "  File \"<ipython-input-10-441c2514960e>\", line 40, in <module>\n",
      "    city_rain = city_weather['rain']['3h']\n",
      "KeyError: 'rain'\n"
     ]
    },
    {
     "name": "stdout",
     "output_type": "stream",
     "text": [
      "Processing Record 10 of Set 3 | cap malheureux\n"
     ]
    },
    {
     "name": "stderr",
     "output_type": "stream",
     "text": [
      "Traceback (most recent call last):\n",
      "  File \"<ipython-input-10-441c2514960e>\", line 40, in <module>\n",
      "    city_rain = city_weather['rain']['3h']\n",
      "KeyError: '3h'\n"
     ]
    },
    {
     "name": "stdout",
     "output_type": "stream",
     "text": [
      "Processing Record 11 of Set 3 | kadoma\n"
     ]
    },
    {
     "name": "stderr",
     "output_type": "stream",
     "text": [
      "Traceback (most recent call last):\n",
      "  File \"<ipython-input-10-441c2514960e>\", line 40, in <module>\n",
      "    city_rain = city_weather['rain']['3h']\n",
      "KeyError: 'rain'\n"
     ]
    },
    {
     "name": "stdout",
     "output_type": "stream",
     "text": [
      "Processing Record 12 of Set 3 | port blair\n"
     ]
    },
    {
     "name": "stderr",
     "output_type": "stream",
     "text": [
      "Traceback (most recent call last):\n",
      "  File \"<ipython-input-10-441c2514960e>\", line 40, in <module>\n",
      "    city_rain = city_weather['rain']['3h']\n",
      "KeyError: 'rain'\n"
     ]
    },
    {
     "name": "stdout",
     "output_type": "stream",
     "text": [
      "Processing Record 13 of Set 3 | marsh harbour\n"
     ]
    },
    {
     "name": "stderr",
     "output_type": "stream",
     "text": [
      "Traceback (most recent call last):\n",
      "  File \"<ipython-input-10-441c2514960e>\", line 40, in <module>\n",
      "    city_rain = city_weather['rain']['3h']\n",
      "KeyError: 'rain'\n"
     ]
    },
    {
     "name": "stdout",
     "output_type": "stream",
     "text": [
      "Processing Record 14 of Set 3 | castro\n"
     ]
    },
    {
     "name": "stderr",
     "output_type": "stream",
     "text": [
      "Traceback (most recent call last):\n",
      "  File \"<ipython-input-10-441c2514960e>\", line 41, in <module>\n",
      "    city_snow = city_weather[\"snow\"][\"3h\"]\n",
      "KeyError: 'snow'\n"
     ]
    },
    {
     "name": "stdout",
     "output_type": "stream",
     "text": [
      "Processing Record 15 of Set 3 | souillac\n"
     ]
    },
    {
     "name": "stderr",
     "output_type": "stream",
     "text": [
      "Traceback (most recent call last):\n",
      "  File \"<ipython-input-10-441c2514960e>\", line 40, in <module>\n",
      "    city_rain = city_weather['rain']['3h']\n",
      "KeyError: 'rain'\n"
     ]
    },
    {
     "name": "stdout",
     "output_type": "stream",
     "text": [
      "Processing Record 16 of Set 3 | ust-maya\n"
     ]
    },
    {
     "name": "stderr",
     "output_type": "stream",
     "text": [
      "Traceback (most recent call last):\n",
      "  File \"<ipython-input-10-441c2514960e>\", line 40, in <module>\n",
      "    city_rain = city_weather['rain']['3h']\n",
      "KeyError: 'rain'\n"
     ]
    },
    {
     "name": "stdout",
     "output_type": "stream",
     "text": [
      "Processing Record 17 of Set 3 | alexandria\n"
     ]
    },
    {
     "name": "stderr",
     "output_type": "stream",
     "text": [
      "Traceback (most recent call last):\n",
      "  File \"<ipython-input-10-441c2514960e>\", line 40, in <module>\n",
      "    city_rain = city_weather['rain']['3h']\n",
      "KeyError: 'rain'\n"
     ]
    },
    {
     "name": "stdout",
     "output_type": "stream",
     "text": [
      "Processing Record 18 of Set 3 | sakaiminato\n"
     ]
    },
    {
     "name": "stderr",
     "output_type": "stream",
     "text": [
      "Traceback (most recent call last):\n",
      "  File \"<ipython-input-10-441c2514960e>\", line 40, in <module>\n",
      "    city_rain = city_weather['rain']['3h']\n",
      "KeyError: 'rain'\n"
     ]
    },
    {
     "name": "stdout",
     "output_type": "stream",
     "text": [
      "Processing Record 19 of Set 3 | tatawin\n"
     ]
    },
    {
     "name": "stderr",
     "output_type": "stream",
     "text": [
      "Traceback (most recent call last):\n",
      "  File \"<ipython-input-10-441c2514960e>\", line 40, in <module>\n",
      "    city_rain = city_weather['rain']['3h']\n",
      "KeyError: 'rain'\n"
     ]
    },
    {
     "name": "stdout",
     "output_type": "stream",
     "text": [
      "Processing Record 20 of Set 3 | lebu\n"
     ]
    },
    {
     "name": "stderr",
     "output_type": "stream",
     "text": [
      "Traceback (most recent call last):\n",
      "  File \"<ipython-input-10-441c2514960e>\", line 40, in <module>\n",
      "    city_rain = city_weather['rain']['3h']\n",
      "KeyError: 'rain'\n"
     ]
    },
    {
     "name": "stdout",
     "output_type": "stream",
     "text": [
      "Processing Record 21 of Set 3 | shcholkine\n"
     ]
    },
    {
     "name": "stderr",
     "output_type": "stream",
     "text": [
      "Traceback (most recent call last):\n",
      "  File \"<ipython-input-10-441c2514960e>\", line 32, in <module>\n",
      "    city_lat = city_weather[\"coord\"][\"lat\"]\n",
      "KeyError: 'coord'\n"
     ]
    },
    {
     "name": "stdout",
     "output_type": "stream",
     "text": [
      "Processing Record 22 of Set 3 | talnakh\n",
      "Processing Record 23 of Set 3 | caravelas\n"
     ]
    },
    {
     "name": "stderr",
     "output_type": "stream",
     "text": [
      "Traceback (most recent call last):\n",
      "  File \"<ipython-input-10-441c2514960e>\", line 40, in <module>\n",
      "    city_rain = city_weather['rain']['3h']\n",
      "KeyError: 'rain'\n",
      "Traceback (most recent call last):\n",
      "  File \"<ipython-input-10-441c2514960e>\", line 40, in <module>\n",
      "    city_rain = city_weather['rain']['3h']\n",
      "KeyError: 'rain'\n"
     ]
    },
    {
     "name": "stdout",
     "output_type": "stream",
     "text": [
      "Processing Record 24 of Set 3 | anloga\n"
     ]
    },
    {
     "name": "stderr",
     "output_type": "stream",
     "text": [
      "Traceback (most recent call last):\n",
      "  File \"<ipython-input-10-441c2514960e>\", line 40, in <module>\n",
      "    city_rain = city_weather['rain']['3h']\n",
      "KeyError: 'rain'\n"
     ]
    },
    {
     "name": "stdout",
     "output_type": "stream",
     "text": [
      "Processing Record 25 of Set 3 | whitehorse\n"
     ]
    },
    {
     "name": "stderr",
     "output_type": "stream",
     "text": [
      "Traceback (most recent call last):\n",
      "  File \"<ipython-input-10-441c2514960e>\", line 40, in <module>\n",
      "    city_rain = city_weather['rain']['3h']\n",
      "KeyError: 'rain'\n"
     ]
    },
    {
     "name": "stdout",
     "output_type": "stream",
     "text": [
      "Processing Record 26 of Set 3 | launceston\n"
     ]
    },
    {
     "name": "stderr",
     "output_type": "stream",
     "text": [
      "Traceback (most recent call last):\n",
      "  File \"<ipython-input-10-441c2514960e>\", line 40, in <module>\n",
      "    city_rain = city_weather['rain']['3h']\n",
      "KeyError: 'rain'\n"
     ]
    },
    {
     "name": "stdout",
     "output_type": "stream",
     "text": [
      "Processing Record 27 of Set 3 | ust-nera\n"
     ]
    },
    {
     "name": "stderr",
     "output_type": "stream",
     "text": [
      "Traceback (most recent call last):\n",
      "  File \"<ipython-input-10-441c2514960e>\", line 40, in <module>\n",
      "    city_rain = city_weather['rain']['3h']\n",
      "KeyError: 'rain'\n"
     ]
    },
    {
     "name": "stdout",
     "output_type": "stream",
     "text": [
      "Processing Record 28 of Set 3 | dovolnoye\n"
     ]
    },
    {
     "name": "stderr",
     "output_type": "stream",
     "text": [
      "Traceback (most recent call last):\n",
      "  File \"<ipython-input-10-441c2514960e>\", line 40, in <module>\n",
      "    city_rain = city_weather['rain']['3h']\n",
      "KeyError: 'rain'\n"
     ]
    },
    {
     "name": "stdout",
     "output_type": "stream",
     "text": [
      "Processing Record 29 of Set 3 | akyab\n"
     ]
    },
    {
     "name": "stderr",
     "output_type": "stream",
     "text": [
      "Traceback (most recent call last):\n",
      "  File \"<ipython-input-10-441c2514960e>\", line 40, in <module>\n",
      "    city_rain = city_weather['rain']['3h']\n",
      "KeyError: 'rain'\n"
     ]
    },
    {
     "name": "stdout",
     "output_type": "stream",
     "text": [
      "Processing Record 30 of Set 3 | borohradek\n"
     ]
    },
    {
     "name": "stderr",
     "output_type": "stream",
     "text": [
      "Traceback (most recent call last):\n",
      "  File \"<ipython-input-10-441c2514960e>\", line 41, in <module>\n",
      "    city_snow = city_weather[\"snow\"][\"3h\"]\n",
      "KeyError: 'snow'\n",
      "Traceback (most recent call last):\n",
      "  File \"<ipython-input-10-441c2514960e>\", line 40, in <module>\n",
      "    city_rain = city_weather['rain']['3h']\n",
      "KeyError: 'rain'\n"
     ]
    },
    {
     "name": "stdout",
     "output_type": "stream",
     "text": [
      "Processing Record 31 of Set 3 | kavieng\n",
      "Processing Record 32 of Set 3 | kaitangata\n"
     ]
    },
    {
     "name": "stderr",
     "output_type": "stream",
     "text": [
      "Traceback (most recent call last):\n",
      "  File \"<ipython-input-10-441c2514960e>\", line 40, in <module>\n",
      "    city_rain = city_weather['rain']['3h']\n",
      "KeyError: 'rain'\n"
     ]
    },
    {
     "name": "stdout",
     "output_type": "stream",
     "text": [
      "Processing Record 33 of Set 3 | iqaluit\n"
     ]
    },
    {
     "name": "stderr",
     "output_type": "stream",
     "text": [
      "Traceback (most recent call last):\n",
      "  File \"<ipython-input-10-441c2514960e>\", line 40, in <module>\n",
      "    city_rain = city_weather['rain']['3h']\n",
      "KeyError: 'rain'\n"
     ]
    },
    {
     "name": "stdout",
     "output_type": "stream",
     "text": [
      "Processing Record 34 of Set 3 | talara\n"
     ]
    },
    {
     "name": "stderr",
     "output_type": "stream",
     "text": [
      "Traceback (most recent call last):\n",
      "  File \"<ipython-input-10-441c2514960e>\", line 40, in <module>\n",
      "    city_rain = city_weather['rain']['3h']\n",
      "KeyError: 'rain'\n"
     ]
    },
    {
     "name": "stdout",
     "output_type": "stream",
     "text": [
      "Processing Record 35 of Set 3 | hay river\n"
     ]
    },
    {
     "name": "stderr",
     "output_type": "stream",
     "text": [
      "Traceback (most recent call last):\n",
      "  File \"<ipython-input-10-441c2514960e>\", line 40, in <module>\n",
      "    city_rain = city_weather['rain']['3h']\n",
      "KeyError: 'rain'\n"
     ]
    },
    {
     "name": "stdout",
     "output_type": "stream",
     "text": [
      "Processing Record 36 of Set 3 | georgetown\n"
     ]
    },
    {
     "name": "stderr",
     "output_type": "stream",
     "text": [
      "Traceback (most recent call last):\n",
      "  File \"<ipython-input-10-441c2514960e>\", line 40, in <module>\n",
      "    city_rain = city_weather['rain']['3h']\n",
      "KeyError: 'rain'\n"
     ]
    },
    {
     "name": "stdout",
     "output_type": "stream",
     "text": [
      "Processing Record 37 of Set 3 | albany\n"
     ]
    },
    {
     "name": "stderr",
     "output_type": "stream",
     "text": [
      "Traceback (most recent call last):\n",
      "  File \"<ipython-input-10-441c2514960e>\", line 40, in <module>\n",
      "    city_rain = city_weather['rain']['3h']\n",
      "KeyError: 'rain'\n"
     ]
    },
    {
     "name": "stdout",
     "output_type": "stream",
     "text": [
      "Processing Record 38 of Set 3 | san patricio\n"
     ]
    },
    {
     "name": "stderr",
     "output_type": "stream",
     "text": [
      "Traceback (most recent call last):\n",
      "  File \"<ipython-input-10-441c2514960e>\", line 40, in <module>\n",
      "    city_rain = city_weather['rain']['3h']\n",
      "KeyError: 'rain'\n"
     ]
    },
    {
     "name": "stdout",
     "output_type": "stream",
     "text": [
      "Processing Record 39 of Set 3 | thompson\n"
     ]
    },
    {
     "name": "stderr",
     "output_type": "stream",
     "text": [
      "Traceback (most recent call last):\n",
      "  File \"<ipython-input-10-441c2514960e>\", line 40, in <module>\n",
      "    city_rain = city_weather['rain']['3h']\n",
      "KeyError: 'rain'\n"
     ]
    },
    {
     "name": "stdout",
     "output_type": "stream",
     "text": [
      "Processing Record 40 of Set 3 | sentyabrskiy\n"
     ]
    },
    {
     "name": "stderr",
     "output_type": "stream",
     "text": [
      "Traceback (most recent call last):\n",
      "  File \"<ipython-input-10-441c2514960e>\", line 32, in <module>\n",
      "    city_lat = city_weather[\"coord\"][\"lat\"]\n",
      "KeyError: 'coord'\n"
     ]
    },
    {
     "name": "stdout",
     "output_type": "stream",
     "text": [
      "Processing Record 41 of Set 3 | pevek\n"
     ]
    },
    {
     "name": "stderr",
     "output_type": "stream",
     "text": [
      "Traceback (most recent call last):\n",
      "  File \"<ipython-input-10-441c2514960e>\", line 40, in <module>\n",
      "    city_rain = city_weather['rain']['3h']\n",
      "KeyError: 'rain'\n"
     ]
    },
    {
     "name": "stdout",
     "output_type": "stream",
     "text": [
      "Processing Record 42 of Set 3 | mehamn\n"
     ]
    },
    {
     "name": "stderr",
     "output_type": "stream",
     "text": [
      "Traceback (most recent call last):\n",
      "  File \"<ipython-input-10-441c2514960e>\", line 40, in <module>\n",
      "    city_rain = city_weather['rain']['3h']\n",
      "KeyError: 'rain'\n"
     ]
    },
    {
     "name": "stdout",
     "output_type": "stream",
     "text": [
      "Processing Record 43 of Set 3 | otjiwarongo\n"
     ]
    },
    {
     "name": "stderr",
     "output_type": "stream",
     "text": [
      "Traceback (most recent call last):\n",
      "  File \"<ipython-input-10-441c2514960e>\", line 41, in <module>\n",
      "    city_snow = city_weather[\"snow\"][\"3h\"]\n",
      "KeyError: 'snow'\n"
     ]
    },
    {
     "name": "stdout",
     "output_type": "stream",
     "text": [
      "Processing Record 44 of Set 3 | qaanaaq\n"
     ]
    },
    {
     "name": "stderr",
     "output_type": "stream",
     "text": [
      "Traceback (most recent call last):\n",
      "  File \"<ipython-input-10-441c2514960e>\", line 40, in <module>\n",
      "    city_rain = city_weather['rain']['3h']\n",
      "KeyError: 'rain'\n"
     ]
    },
    {
     "name": "stdout",
     "output_type": "stream",
     "text": [
      "Processing Record 45 of Set 3 | port alfred\n"
     ]
    },
    {
     "name": "stderr",
     "output_type": "stream",
     "text": [
      "Traceback (most recent call last):\n",
      "  File \"<ipython-input-10-441c2514960e>\", line 40, in <module>\n",
      "    city_rain = city_weather['rain']['3h']\n",
      "KeyError: 'rain'\n"
     ]
    },
    {
     "name": "stdout",
     "output_type": "stream",
     "text": [
      "Processing Record 46 of Set 3 | manaus\n"
     ]
    },
    {
     "name": "stderr",
     "output_type": "stream",
     "text": [
      "Traceback (most recent call last):\n",
      "  File \"<ipython-input-10-441c2514960e>\", line 40, in <module>\n",
      "    city_rain = city_weather['rain']['3h']\n",
      "KeyError: 'rain'\n"
     ]
    },
    {
     "name": "stdout",
     "output_type": "stream",
     "text": [
      "Processing Record 47 of Set 3 | necochea\n"
     ]
    },
    {
     "name": "stderr",
     "output_type": "stream",
     "text": [
      "Traceback (most recent call last):\n",
      "  File \"<ipython-input-10-441c2514960e>\", line 40, in <module>\n",
      "    city_rain = city_weather['rain']['3h']\n",
      "KeyError: 'rain'\n"
     ]
    },
    {
     "name": "stdout",
     "output_type": "stream",
     "text": [
      "Processing Record 48 of Set 3 | muddebihal\n"
     ]
    },
    {
     "name": "stderr",
     "output_type": "stream",
     "text": [
      "Traceback (most recent call last):\n",
      "  File \"<ipython-input-10-441c2514960e>\", line 40, in <module>\n",
      "    city_rain = city_weather['rain']['3h']\n",
      "KeyError: 'rain'\n"
     ]
    },
    {
     "name": "stdout",
     "output_type": "stream",
     "text": [
      "Processing Record 49 of Set 3 | vila velha\n"
     ]
    },
    {
     "name": "stderr",
     "output_type": "stream",
     "text": [
      "Traceback (most recent call last):\n",
      "  File \"<ipython-input-10-441c2514960e>\", line 40, in <module>\n",
      "    city_rain = city_weather['rain']['3h']\n",
      "KeyError: 'rain'\n"
     ]
    },
    {
     "name": "stdout",
     "output_type": "stream",
     "text": [
      "Processing Record 50 of Set 3 | maceio\n"
     ]
    },
    {
     "name": "stderr",
     "output_type": "stream",
     "text": [
      "Traceback (most recent call last):\n",
      "  File \"<ipython-input-10-441c2514960e>\", line 40, in <module>\n",
      "    city_rain = city_weather['rain']['3h']\n",
      "KeyError: 'rain'\n"
     ]
    },
    {
     "name": "stdout",
     "output_type": "stream",
     "text": [
      "Processing Record 1 of Set 4 | lorengau\n"
     ]
    },
    {
     "name": "stderr",
     "output_type": "stream",
     "text": [
      "Traceback (most recent call last):\n",
      "  File \"<ipython-input-10-441c2514960e>\", line 40, in <module>\n",
      "    city_rain = city_weather['rain']['3h']\n",
      "KeyError: 'rain'\n"
     ]
    },
    {
     "name": "stdout",
     "output_type": "stream",
     "text": [
      "Processing Record 2 of Set 4 | kavaratti\n"
     ]
    },
    {
     "name": "stderr",
     "output_type": "stream",
     "text": [
      "Traceback (most recent call last):\n",
      "  File \"<ipython-input-10-441c2514960e>\", line 40, in <module>\n",
      "    city_rain = city_weather['rain']['3h']\n",
      "KeyError: 'rain'\n"
     ]
    },
    {
     "name": "stdout",
     "output_type": "stream",
     "text": [
      "Processing Record 3 of Set 4 | taoudenni\n"
     ]
    },
    {
     "name": "stderr",
     "output_type": "stream",
     "text": [
      "Traceback (most recent call last):\n",
      "  File \"<ipython-input-10-441c2514960e>\", line 40, in <module>\n",
      "    city_rain = city_weather['rain']['3h']\n",
      "KeyError: 'rain'\n"
     ]
    },
    {
     "name": "stdout",
     "output_type": "stream",
     "text": [
      "Processing Record 4 of Set 4 | nemuro\n"
     ]
    },
    {
     "name": "stderr",
     "output_type": "stream",
     "text": [
      "Traceback (most recent call last):\n",
      "  File \"<ipython-input-10-441c2514960e>\", line 40, in <module>\n",
      "    city_rain = city_weather['rain']['3h']\n",
      "KeyError: 'rain'\n"
     ]
    },
    {
     "name": "stdout",
     "output_type": "stream",
     "text": [
      "Processing Record 5 of Set 4 | khorol\n"
     ]
    },
    {
     "name": "stderr",
     "output_type": "stream",
     "text": [
      "Traceback (most recent call last):\n",
      "  File \"<ipython-input-10-441c2514960e>\", line 40, in <module>\n",
      "    city_rain = city_weather['rain']['3h']\n",
      "KeyError: 'rain'\n"
     ]
    },
    {
     "name": "stdout",
     "output_type": "stream",
     "text": [
      "Processing Record 6 of Set 4 | tsihombe\n"
     ]
    },
    {
     "name": "stderr",
     "output_type": "stream",
     "text": [
      "Traceback (most recent call last):\n",
      "  File \"<ipython-input-10-441c2514960e>\", line 32, in <module>\n",
      "    city_lat = city_weather[\"coord\"][\"lat\"]\n",
      "KeyError: 'coord'\n"
     ]
    },
    {
     "name": "stdout",
     "output_type": "stream",
     "text": [
      "Processing Record 7 of Set 4 | provideniya\n"
     ]
    },
    {
     "name": "stderr",
     "output_type": "stream",
     "text": [
      "Traceback (most recent call last):\n",
      "  File \"<ipython-input-10-441c2514960e>\", line 40, in <module>\n",
      "    city_rain = city_weather['rain']['3h']\n",
      "KeyError: 'rain'\n"
     ]
    },
    {
     "name": "stdout",
     "output_type": "stream",
     "text": [
      "Processing Record 8 of Set 4 | camacupa\n"
     ]
    },
    {
     "name": "stderr",
     "output_type": "stream",
     "text": [
      "Traceback (most recent call last):\n",
      "  File \"<ipython-input-10-441c2514960e>\", line 40, in <module>\n",
      "    city_rain = city_weather['rain']['3h']\n",
      "KeyError: 'rain'\n"
     ]
    },
    {
     "name": "stdout",
     "output_type": "stream",
     "text": [
      "Processing Record 9 of Set 4 | deputatskiy\n"
     ]
    },
    {
     "name": "stderr",
     "output_type": "stream",
     "text": [
      "Traceback (most recent call last):\n",
      "  File \"<ipython-input-10-441c2514960e>\", line 40, in <module>\n",
      "    city_rain = city_weather['rain']['3h']\n",
      "KeyError: 'rain'\n"
     ]
    },
    {
     "name": "stdout",
     "output_type": "stream",
     "text": [
      "Processing Record 10 of Set 4 | almeirim\n"
     ]
    },
    {
     "name": "stderr",
     "output_type": "stream",
     "text": [
      "Traceback (most recent call last):\n",
      "  File \"<ipython-input-10-441c2514960e>\", line 41, in <module>\n",
      "    city_snow = city_weather[\"snow\"][\"3h\"]\n",
      "KeyError: 'snow'\n"
     ]
    },
    {
     "name": "stdout",
     "output_type": "stream",
     "text": [
      "Processing Record 11 of Set 4 | jaru\n"
     ]
    },
    {
     "name": "stderr",
     "output_type": "stream",
     "text": [
      "Traceback (most recent call last):\n",
      "  File \"<ipython-input-10-441c2514960e>\", line 41, in <module>\n",
      "    city_snow = city_weather[\"snow\"][\"3h\"]\n",
      "KeyError: 'snow'\n"
     ]
    },
    {
     "name": "stdout",
     "output_type": "stream",
     "text": [
      "Processing Record 12 of Set 4 | micheweni\n"
     ]
    },
    {
     "name": "stderr",
     "output_type": "stream",
     "text": [
      "Traceback (most recent call last):\n",
      "  File \"<ipython-input-10-441c2514960e>\", line 40, in <module>\n",
      "    city_rain = city_weather['rain']['3h']\n",
      "KeyError: 'rain'\n"
     ]
    },
    {
     "name": "stdout",
     "output_type": "stream",
     "text": [
      "Processing Record 13 of Set 4 | longyearbyen\n"
     ]
    },
    {
     "name": "stderr",
     "output_type": "stream",
     "text": [
      "Traceback (most recent call last):\n",
      "  File \"<ipython-input-10-441c2514960e>\", line 40, in <module>\n",
      "    city_rain = city_weather['rain']['3h']\n",
      "KeyError: 'rain'\n"
     ]
    },
    {
     "name": "stdout",
     "output_type": "stream",
     "text": [
      "Processing Record 14 of Set 4 | hithadhoo\n"
     ]
    },
    {
     "name": "stderr",
     "output_type": "stream",
     "text": [
      "Traceback (most recent call last):\n",
      "  File \"<ipython-input-10-441c2514960e>\", line 41, in <module>\n",
      "    city_snow = city_weather[\"snow\"][\"3h\"]\n",
      "KeyError: 'snow'\n"
     ]
    },
    {
     "name": "stdout",
     "output_type": "stream",
     "text": [
      "Processing Record 15 of Set 4 | khandyga\n"
     ]
    },
    {
     "name": "stderr",
     "output_type": "stream",
     "text": [
      "Traceback (most recent call last):\n",
      "  File \"<ipython-input-10-441c2514960e>\", line 40, in <module>\n",
      "    city_rain = city_weather['rain']['3h']\n",
      "KeyError: 'rain'\n"
     ]
    },
    {
     "name": "stdout",
     "output_type": "stream",
     "text": [
      "Processing Record 16 of Set 4 | klaksvik\n"
     ]
    },
    {
     "name": "stderr",
     "output_type": "stream",
     "text": [
      "Traceback (most recent call last):\n",
      "  File \"<ipython-input-10-441c2514960e>\", line 41, in <module>\n",
      "    city_snow = city_weather[\"snow\"][\"3h\"]\n",
      "KeyError: 'snow'\n"
     ]
    },
    {
     "name": "stdout",
     "output_type": "stream",
     "text": [
      "Processing Record 17 of Set 4 | saint-georges\n"
     ]
    },
    {
     "name": "stderr",
     "output_type": "stream",
     "text": [
      "Traceback (most recent call last):\n",
      "  File \"<ipython-input-10-441c2514960e>\", line 40, in <module>\n",
      "    city_rain = city_weather['rain']['3h']\n",
      "KeyError: 'rain'\n"
     ]
    },
    {
     "name": "stdout",
     "output_type": "stream",
     "text": [
      "Processing Record 18 of Set 4 | mabamba\n"
     ]
    },
    {
     "name": "stderr",
     "output_type": "stream",
     "text": [
      "Traceback (most recent call last):\n",
      "  File \"<ipython-input-10-441c2514960e>\", line 41, in <module>\n",
      "    city_snow = city_weather[\"snow\"][\"3h\"]\n",
      "KeyError: 'snow'\n"
     ]
    },
    {
     "name": "stdout",
     "output_type": "stream",
     "text": [
      "Processing Record 19 of Set 4 | ponta delgada\n"
     ]
    },
    {
     "name": "stderr",
     "output_type": "stream",
     "text": [
      "Traceback (most recent call last):\n",
      "  File \"<ipython-input-10-441c2514960e>\", line 40, in <module>\n",
      "    city_rain = city_weather['rain']['3h']\n",
      "KeyError: 'rain'\n"
     ]
    },
    {
     "name": "stdout",
     "output_type": "stream",
     "text": [
      "Processing Record 20 of Set 4 | mackay\n"
     ]
    },
    {
     "name": "stderr",
     "output_type": "stream",
     "text": [
      "Traceback (most recent call last):\n",
      "  File \"<ipython-input-10-441c2514960e>\", line 40, in <module>\n",
      "    city_rain = city_weather['rain']['3h']\n",
      "KeyError: 'rain'\n"
     ]
    },
    {
     "name": "stdout",
     "output_type": "stream",
     "text": [
      "Processing Record 21 of Set 4 | pacific grove\n"
     ]
    },
    {
     "name": "stderr",
     "output_type": "stream",
     "text": [
      "Traceback (most recent call last):\n",
      "  File \"<ipython-input-10-441c2514960e>\", line 40, in <module>\n",
      "    city_rain = city_weather['rain']['3h']\n",
      "KeyError: 'rain'\n"
     ]
    },
    {
     "name": "stdout",
     "output_type": "stream",
     "text": [
      "Processing Record 22 of Set 4 | ilave\n"
     ]
    },
    {
     "name": "stderr",
     "output_type": "stream",
     "text": [
      "Traceback (most recent call last):\n",
      "  File \"<ipython-input-10-441c2514960e>\", line 41, in <module>\n",
      "    city_snow = city_weather[\"snow\"][\"3h\"]\n",
      "KeyError: 'snow'\n"
     ]
    },
    {
     "name": "stdout",
     "output_type": "stream",
     "text": [
      "Processing Record 23 of Set 4 | upernavik\n"
     ]
    },
    {
     "name": "stderr",
     "output_type": "stream",
     "text": [
      "Traceback (most recent call last):\n",
      "  File \"<ipython-input-10-441c2514960e>\", line 40, in <module>\n",
      "    city_rain = city_weather['rain']['3h']\n",
      "KeyError: 'rain'\n"
     ]
    },
    {
     "name": "stdout",
     "output_type": "stream",
     "text": [
      "Processing Record 24 of Set 4 | severo-kurilsk\n"
     ]
    },
    {
     "name": "stderr",
     "output_type": "stream",
     "text": [
      "Traceback (most recent call last):\n",
      "  File \"<ipython-input-10-441c2514960e>\", line 40, in <module>\n",
      "    city_rain = city_weather['rain']['3h']\n",
      "KeyError: 'rain'\n"
     ]
    },
    {
     "name": "stdout",
     "output_type": "stream",
     "text": [
      "Processing Record 25 of Set 4 | kamyshin\n"
     ]
    },
    {
     "name": "stderr",
     "output_type": "stream",
     "text": [
      "Traceback (most recent call last):\n",
      "  File \"<ipython-input-10-441c2514960e>\", line 40, in <module>\n",
      "    city_rain = city_weather['rain']['3h']\n",
      "KeyError: 'rain'\n"
     ]
    },
    {
     "name": "stdout",
     "output_type": "stream",
     "text": [
      "Processing Record 26 of Set 4 | aykhal\n"
     ]
    },
    {
     "name": "stderr",
     "output_type": "stream",
     "text": [
      "Traceback (most recent call last):\n",
      "  File \"<ipython-input-10-441c2514960e>\", line 40, in <module>\n",
      "    city_rain = city_weather['rain']['3h']\n",
      "KeyError: 'rain'\n"
     ]
    },
    {
     "name": "stdout",
     "output_type": "stream",
     "text": [
      "Processing Record 27 of Set 4 | nakamura\n"
     ]
    },
    {
     "name": "stderr",
     "output_type": "stream",
     "text": [
      "Traceback (most recent call last):\n",
      "  File \"<ipython-input-10-441c2514960e>\", line 40, in <module>\n",
      "    city_rain = city_weather['rain']['3h']\n",
      "KeyError: 'rain'\n"
     ]
    },
    {
     "name": "stdout",
     "output_type": "stream",
     "text": [
      "Processing Record 28 of Set 4 | lolua\n"
     ]
    },
    {
     "name": "stderr",
     "output_type": "stream",
     "text": [
      "Traceback (most recent call last):\n",
      "  File \"<ipython-input-10-441c2514960e>\", line 32, in <module>\n",
      "    city_lat = city_weather[\"coord\"][\"lat\"]\n",
      "KeyError: 'coord'\n"
     ]
    },
    {
     "name": "stdout",
     "output_type": "stream",
     "text": [
      "Processing Record 29 of Set 4 | tuktoyaktuk\n"
     ]
    },
    {
     "name": "stderr",
     "output_type": "stream",
     "text": [
      "Traceback (most recent call last):\n",
      "  File \"<ipython-input-10-441c2514960e>\", line 40, in <module>\n",
      "    city_rain = city_weather['rain']['3h']\n",
      "KeyError: 'rain'\n"
     ]
    },
    {
     "name": "stdout",
     "output_type": "stream",
     "text": [
      "Processing Record 30 of Set 4 | prado\n"
     ]
    },
    {
     "name": "stderr",
     "output_type": "stream",
     "text": [
      "Traceback (most recent call last):\n",
      "  File \"<ipython-input-10-441c2514960e>\", line 40, in <module>\n",
      "    city_rain = city_weather['rain']['3h']\n",
      "KeyError: 'rain'\n"
     ]
    },
    {
     "name": "stdout",
     "output_type": "stream",
     "text": [
      "Processing Record 31 of Set 4 | borazjan\n"
     ]
    },
    {
     "name": "stderr",
     "output_type": "stream",
     "text": [
      "Traceback (most recent call last):\n",
      "  File \"<ipython-input-10-441c2514960e>\", line 40, in <module>\n",
      "    city_rain = city_weather['rain']['3h']\n",
      "KeyError: 'rain'\n"
     ]
    },
    {
     "name": "stdout",
     "output_type": "stream",
     "text": [
      "Processing Record 32 of Set 4 | port pirie\n"
     ]
    },
    {
     "name": "stderr",
     "output_type": "stream",
     "text": [
      "Traceback (most recent call last):\n",
      "  File \"<ipython-input-10-441c2514960e>\", line 40, in <module>\n",
      "    city_rain = city_weather['rain']['3h']\n",
      "KeyError: 'rain'\n"
     ]
    },
    {
     "name": "stdout",
     "output_type": "stream",
     "text": [
      "Processing Record 33 of Set 4 | plettenberg bay\n"
     ]
    },
    {
     "name": "stderr",
     "output_type": "stream",
     "text": [
      "Traceback (most recent call last):\n",
      "  File \"<ipython-input-10-441c2514960e>\", line 40, in <module>\n",
      "    city_rain = city_weather['rain']['3h']\n",
      "KeyError: 'rain'\n"
     ]
    },
    {
     "name": "stdout",
     "output_type": "stream",
     "text": [
      "Processing Record 34 of Set 4 | bredasdorp\n"
     ]
    },
    {
     "name": "stderr",
     "output_type": "stream",
     "text": [
      "Traceback (most recent call last):\n",
      "  File \"<ipython-input-10-441c2514960e>\", line 40, in <module>\n",
      "    city_rain = city_weather['rain']['3h']\n",
      "KeyError: 'rain'\n"
     ]
    },
    {
     "name": "stdout",
     "output_type": "stream",
     "text": [
      "Processing Record 35 of Set 4 | asyut\n"
     ]
    },
    {
     "name": "stderr",
     "output_type": "stream",
     "text": [
      "Traceback (most recent call last):\n",
      "  File \"<ipython-input-10-441c2514960e>\", line 40, in <module>\n",
      "    city_rain = city_weather['rain']['3h']\n",
      "KeyError: 'rain'\n"
     ]
    },
    {
     "name": "stdout",
     "output_type": "stream",
     "text": [
      "Processing Record 36 of Set 4 | roma\n"
     ]
    },
    {
     "name": "stderr",
     "output_type": "stream",
     "text": [
      "Traceback (most recent call last):\n",
      "  File \"<ipython-input-10-441c2514960e>\", line 40, in <module>\n",
      "    city_rain = city_weather['rain']['3h']\n",
      "KeyError: 'rain'\n"
     ]
    },
    {
     "name": "stdout",
     "output_type": "stream",
     "text": [
      "Processing Record 37 of Set 4 | airai\n"
     ]
    },
    {
     "name": "stderr",
     "output_type": "stream",
     "text": [
      "Traceback (most recent call last):\n",
      "  File \"<ipython-input-10-441c2514960e>\", line 40, in <module>\n",
      "    city_rain = city_weather['rain']['3h']\n",
      "KeyError: 'rain'\n"
     ]
    },
    {
     "name": "stdout",
     "output_type": "stream",
     "text": [
      "Processing Record 38 of Set 4 | fengzhen\n"
     ]
    },
    {
     "name": "stderr",
     "output_type": "stream",
     "text": [
      "Traceback (most recent call last):\n",
      "  File \"<ipython-input-10-441c2514960e>\", line 40, in <module>\n",
      "    city_rain = city_weather['rain']['3h']\n",
      "KeyError: 'rain'\n"
     ]
    },
    {
     "name": "stdout",
     "output_type": "stream",
     "text": [
      "Processing Record 39 of Set 4 | belmonte\n"
     ]
    },
    {
     "name": "stderr",
     "output_type": "stream",
     "text": [
      "Traceback (most recent call last):\n",
      "  File \"<ipython-input-10-441c2514960e>\", line 40, in <module>\n",
      "    city_rain = city_weather['rain']['3h']\n",
      "KeyError: 'rain'\n"
     ]
    },
    {
     "name": "stdout",
     "output_type": "stream",
     "text": [
      "Processing Record 40 of Set 4 | talah\n"
     ]
    },
    {
     "name": "stderr",
     "output_type": "stream",
     "text": [
      "Traceback (most recent call last):\n",
      "  File \"<ipython-input-10-441c2514960e>\", line 32, in <module>\n",
      "    city_lat = city_weather[\"coord\"][\"lat\"]\n",
      "KeyError: 'coord'\n"
     ]
    },
    {
     "name": "stdout",
     "output_type": "stream",
     "text": [
      "Processing Record 41 of Set 4 | ketchikan\n"
     ]
    },
    {
     "name": "stderr",
     "output_type": "stream",
     "text": [
      "Traceback (most recent call last):\n",
      "  File \"<ipython-input-10-441c2514960e>\", line 40, in <module>\n",
      "    city_rain = city_weather['rain']['3h']\n",
      "KeyError: 'rain'\n"
     ]
    },
    {
     "name": "stdout",
     "output_type": "stream",
     "text": [
      "Processing Record 42 of Set 4 | aklavik\n"
     ]
    },
    {
     "name": "stderr",
     "output_type": "stream",
     "text": [
      "Traceback (most recent call last):\n",
      "  File \"<ipython-input-10-441c2514960e>\", line 40, in <module>\n",
      "    city_rain = city_weather['rain']['3h']\n",
      "KeyError: 'rain'\n"
     ]
    },
    {
     "name": "stdout",
     "output_type": "stream",
     "text": [
      "Processing Record 43 of Set 4 | dakoro\n"
     ]
    },
    {
     "name": "stderr",
     "output_type": "stream",
     "text": [
      "Traceback (most recent call last):\n",
      "  File \"<ipython-input-10-441c2514960e>\", line 40, in <module>\n",
      "    city_rain = city_weather['rain']['3h']\n",
      "KeyError: 'rain'\n"
     ]
    },
    {
     "name": "stdout",
     "output_type": "stream",
     "text": [
      "Processing Record 44 of Set 4 | alma\n"
     ]
    },
    {
     "name": "stderr",
     "output_type": "stream",
     "text": [
      "Traceback (most recent call last):\n",
      "  File \"<ipython-input-10-441c2514960e>\", line 40, in <module>\n",
      "    city_rain = city_weather['rain']['3h']\n",
      "KeyError: 'rain'\n"
     ]
    },
    {
     "name": "stdout",
     "output_type": "stream",
     "text": [
      "Processing Record 45 of Set 4 | broome\n"
     ]
    },
    {
     "name": "stderr",
     "output_type": "stream",
     "text": [
      "Traceback (most recent call last):\n",
      "  File \"<ipython-input-10-441c2514960e>\", line 40, in <module>\n",
      "    city_rain = city_weather['rain']['3h']\n",
      "KeyError: 'rain'\n"
     ]
    },
    {
     "name": "stdout",
     "output_type": "stream",
     "text": [
      "Processing Record 46 of Set 4 | odesskoye\n"
     ]
    },
    {
     "name": "stderr",
     "output_type": "stream",
     "text": [
      "Traceback (most recent call last):\n",
      "  File \"<ipython-input-10-441c2514960e>\", line 40, in <module>\n",
      "    city_rain = city_weather['rain']['3h']\n",
      "KeyError: 'rain'\n"
     ]
    },
    {
     "name": "stdout",
     "output_type": "stream",
     "text": [
      "Processing Record 47 of Set 4 | palabuhanratu\n"
     ]
    },
    {
     "name": "stderr",
     "output_type": "stream",
     "text": [
      "Traceback (most recent call last):\n",
      "  File \"<ipython-input-10-441c2514960e>\", line 32, in <module>\n",
      "    city_lat = city_weather[\"coord\"][\"lat\"]\n",
      "KeyError: 'coord'\n"
     ]
    },
    {
     "name": "stdout",
     "output_type": "stream",
     "text": [
      "Processing Record 48 of Set 4 | norman wells\n"
     ]
    },
    {
     "name": "stderr",
     "output_type": "stream",
     "text": [
      "Traceback (most recent call last):\n",
      "  File \"<ipython-input-10-441c2514960e>\", line 40, in <module>\n",
      "    city_rain = city_weather['rain']['3h']\n",
      "KeyError: 'rain'\n"
     ]
    },
    {
     "name": "stdout",
     "output_type": "stream",
     "text": [
      "Processing Record 49 of Set 4 | daur\n"
     ]
    },
    {
     "name": "stderr",
     "output_type": "stream",
     "text": [
      "Traceback (most recent call last):\n",
      "  File \"<ipython-input-10-441c2514960e>\", line 40, in <module>\n",
      "    city_rain = city_weather['rain']['3h']\n",
      "KeyError: 'rain'\n"
     ]
    },
    {
     "name": "stdout",
     "output_type": "stream",
     "text": [
      "Processing Record 50 of Set 4 | avarua\n"
     ]
    },
    {
     "name": "stderr",
     "output_type": "stream",
     "text": [
      "Traceback (most recent call last):\n",
      "  File \"<ipython-input-10-441c2514960e>\", line 40, in <module>\n",
      "    city_rain = city_weather['rain']['3h']\n",
      "KeyError: 'rain'\n"
     ]
    },
    {
     "name": "stdout",
     "output_type": "stream",
     "text": [
      "Processing Record 1 of Set 5 | porto novo\n"
     ]
    },
    {
     "name": "stderr",
     "output_type": "stream",
     "text": [
      "Traceback (most recent call last):\n",
      "  File \"<ipython-input-10-441c2514960e>\", line 40, in <module>\n",
      "    city_rain = city_weather['rain']['3h']\n",
      "KeyError: 'rain'\n"
     ]
    },
    {
     "name": "stdout",
     "output_type": "stream",
     "text": [
      "Processing Record 2 of Set 5 | ancona\n"
     ]
    },
    {
     "name": "stderr",
     "output_type": "stream",
     "text": [
      "Traceback (most recent call last):\n",
      "  File \"<ipython-input-10-441c2514960e>\", line 40, in <module>\n",
      "    city_rain = city_weather['rain']['3h']\n",
      "KeyError: 'rain'\n"
     ]
    },
    {
     "name": "stdout",
     "output_type": "stream",
     "text": [
      "Processing Record 3 of Set 5 | port hedland\n"
     ]
    },
    {
     "name": "stderr",
     "output_type": "stream",
     "text": [
      "Traceback (most recent call last):\n",
      "  File \"<ipython-input-10-441c2514960e>\", line 40, in <module>\n",
      "    city_rain = city_weather['rain']['3h']\n",
      "KeyError: 'rain'\n"
     ]
    },
    {
     "name": "stdout",
     "output_type": "stream",
     "text": [
      "Processing Record 4 of Set 5 | clyde river\n"
     ]
    },
    {
     "name": "stderr",
     "output_type": "stream",
     "text": [
      "Traceback (most recent call last):\n",
      "  File \"<ipython-input-10-441c2514960e>\", line 40, in <module>\n",
      "    city_rain = city_weather['rain']['3h']\n",
      "KeyError: 'rain'\n"
     ]
    },
    {
     "name": "stdout",
     "output_type": "stream",
     "text": [
      "Processing Record 5 of Set 5 | uwayl\n"
     ]
    },
    {
     "name": "stderr",
     "output_type": "stream",
     "text": [
      "Traceback (most recent call last):\n",
      "  File \"<ipython-input-10-441c2514960e>\", line 32, in <module>\n",
      "    city_lat = city_weather[\"coord\"][\"lat\"]\n",
      "KeyError: 'coord'\n"
     ]
    },
    {
     "name": "stdout",
     "output_type": "stream",
     "text": [
      "Processing Record 6 of Set 5 | tieli\n"
     ]
    },
    {
     "name": "stderr",
     "output_type": "stream",
     "text": [
      "Traceback (most recent call last):\n",
      "  File \"<ipython-input-10-441c2514960e>\", line 40, in <module>\n",
      "    city_rain = city_weather['rain']['3h']\n",
      "KeyError: 'rain'\n"
     ]
    },
    {
     "name": "stdout",
     "output_type": "stream",
     "text": [
      "Processing Record 7 of Set 5 | maragogi\n"
     ]
    },
    {
     "name": "stderr",
     "output_type": "stream",
     "text": [
      "Traceback (most recent call last):\n",
      "  File \"<ipython-input-10-441c2514960e>\", line 41, in <module>\n",
      "    city_snow = city_weather[\"snow\"][\"3h\"]\n",
      "KeyError: 'snow'\n"
     ]
    },
    {
     "name": "stdout",
     "output_type": "stream",
     "text": [
      "Processing Record 8 of Set 5 | laguna\n"
     ]
    },
    {
     "name": "stderr",
     "output_type": "stream",
     "text": [
      "Traceback (most recent call last):\n",
      "  File \"<ipython-input-10-441c2514960e>\", line 40, in <module>\n",
      "    city_rain = city_weather['rain']['3h']\n",
      "KeyError: 'rain'\n"
     ]
    },
    {
     "name": "stdout",
     "output_type": "stream",
     "text": [
      "Processing Record 9 of Set 5 | salalah\n"
     ]
    },
    {
     "name": "stderr",
     "output_type": "stream",
     "text": [
      "Traceback (most recent call last):\n",
      "  File \"<ipython-input-10-441c2514960e>\", line 40, in <module>\n",
      "    city_rain = city_weather['rain']['3h']\n",
      "KeyError: 'rain'\n"
     ]
    },
    {
     "name": "stdout",
     "output_type": "stream",
     "text": [
      "Processing Record 10 of Set 5 | mugla\n"
     ]
    },
    {
     "name": "stderr",
     "output_type": "stream",
     "text": [
      "Traceback (most recent call last):\n",
      "  File \"<ipython-input-10-441c2514960e>\", line 40, in <module>\n",
      "    city_rain = city_weather['rain']['3h']\n",
      "KeyError: 'rain'\n"
     ]
    },
    {
     "name": "stdout",
     "output_type": "stream",
     "text": [
      "Processing Record 11 of Set 5 | charters towers\n"
     ]
    },
    {
     "name": "stderr",
     "output_type": "stream",
     "text": [
      "Traceback (most recent call last):\n",
      "  File \"<ipython-input-10-441c2514960e>\", line 40, in <module>\n",
      "    city_rain = city_weather['rain']['3h']\n",
      "KeyError: 'rain'\n"
     ]
    },
    {
     "name": "stdout",
     "output_type": "stream",
     "text": [
      "Processing Record 12 of Set 5 | jalu\n"
     ]
    },
    {
     "name": "stderr",
     "output_type": "stream",
     "text": [
      "Traceback (most recent call last):\n",
      "  File \"<ipython-input-10-441c2514960e>\", line 40, in <module>\n",
      "    city_rain = city_weather['rain']['3h']\n",
      "KeyError: 'rain'\n"
     ]
    },
    {
     "name": "stdout",
     "output_type": "stream",
     "text": [
      "Processing Record 13 of Set 5 | isangel\n"
     ]
    },
    {
     "name": "stderr",
     "output_type": "stream",
     "text": [
      "Traceback (most recent call last):\n",
      "  File \"<ipython-input-10-441c2514960e>\", line 40, in <module>\n",
      "    city_rain = city_weather['rain']['3h']\n",
      "KeyError: 'rain'\n"
     ]
    },
    {
     "name": "stdout",
     "output_type": "stream",
     "text": [
      "Processing Record 14 of Set 5 | banda\n"
     ]
    },
    {
     "name": "stderr",
     "output_type": "stream",
     "text": [
      "Traceback (most recent call last):\n",
      "  File \"<ipython-input-10-441c2514960e>\", line 40, in <module>\n",
      "    city_rain = city_weather['rain']['3h']\n",
      "KeyError: 'rain'\n"
     ]
    },
    {
     "name": "stdout",
     "output_type": "stream",
     "text": [
      "Processing Record 15 of Set 5 | makakilo city\n"
     ]
    },
    {
     "name": "stderr",
     "output_type": "stream",
     "text": [
      "Traceback (most recent call last):\n",
      "  File \"<ipython-input-10-441c2514960e>\", line 40, in <module>\n",
      "    city_rain = city_weather['rain']['3h']\n",
      "KeyError: 'rain'\n"
     ]
    },
    {
     "name": "stdout",
     "output_type": "stream",
     "text": [
      "Processing Record 16 of Set 5 | leshukonskoye\n"
     ]
    },
    {
     "name": "stderr",
     "output_type": "stream",
     "text": [
      "Traceback (most recent call last):\n",
      "  File \"<ipython-input-10-441c2514960e>\", line 40, in <module>\n",
      "    city_rain = city_weather['rain']['3h']\n",
      "KeyError: 'rain'\n"
     ]
    },
    {
     "name": "stdout",
     "output_type": "stream",
     "text": [
      "Processing Record 17 of Set 5 | jacareacanga\n"
     ]
    },
    {
     "name": "stderr",
     "output_type": "stream",
     "text": [
      "Traceback (most recent call last):\n",
      "  File \"<ipython-input-10-441c2514960e>\", line 41, in <module>\n",
      "    city_snow = city_weather[\"snow\"][\"3h\"]\n",
      "KeyError: 'snow'\n"
     ]
    },
    {
     "name": "stdout",
     "output_type": "stream",
     "text": [
      "Processing Record 18 of Set 5 | auki\n"
     ]
    },
    {
     "name": "stderr",
     "output_type": "stream",
     "text": [
      "Traceback (most recent call last):\n",
      "  File \"<ipython-input-10-441c2514960e>\", line 40, in <module>\n",
      "    city_rain = city_weather['rain']['3h']\n",
      "KeyError: 'rain'\n"
     ]
    },
    {
     "name": "stdout",
     "output_type": "stream",
     "text": [
      "Processing Record 19 of Set 5 | mrirt\n"
     ]
    },
    {
     "name": "stderr",
     "output_type": "stream",
     "text": [
      "Traceback (most recent call last):\n",
      "  File \"<ipython-input-10-441c2514960e>\", line 32, in <module>\n",
      "    city_lat = city_weather[\"coord\"][\"lat\"]\n",
      "KeyError: 'coord'\n"
     ]
    },
    {
     "name": "stdout",
     "output_type": "stream",
     "text": [
      "Processing Record 20 of Set 5 | gat\n"
     ]
    },
    {
     "name": "stderr",
     "output_type": "stream",
     "text": [
      "Traceback (most recent call last):\n",
      "  File \"<ipython-input-10-441c2514960e>\", line 40, in <module>\n",
      "    city_rain = city_weather['rain']['3h']\n",
      "KeyError: 'rain'\n"
     ]
    },
    {
     "name": "stdout",
     "output_type": "stream",
     "text": [
      "Processing Record 21 of Set 5 | paciran\n"
     ]
    },
    {
     "name": "stderr",
     "output_type": "stream",
     "text": [
      "Traceback (most recent call last):\n",
      "  File \"<ipython-input-10-441c2514960e>\", line 40, in <module>\n",
      "    city_rain = city_weather['rain']['3h']\n",
      "KeyError: 'rain'\n"
     ]
    },
    {
     "name": "stdout",
     "output_type": "stream",
     "text": [
      "Processing Record 22 of Set 5 | chiesanuova\n"
     ]
    },
    {
     "name": "stderr",
     "output_type": "stream",
     "text": [
      "Traceback (most recent call last):\n",
      "  File \"<ipython-input-10-441c2514960e>\", line 40, in <module>\n",
      "    city_rain = city_weather['rain']['3h']\n",
      "KeyError: 'rain'\n"
     ]
    },
    {
     "name": "stdout",
     "output_type": "stream",
     "text": [
      "Processing Record 23 of Set 5 | codrington\n"
     ]
    },
    {
     "name": "stderr",
     "output_type": "stream",
     "text": [
      "Traceback (most recent call last):\n",
      "  File \"<ipython-input-10-441c2514960e>\", line 41, in <module>\n",
      "    city_snow = city_weather[\"snow\"][\"3h\"]\n",
      "KeyError: 'snow'\n"
     ]
    },
    {
     "name": "stdout",
     "output_type": "stream",
     "text": [
      "Processing Record 24 of Set 5 | saleaula\n"
     ]
    },
    {
     "name": "stderr",
     "output_type": "stream",
     "text": [
      "Traceback (most recent call last):\n",
      "  File \"<ipython-input-10-441c2514960e>\", line 32, in <module>\n",
      "    city_lat = city_weather[\"coord\"][\"lat\"]\n",
      "KeyError: 'coord'\n"
     ]
    },
    {
     "name": "stdout",
     "output_type": "stream",
     "text": [
      "Processing Record 25 of Set 5 | mahebourg\n"
     ]
    },
    {
     "name": "stderr",
     "output_type": "stream",
     "text": [
      "Traceback (most recent call last):\n",
      "  File \"<ipython-input-10-441c2514960e>\", line 40, in <module>\n",
      "    city_rain = city_weather['rain']['3h']\n",
      "KeyError: 'rain'\n"
     ]
    },
    {
     "name": "stdout",
     "output_type": "stream",
     "text": [
      "Processing Record 26 of Set 5 | samusu\n"
     ]
    },
    {
     "name": "stderr",
     "output_type": "stream",
     "text": [
      "Traceback (most recent call last):\n",
      "  File \"<ipython-input-10-441c2514960e>\", line 32, in <module>\n",
      "    city_lat = city_weather[\"coord\"][\"lat\"]\n",
      "KeyError: 'coord'\n"
     ]
    },
    {
     "name": "stdout",
     "output_type": "stream",
     "text": [
      "Processing Record 27 of Set 5 | svetlaya\n"
     ]
    },
    {
     "name": "stderr",
     "output_type": "stream",
     "text": [
      "Traceback (most recent call last):\n",
      "  File \"<ipython-input-10-441c2514960e>\", line 40, in <module>\n",
      "    city_rain = city_weather['rain']['3h']\n",
      "KeyError: 'rain'\n"
     ]
    },
    {
     "name": "stdout",
     "output_type": "stream",
     "text": [
      "Processing Record 28 of Set 5 | velagici\n"
     ]
    },
    {
     "name": "stderr",
     "output_type": "stream",
     "text": [
      "Traceback (most recent call last):\n",
      "  File \"<ipython-input-10-441c2514960e>\", line 40, in <module>\n",
      "    city_rain = city_weather['rain']['3h']\n",
      "KeyError: 'rain'\n"
     ]
    },
    {
     "name": "stdout",
     "output_type": "stream",
     "text": [
      "Processing Record 29 of Set 5 | gorele\n"
     ]
    },
    {
     "name": "stderr",
     "output_type": "stream",
     "text": [
      "Traceback (most recent call last):\n",
      "  File \"<ipython-input-10-441c2514960e>\", line 40, in <module>\n",
      "    city_rain = city_weather['rain']['3h']\n",
      "KeyError: 'rain'\n"
     ]
    },
    {
     "name": "stdout",
     "output_type": "stream",
     "text": [
      "Processing Record 30 of Set 5 | tiksi\n"
     ]
    },
    {
     "name": "stderr",
     "output_type": "stream",
     "text": [
      "Traceback (most recent call last):\n",
      "  File \"<ipython-input-10-441c2514960e>\", line 40, in <module>\n",
      "    city_rain = city_weather['rain']['3h']\n",
      "KeyError: 'rain'\n"
     ]
    },
    {
     "name": "stdout",
     "output_type": "stream",
     "text": [
      "Processing Record 31 of Set 5 | gayny\n"
     ]
    },
    {
     "name": "stderr",
     "output_type": "stream",
     "text": [
      "Traceback (most recent call last):\n",
      "  File \"<ipython-input-10-441c2514960e>\", line 40, in <module>\n",
      "    city_rain = city_weather['rain']['3h']\n",
      "KeyError: 'rain'\n"
     ]
    },
    {
     "name": "stdout",
     "output_type": "stream",
     "text": [
      "Processing Record 32 of Set 5 | chapais\n"
     ]
    },
    {
     "name": "stderr",
     "output_type": "stream",
     "text": [
      "Traceback (most recent call last):\n",
      "  File \"<ipython-input-10-441c2514960e>\", line 40, in <module>\n",
      "    city_rain = city_weather['rain']['3h']\n",
      "KeyError: 'rain'\n"
     ]
    },
    {
     "name": "stdout",
     "output_type": "stream",
     "text": [
      "Processing Record 33 of Set 5 | saskylakh\n"
     ]
    },
    {
     "name": "stderr",
     "output_type": "stream",
     "text": [
      "Traceback (most recent call last):\n",
      "  File \"<ipython-input-10-441c2514960e>\", line 40, in <module>\n",
      "    city_rain = city_weather['rain']['3h']\n",
      "KeyError: 'rain'\n"
     ]
    },
    {
     "name": "stdout",
     "output_type": "stream",
     "text": [
      "Processing Record 34 of Set 5 | popondetta\n"
     ]
    },
    {
     "name": "stderr",
     "output_type": "stream",
     "text": [
      "Traceback (most recent call last):\n",
      "  File \"<ipython-input-10-441c2514960e>\", line 40, in <module>\n",
      "    city_rain = city_weather['rain']['3h']\n",
      "KeyError: 'rain'\n"
     ]
    },
    {
     "name": "stdout",
     "output_type": "stream",
     "text": [
      "Processing Record 35 of Set 5 | gijon\n"
     ]
    },
    {
     "name": "stderr",
     "output_type": "stream",
     "text": [
      "Traceback (most recent call last):\n",
      "  File \"<ipython-input-10-441c2514960e>\", line 40, in <module>\n",
      "    city_rain = city_weather['rain']['3h']\n",
      "KeyError: 'rain'\n"
     ]
    },
    {
     "name": "stdout",
     "output_type": "stream",
     "text": [
      "Processing Record 36 of Set 5 | garm\n"
     ]
    },
    {
     "name": "stderr",
     "output_type": "stream",
     "text": [
      "Traceback (most recent call last):\n",
      "  File \"<ipython-input-10-441c2514960e>\", line 32, in <module>\n",
      "    city_lat = city_weather[\"coord\"][\"lat\"]\n",
      "KeyError: 'coord'\n"
     ]
    },
    {
     "name": "stdout",
     "output_type": "stream",
     "text": [
      "Processing Record 37 of Set 5 | henties bay\n"
     ]
    },
    {
     "name": "stderr",
     "output_type": "stream",
     "text": [
      "Traceback (most recent call last):\n",
      "  File \"<ipython-input-10-441c2514960e>\", line 40, in <module>\n",
      "    city_rain = city_weather['rain']['3h']\n",
      "KeyError: 'rain'\n"
     ]
    },
    {
     "name": "stdout",
     "output_type": "stream",
     "text": [
      "Processing Record 38 of Set 5 | dubuque\n"
     ]
    },
    {
     "name": "stderr",
     "output_type": "stream",
     "text": [
      "Traceback (most recent call last):\n",
      "  File \"<ipython-input-10-441c2514960e>\", line 40, in <module>\n",
      "    city_rain = city_weather['rain']['3h']\n",
      "KeyError: 'rain'\n"
     ]
    },
    {
     "name": "stdout",
     "output_type": "stream",
     "text": [
      "Processing Record 39 of Set 5 | bonoua\n"
     ]
    },
    {
     "name": "stderr",
     "output_type": "stream",
     "text": [
      "Traceback (most recent call last):\n",
      "  File \"<ipython-input-10-441c2514960e>\", line 40, in <module>\n",
      "    city_rain = city_weather['rain']['3h']\n",
      "KeyError: 'rain'\n"
     ]
    },
    {
     "name": "stdout",
     "output_type": "stream",
     "text": [
      "Processing Record 40 of Set 5 | nandura\n"
     ]
    },
    {
     "name": "stderr",
     "output_type": "stream",
     "text": [
      "Traceback (most recent call last):\n",
      "  File \"<ipython-input-10-441c2514960e>\", line 40, in <module>\n",
      "    city_rain = city_weather['rain']['3h']\n",
      "KeyError: 'rain'\n"
     ]
    },
    {
     "name": "stdout",
     "output_type": "stream",
     "text": [
      "Processing Record 41 of Set 5 | raudeberg\n"
     ]
    },
    {
     "name": "stderr",
     "output_type": "stream",
     "text": [
      "Traceback (most recent call last):\n",
      "  File \"<ipython-input-10-441c2514960e>\", line 40, in <module>\n",
      "    city_rain = city_weather['rain']['3h']\n",
      "KeyError: 'rain'\n"
     ]
    },
    {
     "name": "stdout",
     "output_type": "stream",
     "text": [
      "Processing Record 42 of Set 5 | grindavik\n"
     ]
    },
    {
     "name": "stderr",
     "output_type": "stream",
     "text": [
      "Traceback (most recent call last):\n",
      "  File \"<ipython-input-10-441c2514960e>\", line 40, in <module>\n",
      "    city_rain = city_weather['rain']['3h']\n",
      "KeyError: 'rain'\n"
     ]
    },
    {
     "name": "stdout",
     "output_type": "stream",
     "text": [
      "Processing Record 43 of Set 5 | udankudi\n"
     ]
    },
    {
     "name": "stderr",
     "output_type": "stream",
     "text": [
      "Traceback (most recent call last):\n",
      "  File \"<ipython-input-10-441c2514960e>\", line 41, in <module>\n",
      "    city_snow = city_weather[\"snow\"][\"3h\"]\n",
      "KeyError: 'snow'\n"
     ]
    },
    {
     "name": "stdout",
     "output_type": "stream",
     "text": [
      "Processing Record 44 of Set 5 | severnyy\n"
     ]
    },
    {
     "name": "stderr",
     "output_type": "stream",
     "text": [
      "Traceback (most recent call last):\n",
      "  File \"<ipython-input-10-441c2514960e>\", line 40, in <module>\n",
      "    city_rain = city_weather['rain']['3h']\n",
      "KeyError: 'rain'\n"
     ]
    },
    {
     "name": "stdout",
     "output_type": "stream",
     "text": [
      "Processing Record 45 of Set 5 | tingo maria\n"
     ]
    },
    {
     "name": "stderr",
     "output_type": "stream",
     "text": [
      "Traceback (most recent call last):\n",
      "  File \"<ipython-input-10-441c2514960e>\", line 40, in <module>\n",
      "    city_rain = city_weather['rain']['3h']\n",
      "KeyError: 'rain'\n"
     ]
    },
    {
     "name": "stdout",
     "output_type": "stream",
     "text": [
      "Processing Record 46 of Set 5 | sobolevo\n"
     ]
    },
    {
     "name": "stderr",
     "output_type": "stream",
     "text": [
      "Traceback (most recent call last):\n",
      "  File \"<ipython-input-10-441c2514960e>\", line 40, in <module>\n",
      "    city_rain = city_weather['rain']['3h']\n",
      "KeyError: 'rain'\n"
     ]
    },
    {
     "name": "stdout",
     "output_type": "stream",
     "text": [
      "Processing Record 47 of Set 5 | zaozerne\n"
     ]
    },
    {
     "name": "stderr",
     "output_type": "stream",
     "text": [
      "Traceback (most recent call last):\n",
      "  File \"<ipython-input-10-441c2514960e>\", line 40, in <module>\n",
      "    city_rain = city_weather['rain']['3h']\n",
      "KeyError: 'rain'\n"
     ]
    },
    {
     "name": "stdout",
     "output_type": "stream",
     "text": [
      "Processing Record 48 of Set 5 | liepaja\n"
     ]
    },
    {
     "name": "stderr",
     "output_type": "stream",
     "text": [
      "Traceback (most recent call last):\n",
      "  File \"<ipython-input-10-441c2514960e>\", line 41, in <module>\n",
      "    city_snow = city_weather[\"snow\"][\"3h\"]\n",
      "KeyError: 'snow'\n"
     ]
    },
    {
     "name": "stdout",
     "output_type": "stream",
     "text": [
      "Processing Record 49 of Set 5 | derzhavinsk\n"
     ]
    },
    {
     "name": "stderr",
     "output_type": "stream",
     "text": [
      "Traceback (most recent call last):\n",
      "  File \"<ipython-input-10-441c2514960e>\", line 40, in <module>\n",
      "    city_rain = city_weather['rain']['3h']\n",
      "KeyError: 'rain'\n"
     ]
    },
    {
     "name": "stdout",
     "output_type": "stream",
     "text": [
      "Processing Record 50 of Set 5 | vylgort\n"
     ]
    },
    {
     "name": "stderr",
     "output_type": "stream",
     "text": [
      "Traceback (most recent call last):\n",
      "  File \"<ipython-input-10-441c2514960e>\", line 32, in <module>\n",
      "    city_lat = city_weather[\"coord\"][\"lat\"]\n",
      "KeyError: 'coord'\n"
     ]
    },
    {
     "name": "stdout",
     "output_type": "stream",
     "text": [
      "Processing Record 1 of Set 6 | tianpeng\n"
     ]
    },
    {
     "name": "stderr",
     "output_type": "stream",
     "text": [
      "Traceback (most recent call last):\n",
      "  File \"<ipython-input-10-441c2514960e>\", line 40, in <module>\n",
      "    city_rain = city_weather['rain']['3h']\n",
      "KeyError: 'rain'\n"
     ]
    },
    {
     "name": "stdout",
     "output_type": "stream",
     "text": [
      "Processing Record 2 of Set 6 | kampot\n"
     ]
    },
    {
     "name": "stderr",
     "output_type": "stream",
     "text": [
      "Traceback (most recent call last):\n",
      "  File \"<ipython-input-10-441c2514960e>\", line 40, in <module>\n",
      "    city_rain = city_weather['rain']['3h']\n",
      "KeyError: 'rain'\n"
     ]
    },
    {
     "name": "stdout",
     "output_type": "stream",
     "text": [
      "Processing Record 3 of Set 6 | churapcha\n"
     ]
    },
    {
     "name": "stderr",
     "output_type": "stream",
     "text": [
      "Traceback (most recent call last):\n",
      "  File \"<ipython-input-10-441c2514960e>\", line 40, in <module>\n",
      "    city_rain = city_weather['rain']['3h']\n",
      "KeyError: 'rain'\n"
     ]
    },
    {
     "name": "stdout",
     "output_type": "stream",
     "text": [
      "Processing Record 4 of Set 6 | puerto escondido\n"
     ]
    },
    {
     "name": "stderr",
     "output_type": "stream",
     "text": [
      "Traceback (most recent call last):\n",
      "  File \"<ipython-input-10-441c2514960e>\", line 40, in <module>\n",
      "    city_rain = city_weather['rain']['3h']\n",
      "KeyError: 'rain'\n"
     ]
    },
    {
     "name": "stdout",
     "output_type": "stream",
     "text": [
      "Processing Record 5 of Set 6 | rocha\n"
     ]
    },
    {
     "name": "stderr",
     "output_type": "stream",
     "text": [
      "Traceback (most recent call last):\n",
      "  File \"<ipython-input-10-441c2514960e>\", line 40, in <module>\n",
      "    city_rain = city_weather['rain']['3h']\n",
      "KeyError: 'rain'\n"
     ]
    },
    {
     "name": "stdout",
     "output_type": "stream",
     "text": [
      "Processing Record 6 of Set 6 | haines junction\n"
     ]
    },
    {
     "name": "stderr",
     "output_type": "stream",
     "text": [
      "Traceback (most recent call last):\n",
      "  File \"<ipython-input-10-441c2514960e>\", line 40, in <module>\n",
      "    city_rain = city_weather['rain']['3h']\n",
      "KeyError: 'rain'\n"
     ]
    },
    {
     "name": "stdout",
     "output_type": "stream",
     "text": [
      "Processing Record 7 of Set 6 | imbituba\n"
     ]
    },
    {
     "name": "stderr",
     "output_type": "stream",
     "text": [
      "Traceback (most recent call last):\n",
      "  File \"<ipython-input-10-441c2514960e>\", line 40, in <module>\n",
      "    city_rain = city_weather['rain']['3h']\n",
      "KeyError: 'rain'\n"
     ]
    },
    {
     "name": "stdout",
     "output_type": "stream",
     "text": [
      "Processing Record 8 of Set 6 | jujuy\n"
     ]
    },
    {
     "name": "stderr",
     "output_type": "stream",
     "text": [
      "Traceback (most recent call last):\n",
      "  File \"<ipython-input-10-441c2514960e>\", line 32, in <module>\n",
      "    city_lat = city_weather[\"coord\"][\"lat\"]\n",
      "KeyError: 'coord'\n"
     ]
    },
    {
     "name": "stdout",
     "output_type": "stream",
     "text": [
      "Processing Record 9 of Set 6 | torbay\n"
     ]
    },
    {
     "name": "stderr",
     "output_type": "stream",
     "text": [
      "Traceback (most recent call last):\n",
      "  File \"<ipython-input-10-441c2514960e>\", line 40, in <module>\n",
      "    city_rain = city_weather['rain']['3h']\n",
      "KeyError: 'rain'\n"
     ]
    },
    {
     "name": "stdout",
     "output_type": "stream",
     "text": [
      "Processing Record 10 of Set 6 | sioux lookout\n"
     ]
    },
    {
     "name": "stderr",
     "output_type": "stream",
     "text": [
      "Traceback (most recent call last):\n",
      "  File \"<ipython-input-10-441c2514960e>\", line 40, in <module>\n",
      "    city_rain = city_weather['rain']['3h']\n",
      "KeyError: 'rain'\n"
     ]
    },
    {
     "name": "stdout",
     "output_type": "stream",
     "text": [
      "Processing Record 11 of Set 6 | namibe\n"
     ]
    },
    {
     "name": "stderr",
     "output_type": "stream",
     "text": [
      "Traceback (most recent call last):\n",
      "  File \"<ipython-input-10-441c2514960e>\", line 40, in <module>\n",
      "    city_rain = city_weather['rain']['3h']\n",
      "KeyError: 'rain'\n"
     ]
    },
    {
     "name": "stdout",
     "output_type": "stream",
     "text": [
      "Processing Record 12 of Set 6 | padang\n"
     ]
    },
    {
     "name": "stderr",
     "output_type": "stream",
     "text": [
      "Traceback (most recent call last):\n",
      "  File \"<ipython-input-10-441c2514960e>\", line 40, in <module>\n",
      "    city_rain = city_weather['rain']['3h']\n",
      "KeyError: 'rain'\n"
     ]
    },
    {
     "name": "stdout",
     "output_type": "stream",
     "text": [
      "Processing Record 13 of Set 6 | margate\n"
     ]
    },
    {
     "name": "stderr",
     "output_type": "stream",
     "text": [
      "Traceback (most recent call last):\n",
      "  File \"<ipython-input-10-441c2514960e>\", line 40, in <module>\n",
      "    city_rain = city_weather['rain']['3h']\n",
      "KeyError: '3h'\n"
     ]
    },
    {
     "name": "stdout",
     "output_type": "stream",
     "text": [
      "Processing Record 14 of Set 6 | esperance\n"
     ]
    },
    {
     "name": "stderr",
     "output_type": "stream",
     "text": [
      "Traceback (most recent call last):\n",
      "  File \"<ipython-input-10-441c2514960e>\", line 40, in <module>\n",
      "    city_rain = city_weather['rain']['3h']\n",
      "KeyError: 'rain'\n"
     ]
    },
    {
     "name": "stdout",
     "output_type": "stream",
     "text": [
      "Processing Record 15 of Set 6 | peniche\n"
     ]
    },
    {
     "name": "stderr",
     "output_type": "stream",
     "text": [
      "Traceback (most recent call last):\n",
      "  File \"<ipython-input-10-441c2514960e>\", line 40, in <module>\n",
      "    city_rain = city_weather['rain']['3h']\n",
      "KeyError: 'rain'\n"
     ]
    },
    {
     "name": "stdout",
     "output_type": "stream",
     "text": [
      "Processing Record 16 of Set 6 | cheuskiny\n"
     ]
    },
    {
     "name": "stderr",
     "output_type": "stream",
     "text": [
      "Traceback (most recent call last):\n",
      "  File \"<ipython-input-10-441c2514960e>\", line 32, in <module>\n",
      "    city_lat = city_weather[\"coord\"][\"lat\"]\n",
      "KeyError: 'coord'\n"
     ]
    },
    {
     "name": "stdout",
     "output_type": "stream",
     "text": [
      "Processing Record 17 of Set 6 | morehead\n"
     ]
    },
    {
     "name": "stderr",
     "output_type": "stream",
     "text": [
      "Traceback (most recent call last):\n",
      "  File \"<ipython-input-10-441c2514960e>\", line 40, in <module>\n",
      "    city_rain = city_weather['rain']['3h']\n",
      "KeyError: 'rain'\n"
     ]
    },
    {
     "name": "stdout",
     "output_type": "stream",
     "text": [
      "Processing Record 18 of Set 6 | llata\n"
     ]
    },
    {
     "name": "stderr",
     "output_type": "stream",
     "text": [
      "Traceback (most recent call last):\n",
      "  File \"<ipython-input-10-441c2514960e>\", line 41, in <module>\n",
      "    city_snow = city_weather[\"snow\"][\"3h\"]\n",
      "KeyError: 'snow'\n"
     ]
    },
    {
     "name": "stdout",
     "output_type": "stream",
     "text": [
      "Processing Record 19 of Set 6 | yar-sale\n"
     ]
    },
    {
     "name": "stderr",
     "output_type": "stream",
     "text": [
      "Traceback (most recent call last):\n",
      "  File \"<ipython-input-10-441c2514960e>\", line 40, in <module>\n",
      "    city_rain = city_weather['rain']['3h']\n",
      "KeyError: 'rain'\n"
     ]
    },
    {
     "name": "stdout",
     "output_type": "stream",
     "text": [
      "Processing Record 20 of Set 6 | tsabong\n"
     ]
    },
    {
     "name": "stderr",
     "output_type": "stream",
     "text": [
      "Traceback (most recent call last):\n",
      "  File \"<ipython-input-10-441c2514960e>\", line 40, in <module>\n",
      "    city_rain = city_weather['rain']['3h']\n",
      "KeyError: 'rain'\n"
     ]
    },
    {
     "name": "stdout",
     "output_type": "stream",
     "text": [
      "Processing Record 21 of Set 6 | voskresenskoye\n"
     ]
    },
    {
     "name": "stderr",
     "output_type": "stream",
     "text": [
      "Traceback (most recent call last):\n",
      "  File \"<ipython-input-10-441c2514960e>\", line 40, in <module>\n",
      "    city_rain = city_weather['rain']['3h']\n",
      "KeyError: 'rain'\n"
     ]
    },
    {
     "name": "stdout",
     "output_type": "stream",
     "text": [
      "Processing Record 22 of Set 6 | kushmurun\n"
     ]
    },
    {
     "name": "stderr",
     "output_type": "stream",
     "text": [
      "Traceback (most recent call last):\n",
      "  File \"<ipython-input-10-441c2514960e>\", line 40, in <module>\n",
      "    city_rain = city_weather['rain']['3h']\n",
      "KeyError: 'rain'\n"
     ]
    },
    {
     "name": "stdout",
     "output_type": "stream",
     "text": [
      "Processing Record 23 of Set 6 | san cristobal\n"
     ]
    },
    {
     "name": "stderr",
     "output_type": "stream",
     "text": [
      "Traceback (most recent call last):\n",
      "  File \"<ipython-input-10-441c2514960e>\", line 40, in <module>\n",
      "    city_rain = city_weather['rain']['3h']\n",
      "KeyError: 'rain'\n"
     ]
    },
    {
     "name": "stdout",
     "output_type": "stream",
     "text": [
      "Processing Record 24 of Set 6 | paamiut\n"
     ]
    },
    {
     "name": "stderr",
     "output_type": "stream",
     "text": [
      "Traceback (most recent call last):\n",
      "  File \"<ipython-input-10-441c2514960e>\", line 40, in <module>\n",
      "    city_rain = city_weather['rain']['3h']\n",
      "KeyError: 'rain'\n"
     ]
    },
    {
     "name": "stdout",
     "output_type": "stream",
     "text": [
      "Processing Record 25 of Set 6 | high rock\n"
     ]
    },
    {
     "name": "stderr",
     "output_type": "stream",
     "text": [
      "Traceback (most recent call last):\n",
      "  File \"<ipython-input-10-441c2514960e>\", line 40, in <module>\n",
      "    city_rain = city_weather['rain']['3h']\n",
      "KeyError: 'rain'\n"
     ]
    },
    {
     "name": "stdout",
     "output_type": "stream",
     "text": [
      "Processing Record 26 of Set 6 | stephenville\n"
     ]
    },
    {
     "name": "stderr",
     "output_type": "stream",
     "text": [
      "Traceback (most recent call last):\n",
      "  File \"<ipython-input-10-441c2514960e>\", line 40, in <module>\n",
      "    city_rain = city_weather['rain']['3h']\n",
      "KeyError: 'rain'\n"
     ]
    },
    {
     "name": "stdout",
     "output_type": "stream",
     "text": [
      "Processing Record 27 of Set 6 | mount gambier\n"
     ]
    },
    {
     "name": "stderr",
     "output_type": "stream",
     "text": [
      "Traceback (most recent call last):\n",
      "  File \"<ipython-input-10-441c2514960e>\", line 40, in <module>\n",
      "    city_rain = city_weather['rain']['3h']\n",
      "KeyError: 'rain'\n"
     ]
    },
    {
     "name": "stdout",
     "output_type": "stream",
     "text": [
      "Processing Record 28 of Set 6 | sao caetano de odivelas\n"
     ]
    },
    {
     "name": "stderr",
     "output_type": "stream",
     "text": [
      "Traceback (most recent call last):\n",
      "  File \"<ipython-input-10-441c2514960e>\", line 41, in <module>\n",
      "    city_snow = city_weather[\"snow\"][\"3h\"]\n",
      "KeyError: 'snow'\n"
     ]
    },
    {
     "name": "stdout",
     "output_type": "stream",
     "text": [
      "Processing Record 29 of Set 6 | kenai\n"
     ]
    },
    {
     "name": "stderr",
     "output_type": "stream",
     "text": [
      "Traceback (most recent call last):\n",
      "  File \"<ipython-input-10-441c2514960e>\", line 40, in <module>\n",
      "    city_rain = city_weather['rain']['3h']\n",
      "KeyError: 'rain'\n"
     ]
    },
    {
     "name": "stdout",
     "output_type": "stream",
     "text": [
      "Processing Record 30 of Set 6 | tommot\n"
     ]
    },
    {
     "name": "stderr",
     "output_type": "stream",
     "text": [
      "Traceback (most recent call last):\n",
      "  File \"<ipython-input-10-441c2514960e>\", line 40, in <module>\n",
      "    city_rain = city_weather['rain']['3h']\n",
      "KeyError: 'rain'\n"
     ]
    },
    {
     "name": "stdout",
     "output_type": "stream",
     "text": [
      "Processing Record 31 of Set 6 | batavia\n"
     ]
    },
    {
     "name": "stderr",
     "output_type": "stream",
     "text": [
      "Traceback (most recent call last):\n",
      "  File \"<ipython-input-10-441c2514960e>\", line 40, in <module>\n",
      "    city_rain = city_weather['rain']['3h']\n",
      "KeyError: 'rain'\n"
     ]
    },
    {
     "name": "stdout",
     "output_type": "stream",
     "text": [
      "Processing Record 32 of Set 6 | pangkalanbuun\n"
     ]
    },
    {
     "name": "stderr",
     "output_type": "stream",
     "text": [
      "Traceback (most recent call last):\n",
      "  File \"<ipython-input-10-441c2514960e>\", line 41, in <module>\n",
      "    city_snow = city_weather[\"snow\"][\"3h\"]\n",
      "KeyError: 'snow'\n"
     ]
    },
    {
     "name": "stdout",
     "output_type": "stream",
     "text": [
      "Processing Record 33 of Set 6 | carnarvon\n"
     ]
    },
    {
     "name": "stderr",
     "output_type": "stream",
     "text": [
      "Traceback (most recent call last):\n",
      "  File \"<ipython-input-10-441c2514960e>\", line 40, in <module>\n",
      "    city_rain = city_weather['rain']['3h']\n",
      "KeyError: 'rain'\n"
     ]
    },
    {
     "name": "stdout",
     "output_type": "stream",
     "text": [
      "Processing Record 34 of Set 6 | doha\n"
     ]
    },
    {
     "name": "stderr",
     "output_type": "stream",
     "text": [
      "Traceback (most recent call last):\n",
      "  File \"<ipython-input-10-441c2514960e>\", line 40, in <module>\n",
      "    city_rain = city_weather['rain']['3h']\n",
      "KeyError: 'rain'\n"
     ]
    },
    {
     "name": "stdout",
     "output_type": "stream",
     "text": [
      "Processing Record 35 of Set 6 | luderitz\n"
     ]
    },
    {
     "name": "stderr",
     "output_type": "stream",
     "text": [
      "Traceback (most recent call last):\n",
      "  File \"<ipython-input-10-441c2514960e>\", line 40, in <module>\n",
      "    city_rain = city_weather['rain']['3h']\n",
      "KeyError: 'rain'\n"
     ]
    },
    {
     "name": "stdout",
     "output_type": "stream",
     "text": [
      "Processing Record 36 of Set 6 | whitianga\n"
     ]
    },
    {
     "name": "stderr",
     "output_type": "stream",
     "text": [
      "Traceback (most recent call last):\n",
      "  File \"<ipython-input-10-441c2514960e>\", line 40, in <module>\n",
      "    city_rain = city_weather['rain']['3h']\n",
      "KeyError: 'rain'\n"
     ]
    },
    {
     "name": "stdout",
     "output_type": "stream",
     "text": [
      "Processing Record 37 of Set 6 | qaqortoq\n"
     ]
    },
    {
     "name": "stderr",
     "output_type": "stream",
     "text": [
      "Traceback (most recent call last):\n",
      "  File \"<ipython-input-10-441c2514960e>\", line 40, in <module>\n",
      "    city_rain = city_weather['rain']['3h']\n",
      "KeyError: 'rain'\n"
     ]
    },
    {
     "name": "stdout",
     "output_type": "stream",
     "text": [
      "Processing Record 38 of Set 6 | khilok\n"
     ]
    },
    {
     "name": "stderr",
     "output_type": "stream",
     "text": [
      "Traceback (most recent call last):\n",
      "  File \"<ipython-input-10-441c2514960e>\", line 40, in <module>\n",
      "    city_rain = city_weather['rain']['3h']\n",
      "KeyError: 'rain'\n"
     ]
    },
    {
     "name": "stdout",
     "output_type": "stream",
     "text": [
      "Processing Record 39 of Set 6 | ashland\n"
     ]
    },
    {
     "name": "stderr",
     "output_type": "stream",
     "text": [
      "Traceback (most recent call last):\n",
      "  File \"<ipython-input-10-441c2514960e>\", line 40, in <module>\n",
      "    city_rain = city_weather['rain']['3h']\n",
      "KeyError: '3h'\n"
     ]
    },
    {
     "name": "stdout",
     "output_type": "stream",
     "text": [
      "Processing Record 40 of Set 6 | new norfolk\n"
     ]
    },
    {
     "name": "stderr",
     "output_type": "stream",
     "text": [
      "Traceback (most recent call last):\n",
      "  File \"<ipython-input-10-441c2514960e>\", line 40, in <module>\n",
      "    city_rain = city_weather['rain']['3h']\n",
      "KeyError: '3h'\n"
     ]
    },
    {
     "name": "stdout",
     "output_type": "stream",
     "text": [
      "Processing Record 41 of Set 6 | juodupe\n"
     ]
    },
    {
     "name": "stderr",
     "output_type": "stream",
     "text": [
      "Traceback (most recent call last):\n",
      "  File \"<ipython-input-10-441c2514960e>\", line 40, in <module>\n",
      "    city_rain = city_weather['rain']['3h']\n",
      "KeyError: 'rain'\n"
     ]
    },
    {
     "name": "stdout",
     "output_type": "stream",
     "text": [
      "Processing Record 42 of Set 6 | great yarmouth\n"
     ]
    },
    {
     "name": "stderr",
     "output_type": "stream",
     "text": [
      "Traceback (most recent call last):\n",
      "  File \"<ipython-input-10-441c2514960e>\", line 40, in <module>\n",
      "    city_rain = city_weather['rain']['3h']\n",
      "KeyError: 'rain'\n"
     ]
    },
    {
     "name": "stdout",
     "output_type": "stream",
     "text": [
      "Processing Record 43 of Set 6 | camana\n"
     ]
    },
    {
     "name": "stderr",
     "output_type": "stream",
     "text": [
      "Traceback (most recent call last):\n",
      "  File \"<ipython-input-10-441c2514960e>\", line 40, in <module>\n",
      "    city_rain = city_weather['rain']['3h']\n",
      "KeyError: 'rain'\n"
     ]
    },
    {
     "name": "stdout",
     "output_type": "stream",
     "text": [
      "Processing Record 44 of Set 6 | khonuu\n"
     ]
    },
    {
     "name": "stderr",
     "output_type": "stream",
     "text": [
      "Traceback (most recent call last):\n",
      "  File \"<ipython-input-10-441c2514960e>\", line 32, in <module>\n",
      "    city_lat = city_weather[\"coord\"][\"lat\"]\n",
      "KeyError: 'coord'\n"
     ]
    },
    {
     "name": "stdout",
     "output_type": "stream",
     "text": [
      "Processing Record 45 of Set 6 | oussouye\n"
     ]
    },
    {
     "name": "stderr",
     "output_type": "stream",
     "text": [
      "Traceback (most recent call last):\n",
      "  File \"<ipython-input-10-441c2514960e>\", line 40, in <module>\n",
      "    city_rain = city_weather['rain']['3h']\n",
      "KeyError: 'rain'\n"
     ]
    },
    {
     "name": "stdout",
     "output_type": "stream",
     "text": [
      "Processing Record 46 of Set 6 | hangu\n"
     ]
    },
    {
     "name": "stderr",
     "output_type": "stream",
     "text": [
      "Traceback (most recent call last):\n",
      "  File \"<ipython-input-10-441c2514960e>\", line 40, in <module>\n",
      "    city_rain = city_weather['rain']['3h']\n",
      "KeyError: 'rain'\n"
     ]
    },
    {
     "name": "stdout",
     "output_type": "stream",
     "text": [
      "Processing Record 47 of Set 6 | naze\n"
     ]
    },
    {
     "name": "stderr",
     "output_type": "stream",
     "text": [
      "Traceback (most recent call last):\n",
      "  File \"<ipython-input-10-441c2514960e>\", line 41, in <module>\n",
      "    city_snow = city_weather[\"snow\"][\"3h\"]\n",
      "KeyError: 'snow'\n"
     ]
    },
    {
     "name": "stdout",
     "output_type": "stream",
     "text": [
      "Processing Record 48 of Set 6 | keelung\n"
     ]
    },
    {
     "name": "stderr",
     "output_type": "stream",
     "text": [
      "Traceback (most recent call last):\n",
      "  File \"<ipython-input-10-441c2514960e>\", line 40, in <module>\n",
      "    city_rain = city_weather['rain']['3h']\n",
      "KeyError: 'rain'\n"
     ]
    },
    {
     "name": "stdout",
     "output_type": "stream",
     "text": [
      "Processing Record 49 of Set 6 | liwale\n"
     ]
    },
    {
     "name": "stderr",
     "output_type": "stream",
     "text": [
      "Traceback (most recent call last):\n",
      "  File \"<ipython-input-10-441c2514960e>\", line 40, in <module>\n",
      "    city_rain = city_weather['rain']['3h']\n",
      "KeyError: 'rain'\n"
     ]
    },
    {
     "name": "stdout",
     "output_type": "stream",
     "text": [
      "Processing Record 50 of Set 6 | nha trang\n"
     ]
    },
    {
     "name": "stderr",
     "output_type": "stream",
     "text": [
      "Traceback (most recent call last):\n",
      "  File \"<ipython-input-10-441c2514960e>\", line 40, in <module>\n",
      "    city_rain = city_weather['rain']['3h']\n",
      "KeyError: 'rain'\n"
     ]
    },
    {
     "name": "stdout",
     "output_type": "stream",
     "text": [
      "Processing Record 1 of Set 7 | geraldton\n"
     ]
    },
    {
     "name": "stderr",
     "output_type": "stream",
     "text": [
      "Traceback (most recent call last):\n",
      "  File \"<ipython-input-10-441c2514960e>\", line 41, in <module>\n",
      "    city_snow = city_weather[\"snow\"][\"3h\"]\n",
      "KeyError: 'snow'\n"
     ]
    },
    {
     "name": "stdout",
     "output_type": "stream",
     "text": [
      "Processing Record 2 of Set 7 | sao joao da barra\n"
     ]
    },
    {
     "name": "stderr",
     "output_type": "stream",
     "text": [
      "Traceback (most recent call last):\n",
      "  File \"<ipython-input-10-441c2514960e>\", line 40, in <module>\n",
      "    city_rain = city_weather['rain']['3h']\n",
      "KeyError: 'rain'\n"
     ]
    },
    {
     "name": "stdout",
     "output_type": "stream",
     "text": [
      "Processing Record 3 of Set 7 | jutai\n"
     ]
    },
    {
     "name": "stderr",
     "output_type": "stream",
     "text": [
      "Traceback (most recent call last):\n",
      "  File \"<ipython-input-10-441c2514960e>\", line 41, in <module>\n",
      "    city_snow = city_weather[\"snow\"][\"3h\"]\n",
      "KeyError: 'snow'\n"
     ]
    },
    {
     "name": "stdout",
     "output_type": "stream",
     "text": [
      "Processing Record 4 of Set 7 | kautokeino\n"
     ]
    },
    {
     "name": "stderr",
     "output_type": "stream",
     "text": [
      "Traceback (most recent call last):\n",
      "  File \"<ipython-input-10-441c2514960e>\", line 40, in <module>\n",
      "    city_rain = city_weather['rain']['3h']\n",
      "KeyError: 'rain'\n"
     ]
    },
    {
     "name": "stdout",
     "output_type": "stream",
     "text": [
      "Processing Record 5 of Set 7 | sag\n"
     ]
    },
    {
     "name": "stderr",
     "output_type": "stream",
     "text": [
      "Traceback (most recent call last):\n",
      "  File \"<ipython-input-10-441c2514960e>\", line 40, in <module>\n",
      "    city_rain = city_weather['rain']['3h']\n",
      "KeyError: 'rain'\n"
     ]
    },
    {
     "name": "stdout",
     "output_type": "stream",
     "text": [
      "Processing Record 6 of Set 7 | the valley\n"
     ]
    },
    {
     "name": "stderr",
     "output_type": "stream",
     "text": [
      "Traceback (most recent call last):\n",
      "  File \"<ipython-input-10-441c2514960e>\", line 40, in <module>\n",
      "    city_rain = city_weather['rain']['3h']\n",
      "KeyError: 'rain'\n"
     ]
    },
    {
     "name": "stdout",
     "output_type": "stream",
     "text": [
      "Processing Record 7 of Set 7 | aras\n"
     ]
    },
    {
     "name": "stderr",
     "output_type": "stream",
     "text": [
      "Traceback (most recent call last):\n",
      "  File \"<ipython-input-10-441c2514960e>\", line 40, in <module>\n",
      "    city_rain = city_weather['rain']['3h']\n",
      "KeyError: 'rain'\n"
     ]
    },
    {
     "name": "stdout",
     "output_type": "stream",
     "text": [
      "Processing Record 8 of Set 7 | bambanglipuro\n"
     ]
    },
    {
     "name": "stderr",
     "output_type": "stream",
     "text": [
      "Traceback (most recent call last):\n",
      "  File \"<ipython-input-10-441c2514960e>\", line 40, in <module>\n",
      "    city_rain = city_weather['rain']['3h']\n",
      "KeyError: 'rain'\n"
     ]
    },
    {
     "name": "stdout",
     "output_type": "stream",
     "text": [
      "Processing Record 9 of Set 7 | union\n"
     ]
    },
    {
     "name": "stderr",
     "output_type": "stream",
     "text": [
      "Traceback (most recent call last):\n",
      "  File \"<ipython-input-10-441c2514960e>\", line 40, in <module>\n",
      "    city_rain = city_weather['rain']['3h']\n",
      "KeyError: '3h'\n"
     ]
    },
    {
     "name": "stdout",
     "output_type": "stream",
     "text": [
      "Processing Record 10 of Set 7 | ancud\n"
     ]
    },
    {
     "name": "stderr",
     "output_type": "stream",
     "text": [
      "Traceback (most recent call last):\n",
      "  File \"<ipython-input-10-441c2514960e>\", line 40, in <module>\n",
      "    city_rain = city_weather['rain']['3h']\n",
      "KeyError: 'rain'\n"
     ]
    },
    {
     "name": "stdout",
     "output_type": "stream",
     "text": [
      "Processing Record 11 of Set 7 | arzgir\n"
     ]
    },
    {
     "name": "stderr",
     "output_type": "stream",
     "text": [
      "Traceback (most recent call last):\n",
      "  File \"<ipython-input-10-441c2514960e>\", line 40, in <module>\n",
      "    city_rain = city_weather['rain']['3h']\n",
      "KeyError: 'rain'\n"
     ]
    },
    {
     "name": "stdout",
     "output_type": "stream",
     "text": [
      "Processing Record 12 of Set 7 | arica\n"
     ]
    },
    {
     "name": "stderr",
     "output_type": "stream",
     "text": [
      "Traceback (most recent call last):\n",
      "  File \"<ipython-input-10-441c2514960e>\", line 40, in <module>\n",
      "    city_rain = city_weather['rain']['3h']\n",
      "KeyError: 'rain'\n"
     ]
    },
    {
     "name": "stdout",
     "output_type": "stream",
     "text": [
      "Processing Record 13 of Set 7 | bellavista\n"
     ]
    },
    {
     "name": "stderr",
     "output_type": "stream",
     "text": [
      "Traceback (most recent call last):\n",
      "  File \"<ipython-input-10-441c2514960e>\", line 40, in <module>\n",
      "    city_rain = city_weather['rain']['3h']\n",
      "KeyError: 'rain'\n"
     ]
    },
    {
     "name": "stdout",
     "output_type": "stream",
     "text": [
      "Processing Record 14 of Set 7 | sakrand\n"
     ]
    },
    {
     "name": "stderr",
     "output_type": "stream",
     "text": [
      "Traceback (most recent call last):\n",
      "  File \"<ipython-input-10-441c2514960e>\", line 40, in <module>\n",
      "    city_rain = city_weather['rain']['3h']\n",
      "KeyError: 'rain'\n"
     ]
    },
    {
     "name": "stdout",
     "output_type": "stream",
     "text": [
      "Processing Record 15 of Set 7 | inhambane\n"
     ]
    },
    {
     "name": "stderr",
     "output_type": "stream",
     "text": [
      "Traceback (most recent call last):\n",
      "  File \"<ipython-input-10-441c2514960e>\", line 41, in <module>\n",
      "    city_snow = city_weather[\"snow\"][\"3h\"]\n",
      "KeyError: 'snow'\n"
     ]
    },
    {
     "name": "stdout",
     "output_type": "stream",
     "text": [
      "Processing Record 16 of Set 7 | mastic beach\n"
     ]
    },
    {
     "name": "stderr",
     "output_type": "stream",
     "text": [
      "Traceback (most recent call last):\n",
      "  File \"<ipython-input-10-441c2514960e>\", line 40, in <module>\n",
      "    city_rain = city_weather['rain']['3h']\n",
      "KeyError: '3h'\n"
     ]
    },
    {
     "name": "stdout",
     "output_type": "stream",
     "text": [
      "Processing Record 17 of Set 7 | kisangani\n"
     ]
    },
    {
     "name": "stderr",
     "output_type": "stream",
     "text": [
      "Traceback (most recent call last):\n",
      "  File \"<ipython-input-10-441c2514960e>\", line 40, in <module>\n",
      "    city_rain = city_weather['rain']['3h']\n",
      "KeyError: 'rain'\n"
     ]
    },
    {
     "name": "stdout",
     "output_type": "stream",
     "text": [
      "Processing Record 18 of Set 7 | hambantota\n"
     ]
    },
    {
     "name": "stderr",
     "output_type": "stream",
     "text": [
      "Traceback (most recent call last):\n",
      "  File \"<ipython-input-10-441c2514960e>\", line 40, in <module>\n",
      "    city_rain = city_weather['rain']['3h']\n",
      "KeyError: 'rain'\n"
     ]
    },
    {
     "name": "stdout",
     "output_type": "stream",
     "text": [
      "Processing Record 19 of Set 7 | iwanai\n"
     ]
    },
    {
     "name": "stderr",
     "output_type": "stream",
     "text": [
      "Traceback (most recent call last):\n",
      "  File \"<ipython-input-10-441c2514960e>\", line 40, in <module>\n",
      "    city_rain = city_weather['rain']['3h']\n",
      "KeyError: 'rain'\n"
     ]
    },
    {
     "name": "stdout",
     "output_type": "stream",
     "text": [
      "Processing Record 20 of Set 7 | portage\n"
     ]
    },
    {
     "name": "stderr",
     "output_type": "stream",
     "text": [
      "Traceback (most recent call last):\n",
      "  File \"<ipython-input-10-441c2514960e>\", line 40, in <module>\n",
      "    city_rain = city_weather['rain']['3h']\n",
      "KeyError: '3h'\n"
     ]
    },
    {
     "name": "stdout",
     "output_type": "stream",
     "text": [
      "Processing Record 21 of Set 7 | znamenskoye\n"
     ]
    },
    {
     "name": "stderr",
     "output_type": "stream",
     "text": [
      "Traceback (most recent call last):\n",
      "  File \"<ipython-input-10-441c2514960e>\", line 40, in <module>\n",
      "    city_rain = city_weather['rain']['3h']\n",
      "KeyError: 'rain'\n"
     ]
    },
    {
     "name": "stdout",
     "output_type": "stream",
     "text": [
      "Processing Record 22 of Set 7 | tuy hoa\n"
     ]
    },
    {
     "name": "stderr",
     "output_type": "stream",
     "text": [
      "Traceback (most recent call last):\n",
      "  File \"<ipython-input-10-441c2514960e>\", line 41, in <module>\n",
      "    city_snow = city_weather[\"snow\"][\"3h\"]\n",
      "KeyError: 'snow'\n"
     ]
    },
    {
     "name": "stdout",
     "output_type": "stream",
     "text": [
      "Processing Record 23 of Set 7 | amderma\n"
     ]
    },
    {
     "name": "stderr",
     "output_type": "stream",
     "text": [
      "Traceback (most recent call last):\n",
      "  File \"<ipython-input-10-441c2514960e>\", line 32, in <module>\n",
      "    city_lat = city_weather[\"coord\"][\"lat\"]\n",
      "KeyError: 'coord'\n"
     ]
    },
    {
     "name": "stdout",
     "output_type": "stream",
     "text": [
      "Processing Record 24 of Set 7 | north platte\n"
     ]
    },
    {
     "name": "stderr",
     "output_type": "stream",
     "text": [
      "Traceback (most recent call last):\n",
      "  File \"<ipython-input-10-441c2514960e>\", line 40, in <module>\n",
      "    city_rain = city_weather['rain']['3h']\n",
      "KeyError: 'rain'\n"
     ]
    },
    {
     "name": "stdout",
     "output_type": "stream",
     "text": [
      "Processing Record 25 of Set 7 | thanh hoa\n"
     ]
    },
    {
     "name": "stderr",
     "output_type": "stream",
     "text": [
      "Traceback (most recent call last):\n",
      "  File \"<ipython-input-10-441c2514960e>\", line 40, in <module>\n",
      "    city_rain = city_weather['rain']['3h']\n",
      "KeyError: 'rain'\n"
     ]
    },
    {
     "name": "stdout",
     "output_type": "stream",
     "text": [
      "Processing Record 26 of Set 7 | warmbad\n"
     ]
    },
    {
     "name": "stderr",
     "output_type": "stream",
     "text": [
      "Traceback (most recent call last):\n",
      "  File \"<ipython-input-10-441c2514960e>\", line 40, in <module>\n",
      "    city_rain = city_weather['rain']['3h']\n",
      "KeyError: 'rain'\n"
     ]
    },
    {
     "name": "stdout",
     "output_type": "stream",
     "text": [
      "Processing Record 27 of Set 7 | richards bay\n"
     ]
    },
    {
     "name": "stderr",
     "output_type": "stream",
     "text": [
      "Traceback (most recent call last):\n",
      "  File \"<ipython-input-10-441c2514960e>\", line 40, in <module>\n",
      "    city_rain = city_weather['rain']['3h']\n",
      "KeyError: 'rain'\n"
     ]
    },
    {
     "name": "stdout",
     "output_type": "stream",
     "text": [
      "Processing Record 28 of Set 7 | carmo do cajuru\n"
     ]
    },
    {
     "name": "stderr",
     "output_type": "stream",
     "text": [
      "Traceback (most recent call last):\n",
      "  File \"<ipython-input-10-441c2514960e>\", line 41, in <module>\n",
      "    city_snow = city_weather[\"snow\"][\"3h\"]\n",
      "KeyError: 'snow'\n"
     ]
    },
    {
     "name": "stdout",
     "output_type": "stream",
     "text": [
      "Processing Record 29 of Set 7 | haapiti\n"
     ]
    },
    {
     "name": "stderr",
     "output_type": "stream",
     "text": [
      "Traceback (most recent call last):\n",
      "  File \"<ipython-input-10-441c2514960e>\", line 40, in <module>\n",
      "    city_rain = city_weather['rain']['3h']\n",
      "KeyError: 'rain'\n"
     ]
    },
    {
     "name": "stdout",
     "output_type": "stream",
     "text": [
      "Processing Record 30 of Set 7 | kununurra\n"
     ]
    },
    {
     "name": "stderr",
     "output_type": "stream",
     "text": [
      "Traceback (most recent call last):\n",
      "  File \"<ipython-input-10-441c2514960e>\", line 40, in <module>\n",
      "    city_rain = city_weather['rain']['3h']\n",
      "KeyError: 'rain'\n"
     ]
    },
    {
     "name": "stdout",
     "output_type": "stream",
     "text": [
      "Processing Record 31 of Set 7 | marcona\n"
     ]
    },
    {
     "name": "stderr",
     "output_type": "stream",
     "text": [
      "Traceback (most recent call last):\n",
      "  File \"<ipython-input-10-441c2514960e>\", line 32, in <module>\n",
      "    city_lat = city_weather[\"coord\"][\"lat\"]\n",
      "KeyError: 'coord'\n"
     ]
    },
    {
     "name": "stdout",
     "output_type": "stream",
     "text": [
      "Processing Record 32 of Set 7 | atuona\n"
     ]
    },
    {
     "name": "stderr",
     "output_type": "stream",
     "text": [
      "Traceback (most recent call last):\n",
      "  File \"<ipython-input-10-441c2514960e>\", line 40, in <module>\n",
      "    city_rain = city_weather['rain']['3h']\n",
      "KeyError: 'rain'\n"
     ]
    },
    {
     "name": "stdout",
     "output_type": "stream",
     "text": [
      "Processing Record 33 of Set 7 | tirau\n"
     ]
    },
    {
     "name": "stderr",
     "output_type": "stream",
     "text": [
      "Traceback (most recent call last):\n",
      "  File \"<ipython-input-10-441c2514960e>\", line 40, in <module>\n",
      "    city_rain = city_weather['rain']['3h']\n",
      "KeyError: 'rain'\n"
     ]
    },
    {
     "name": "stdout",
     "output_type": "stream",
     "text": [
      "Processing Record 34 of Set 7 | nome\n"
     ]
    },
    {
     "name": "stderr",
     "output_type": "stream",
     "text": [
      "Traceback (most recent call last):\n",
      "  File \"<ipython-input-10-441c2514960e>\", line 40, in <module>\n",
      "    city_rain = city_weather['rain']['3h']\n",
      "KeyError: 'rain'\n"
     ]
    },
    {
     "name": "stdout",
     "output_type": "stream",
     "text": [
      "Processing Record 35 of Set 7 | lingdong\n"
     ]
    },
    {
     "name": "stderr",
     "output_type": "stream",
     "text": [
      "Traceback (most recent call last):\n",
      "  File \"<ipython-input-10-441c2514960e>\", line 40, in <module>\n",
      "    city_rain = city_weather['rain']['3h']\n",
      "KeyError: 'rain'\n"
     ]
    },
    {
     "name": "stdout",
     "output_type": "stream",
     "text": [
      "Processing Record 36 of Set 7 | dubbo\n"
     ]
    },
    {
     "name": "stderr",
     "output_type": "stream",
     "text": [
      "Traceback (most recent call last):\n",
      "  File \"<ipython-input-10-441c2514960e>\", line 40, in <module>\n",
      "    city_rain = city_weather['rain']['3h']\n",
      "KeyError: 'rain'\n"
     ]
    },
    {
     "name": "stdout",
     "output_type": "stream",
     "text": [
      "Processing Record 37 of Set 7 | troy\n"
     ]
    },
    {
     "name": "stderr",
     "output_type": "stream",
     "text": [
      "Traceback (most recent call last):\n",
      "  File \"<ipython-input-10-441c2514960e>\", line 40, in <module>\n",
      "    city_rain = city_weather['rain']['3h']\n",
      "KeyError: 'rain'\n"
     ]
    },
    {
     "name": "stdout",
     "output_type": "stream",
     "text": [
      "Processing Record 38 of Set 7 | crab hill\n"
     ]
    },
    {
     "name": "stderr",
     "output_type": "stream",
     "text": [
      "Traceback (most recent call last):\n",
      "  File \"<ipython-input-10-441c2514960e>\", line 32, in <module>\n",
      "    city_lat = city_weather[\"coord\"][\"lat\"]\n",
      "KeyError: 'coord'\n"
     ]
    },
    {
     "name": "stdout",
     "output_type": "stream",
     "text": [
      "Processing Record 39 of Set 7 | tasiilaq\n"
     ]
    },
    {
     "name": "stderr",
     "output_type": "stream",
     "text": [
      "Traceback (most recent call last):\n",
      "  File \"<ipython-input-10-441c2514960e>\", line 40, in <module>\n",
      "    city_rain = city_weather['rain']['3h']\n",
      "KeyError: 'rain'\n"
     ]
    },
    {
     "name": "stdout",
     "output_type": "stream",
     "text": [
      "Processing Record 40 of Set 7 | pascagoula\n"
     ]
    },
    {
     "name": "stderr",
     "output_type": "stream",
     "text": [
      "Traceback (most recent call last):\n",
      "  File \"<ipython-input-10-441c2514960e>\", line 40, in <module>\n",
      "    city_rain = city_weather['rain']['3h']\n",
      "KeyError: 'rain'\n"
     ]
    },
    {
     "name": "stdout",
     "output_type": "stream",
     "text": [
      "Processing Record 41 of Set 7 | sorong\n"
     ]
    },
    {
     "name": "stderr",
     "output_type": "stream",
     "text": [
      "Traceback (most recent call last):\n",
      "  File \"<ipython-input-10-441c2514960e>\", line 40, in <module>\n",
      "    city_rain = city_weather['rain']['3h']\n",
      "KeyError: 'rain'\n"
     ]
    },
    {
     "name": "stdout",
     "output_type": "stream",
     "text": [
      "Processing Record 42 of Set 7 | bilibino\n"
     ]
    },
    {
     "name": "stderr",
     "output_type": "stream",
     "text": [
      "Traceback (most recent call last):\n",
      "  File \"<ipython-input-10-441c2514960e>\", line 40, in <module>\n",
      "    city_rain = city_weather['rain']['3h']\n",
      "KeyError: 'rain'\n"
     ]
    },
    {
     "name": "stdout",
     "output_type": "stream",
     "text": [
      "Processing Record 43 of Set 7 | valdivia\n"
     ]
    },
    {
     "name": "stderr",
     "output_type": "stream",
     "text": [
      "Traceback (most recent call last):\n",
      "  File \"<ipython-input-10-441c2514960e>\", line 40, in <module>\n",
      "    city_rain = city_weather['rain']['3h']\n",
      "KeyError: 'rain'\n"
     ]
    },
    {
     "name": "stdout",
     "output_type": "stream",
     "text": [
      "Processing Record 44 of Set 7 | nelson bay\n"
     ]
    },
    {
     "name": "stderr",
     "output_type": "stream",
     "text": [
      "Traceback (most recent call last):\n",
      "  File \"<ipython-input-10-441c2514960e>\", line 40, in <module>\n",
      "    city_rain = city_weather['rain']['3h']\n",
      "KeyError: 'rain'\n"
     ]
    },
    {
     "name": "stdout",
     "output_type": "stream",
     "text": [
      "Processing Record 45 of Set 7 | umzimvubu\n"
     ]
    },
    {
     "name": "stderr",
     "output_type": "stream",
     "text": [
      "Traceback (most recent call last):\n",
      "  File \"<ipython-input-10-441c2514960e>\", line 32, in <module>\n",
      "    city_lat = city_weather[\"coord\"][\"lat\"]\n",
      "KeyError: 'coord'\n"
     ]
    },
    {
     "name": "stdout",
     "output_type": "stream",
     "text": [
      "Processing Record 46 of Set 7 | malakal\n"
     ]
    },
    {
     "name": "stderr",
     "output_type": "stream",
     "text": [
      "Traceback (most recent call last):\n",
      "  File \"<ipython-input-10-441c2514960e>\", line 40, in <module>\n",
      "    city_rain = city_weather['rain']['3h']\n",
      "KeyError: 'rain'\n"
     ]
    },
    {
     "name": "stdout",
     "output_type": "stream",
     "text": [
      "Processing Record 47 of Set 7 | stornoway\n"
     ]
    },
    {
     "name": "stderr",
     "output_type": "stream",
     "text": [
      "Traceback (most recent call last):\n",
      "  File \"<ipython-input-10-441c2514960e>\", line 40, in <module>\n",
      "    city_rain = city_weather['rain']['3h']\n",
      "KeyError: 'rain'\n"
     ]
    },
    {
     "name": "stdout",
     "output_type": "stream",
     "text": [
      "Processing Record 48 of Set 7 | san pedro\n"
     ]
    },
    {
     "name": "stderr",
     "output_type": "stream",
     "text": [
      "Traceback (most recent call last):\n",
      "  File \"<ipython-input-10-441c2514960e>\", line 40, in <module>\n",
      "    city_rain = city_weather['rain']['3h']\n",
      "KeyError: 'rain'\n"
     ]
    },
    {
     "name": "stdout",
     "output_type": "stream",
     "text": [
      "Processing Record 49 of Set 7 | zhigansk\n"
     ]
    },
    {
     "name": "stderr",
     "output_type": "stream",
     "text": [
      "Traceback (most recent call last):\n",
      "  File \"<ipython-input-10-441c2514960e>\", line 40, in <module>\n",
      "    city_rain = city_weather['rain']['3h']\n",
      "KeyError: 'rain'\n"
     ]
    },
    {
     "name": "stdout",
     "output_type": "stream",
     "text": [
      "Processing Record 50 of Set 7 | garowe\n"
     ]
    },
    {
     "name": "stderr",
     "output_type": "stream",
     "text": [
      "Traceback (most recent call last):\n",
      "  File \"<ipython-input-10-441c2514960e>\", line 40, in <module>\n",
      "    city_rain = city_weather['rain']['3h']\n",
      "KeyError: 'rain'\n"
     ]
    },
    {
     "name": "stdout",
     "output_type": "stream",
     "text": [
      "Processing Record 1 of Set 8 | charleston\n"
     ]
    },
    {
     "name": "stderr",
     "output_type": "stream",
     "text": [
      "Traceback (most recent call last):\n",
      "  File \"<ipython-input-10-441c2514960e>\", line 40, in <module>\n",
      "    city_rain = city_weather['rain']['3h']\n",
      "KeyError: 'rain'\n"
     ]
    },
    {
     "name": "stdout",
     "output_type": "stream",
     "text": [
      "Processing Record 2 of Set 8 | maiduguri\n"
     ]
    },
    {
     "name": "stderr",
     "output_type": "stream",
     "text": [
      "Traceback (most recent call last):\n",
      "  File \"<ipython-input-10-441c2514960e>\", line 40, in <module>\n",
      "    city_rain = city_weather['rain']['3h']\n",
      "KeyError: 'rain'\n"
     ]
    },
    {
     "name": "stdout",
     "output_type": "stream",
     "text": [
      "Processing Record 3 of Set 8 | kompaniyivka\n"
     ]
    },
    {
     "name": "stderr",
     "output_type": "stream",
     "text": [
      "Traceback (most recent call last):\n",
      "  File \"<ipython-input-10-441c2514960e>\", line 40, in <module>\n",
      "    city_rain = city_weather['rain']['3h']\n",
      "KeyError: 'rain'\n"
     ]
    },
    {
     "name": "stdout",
     "output_type": "stream",
     "text": [
      "Processing Record 4 of Set 8 | neryungri\n"
     ]
    },
    {
     "name": "stderr",
     "output_type": "stream",
     "text": [
      "Traceback (most recent call last):\n",
      "  File \"<ipython-input-10-441c2514960e>\", line 40, in <module>\n",
      "    city_rain = city_weather['rain']['3h']\n",
      "KeyError: 'rain'\n"
     ]
    },
    {
     "name": "stdout",
     "output_type": "stream",
     "text": [
      "Processing Record 5 of Set 8 | nuevitas\n"
     ]
    },
    {
     "name": "stderr",
     "output_type": "stream",
     "text": [
      "Traceback (most recent call last):\n",
      "  File \"<ipython-input-10-441c2514960e>\", line 40, in <module>\n",
      "    city_rain = city_weather['rain']['3h']\n",
      "KeyError: 'rain'\n"
     ]
    },
    {
     "name": "stdout",
     "output_type": "stream",
     "text": [
      "Processing Record 6 of Set 8 | cayenne\n"
     ]
    },
    {
     "name": "stderr",
     "output_type": "stream",
     "text": [
      "Traceback (most recent call last):\n",
      "  File \"<ipython-input-10-441c2514960e>\", line 40, in <module>\n",
      "    city_rain = city_weather['rain']['3h']\n",
      "KeyError: 'rain'\n"
     ]
    },
    {
     "name": "stdout",
     "output_type": "stream",
     "text": [
      "Processing Record 7 of Set 8 | lusambo\n"
     ]
    },
    {
     "name": "stderr",
     "output_type": "stream",
     "text": [
      "Traceback (most recent call last):\n",
      "  File \"<ipython-input-10-441c2514960e>\", line 40, in <module>\n",
      "    city_rain = city_weather['rain']['3h']\n",
      "KeyError: 'rain'\n"
     ]
    },
    {
     "name": "stdout",
     "output_type": "stream",
     "text": [
      "Processing Record 8 of Set 8 | cherskiy\n"
     ]
    },
    {
     "name": "stderr",
     "output_type": "stream",
     "text": [
      "Traceback (most recent call last):\n",
      "  File \"<ipython-input-10-441c2514960e>\", line 40, in <module>\n",
      "    city_rain = city_weather['rain']['3h']\n",
      "KeyError: 'rain'\n"
     ]
    },
    {
     "name": "stdout",
     "output_type": "stream",
     "text": [
      "Processing Record 9 of Set 8 | la asuncion\n"
     ]
    },
    {
     "name": "stderr",
     "output_type": "stream",
     "text": [
      "Traceback (most recent call last):\n",
      "  File \"<ipython-input-10-441c2514960e>\", line 40, in <module>\n",
      "    city_rain = city_weather['rain']['3h']\n",
      "KeyError: 'rain'\n"
     ]
    },
    {
     "name": "stdout",
     "output_type": "stream",
     "text": [
      "Processing Record 10 of Set 8 | sugag\n"
     ]
    },
    {
     "name": "stderr",
     "output_type": "stream",
     "text": [
      "Traceback (most recent call last):\n",
      "  File \"<ipython-input-10-441c2514960e>\", line 40, in <module>\n",
      "    city_rain = city_weather['rain']['3h']\n",
      "KeyError: 'rain'\n"
     ]
    },
    {
     "name": "stdout",
     "output_type": "stream",
     "text": [
      "Processing Record 11 of Set 8 | motygino\n"
     ]
    },
    {
     "name": "stderr",
     "output_type": "stream",
     "text": [
      "Traceback (most recent call last):\n",
      "  File \"<ipython-input-10-441c2514960e>\", line 40, in <module>\n",
      "    city_rain = city_weather['rain']['3h']\n",
      "KeyError: 'rain'\n"
     ]
    },
    {
     "name": "stdout",
     "output_type": "stream",
     "text": [
      "Processing Record 12 of Set 8 | chaumont\n"
     ]
    },
    {
     "name": "stderr",
     "output_type": "stream",
     "text": [
      "Traceback (most recent call last):\n",
      "  File \"<ipython-input-10-441c2514960e>\", line 40, in <module>\n",
      "    city_rain = city_weather['rain']['3h']\n",
      "KeyError: 'rain'\n"
     ]
    },
    {
     "name": "stdout",
     "output_type": "stream",
     "text": [
      "Processing Record 13 of Set 8 | rundu\n"
     ]
    },
    {
     "name": "stderr",
     "output_type": "stream",
     "text": [
      "Traceback (most recent call last):\n",
      "  File \"<ipython-input-10-441c2514960e>\", line 41, in <module>\n",
      "    city_snow = city_weather[\"snow\"][\"3h\"]\n",
      "KeyError: 'snow'\n"
     ]
    },
    {
     "name": "stdout",
     "output_type": "stream",
     "text": [
      "Processing Record 14 of Set 8 | portland\n"
     ]
    },
    {
     "name": "stderr",
     "output_type": "stream",
     "text": [
      "Traceback (most recent call last):\n",
      "  File \"<ipython-input-10-441c2514960e>\", line 40, in <module>\n",
      "    city_rain = city_weather['rain']['3h']\n",
      "KeyError: 'rain'\n"
     ]
    },
    {
     "name": "stdout",
     "output_type": "stream",
     "text": [
      "Processing Record 15 of Set 8 | tarko-sale\n"
     ]
    },
    {
     "name": "stderr",
     "output_type": "stream",
     "text": [
      "Traceback (most recent call last):\n",
      "  File \"<ipython-input-10-441c2514960e>\", line 40, in <module>\n",
      "    city_rain = city_weather['rain']['3h']\n",
      "KeyError: 'rain'\n"
     ]
    },
    {
     "name": "stdout",
     "output_type": "stream",
     "text": [
      "Processing Record 16 of Set 8 | kapan\n"
     ]
    },
    {
     "name": "stderr",
     "output_type": "stream",
     "text": [
      "Traceback (most recent call last):\n",
      "  File \"<ipython-input-10-441c2514960e>\", line 40, in <module>\n",
      "    city_rain = city_weather['rain']['3h']\n",
      "KeyError: 'rain'\n"
     ]
    },
    {
     "name": "stdout",
     "output_type": "stream",
     "text": [
      "Processing Record 17 of Set 8 | langenlois\n"
     ]
    },
    {
     "name": "stderr",
     "output_type": "stream",
     "text": [
      "Traceback (most recent call last):\n",
      "  File \"<ipython-input-10-441c2514960e>\", line 40, in <module>\n",
      "    city_rain = city_weather['rain']['3h']\n",
      "KeyError: 'rain'\n"
     ]
    },
    {
     "name": "stdout",
     "output_type": "stream",
     "text": [
      "Processing Record 18 of Set 8 | demirci\n"
     ]
    },
    {
     "name": "stderr",
     "output_type": "stream",
     "text": [
      "Traceback (most recent call last):\n",
      "  File \"<ipython-input-10-441c2514960e>\", line 40, in <module>\n",
      "    city_rain = city_weather['rain']['3h']\n",
      "KeyError: 'rain'\n"
     ]
    },
    {
     "name": "stdout",
     "output_type": "stream",
     "text": [
      "Processing Record 19 of Set 8 | amambai\n"
     ]
    },
    {
     "name": "stderr",
     "output_type": "stream",
     "text": [
      "Traceback (most recent call last):\n",
      "  File \"<ipython-input-10-441c2514960e>\", line 40, in <module>\n",
      "    city_rain = city_weather['rain']['3h']\n",
      "KeyError: 'rain'\n"
     ]
    },
    {
     "name": "stdout",
     "output_type": "stream",
     "text": [
      "Processing Record 20 of Set 8 | mme\n"
     ]
    },
    {
     "name": "stderr",
     "output_type": "stream",
     "text": [
      "Traceback (most recent call last):\n",
      "  File \"<ipython-input-10-441c2514960e>\", line 32, in <module>\n",
      "    city_lat = city_weather[\"coord\"][\"lat\"]\n",
      "KeyError: 'coord'\n"
     ]
    },
    {
     "name": "stdout",
     "output_type": "stream",
     "text": [
      "Processing Record 21 of Set 8 | manado\n"
     ]
    },
    {
     "name": "stderr",
     "output_type": "stream",
     "text": [
      "Traceback (most recent call last):\n",
      "  File \"<ipython-input-10-441c2514960e>\", line 40, in <module>\n",
      "    city_rain = city_weather['rain']['3h']\n",
      "KeyError: 'rain'\n"
     ]
    },
    {
     "name": "stdout",
     "output_type": "stream",
     "text": [
      "Processing Record 22 of Set 8 | caledonia\n"
     ]
    },
    {
     "name": "stderr",
     "output_type": "stream",
     "text": [
      "Traceback (most recent call last):\n",
      "  File \"<ipython-input-10-441c2514960e>\", line 40, in <module>\n",
      "    city_rain = city_weather['rain']['3h']\n",
      "KeyError: 'rain'\n"
     ]
    },
    {
     "name": "stdout",
     "output_type": "stream",
     "text": [
      "Processing Record 23 of Set 8 | nanortalik\n"
     ]
    },
    {
     "name": "stderr",
     "output_type": "stream",
     "text": [
      "Traceback (most recent call last):\n",
      "  File \"<ipython-input-10-441c2514960e>\", line 40, in <module>\n",
      "    city_rain = city_weather['rain']['3h']\n",
      "KeyError: 'rain'\n"
     ]
    },
    {
     "name": "stdout",
     "output_type": "stream",
     "text": [
      "Processing Record 24 of Set 8 | fatsa\n"
     ]
    },
    {
     "name": "stderr",
     "output_type": "stream",
     "text": [
      "Traceback (most recent call last):\n",
      "  File \"<ipython-input-10-441c2514960e>\", line 40, in <module>\n",
      "    city_rain = city_weather['rain']['3h']\n",
      "KeyError: 'rain'\n"
     ]
    },
    {
     "name": "stdout",
     "output_type": "stream",
     "text": [
      "Processing Record 25 of Set 8 | narsaq\n"
     ]
    },
    {
     "name": "stderr",
     "output_type": "stream",
     "text": [
      "Traceback (most recent call last):\n",
      "  File \"<ipython-input-10-441c2514960e>\", line 40, in <module>\n",
      "    city_rain = city_weather['rain']['3h']\n",
      "KeyError: 'rain'\n"
     ]
    },
    {
     "name": "stdout",
     "output_type": "stream",
     "text": [
      "Processing Record 26 of Set 8 | beringovskiy\n"
     ]
    },
    {
     "name": "stderr",
     "output_type": "stream",
     "text": [
      "Traceback (most recent call last):\n",
      "  File \"<ipython-input-10-441c2514960e>\", line 40, in <module>\n",
      "    city_rain = city_weather['rain']['3h']\n",
      "KeyError: 'rain'\n"
     ]
    },
    {
     "name": "stdout",
     "output_type": "stream",
     "text": [
      "Processing Record 27 of Set 8 | lata\n"
     ]
    },
    {
     "name": "stderr",
     "output_type": "stream",
     "text": [
      "Traceback (most recent call last):\n",
      "  File \"<ipython-input-10-441c2514960e>\", line 40, in <module>\n",
      "    city_rain = city_weather['rain']['3h']\n",
      "KeyError: 'rain'\n"
     ]
    },
    {
     "name": "stdout",
     "output_type": "stream",
     "text": [
      "Processing Record 28 of Set 8 | port lincoln\n"
     ]
    },
    {
     "name": "stderr",
     "output_type": "stream",
     "text": [
      "Traceback (most recent call last):\n",
      "  File \"<ipython-input-10-441c2514960e>\", line 40, in <module>\n",
      "    city_rain = city_weather['rain']['3h']\n",
      "KeyError: 'rain'\n"
     ]
    },
    {
     "name": "stdout",
     "output_type": "stream",
     "text": [
      "Processing Record 29 of Set 8 | ilebo\n"
     ]
    },
    {
     "name": "stderr",
     "output_type": "stream",
     "text": [
      "Traceback (most recent call last):\n",
      "  File \"<ipython-input-10-441c2514960e>\", line 40, in <module>\n",
      "    city_rain = city_weather['rain']['3h']\n",
      "KeyError: 'rain'\n"
     ]
    },
    {
     "name": "stdout",
     "output_type": "stream",
     "text": [
      "Processing Record 30 of Set 8 | karratha\n"
     ]
    },
    {
     "name": "stderr",
     "output_type": "stream",
     "text": [
      "Traceback (most recent call last):\n",
      "  File \"<ipython-input-10-441c2514960e>\", line 40, in <module>\n",
      "    city_rain = city_weather['rain']['3h']\n",
      "KeyError: 'rain'\n"
     ]
    },
    {
     "name": "stdout",
     "output_type": "stream",
     "text": [
      "Processing Record 31 of Set 8 | quatre cocos\n"
     ]
    },
    {
     "name": "stderr",
     "output_type": "stream",
     "text": [
      "Traceback (most recent call last):\n",
      "  File \"<ipython-input-10-441c2514960e>\", line 40, in <module>\n",
      "    city_rain = city_weather['rain']['3h']\n",
      "KeyError: 'rain'\n"
     ]
    },
    {
     "name": "stdout",
     "output_type": "stream",
     "text": [
      "Processing Record 32 of Set 8 | swan hill\n"
     ]
    },
    {
     "name": "stderr",
     "output_type": "stream",
     "text": [
      "Traceback (most recent call last):\n",
      "  File \"<ipython-input-10-441c2514960e>\", line 40, in <module>\n",
      "    city_rain = city_weather['rain']['3h']\n",
      "KeyError: 'rain'\n"
     ]
    },
    {
     "name": "stdout",
     "output_type": "stream",
     "text": [
      "Processing Record 33 of Set 8 | tubruq\n"
     ]
    },
    {
     "name": "stderr",
     "output_type": "stream",
     "text": [
      "Traceback (most recent call last):\n",
      "  File \"<ipython-input-10-441c2514960e>\", line 32, in <module>\n",
      "    city_lat = city_weather[\"coord\"][\"lat\"]\n",
      "KeyError: 'coord'\n"
     ]
    },
    {
     "name": "stdout",
     "output_type": "stream",
     "text": [
      "Processing Record 34 of Set 8 | burica\n"
     ]
    },
    {
     "name": "stderr",
     "output_type": "stream",
     "text": [
      "Traceback (most recent call last):\n",
      "  File \"<ipython-input-10-441c2514960e>\", line 32, in <module>\n",
      "    city_lat = city_weather[\"coord\"][\"lat\"]\n",
      "KeyError: 'coord'\n"
     ]
    },
    {
     "name": "stdout",
     "output_type": "stream",
     "text": [
      "Processing Record 35 of Set 8 | istanbul\n"
     ]
    },
    {
     "name": "stderr",
     "output_type": "stream",
     "text": [
      "Traceback (most recent call last):\n",
      "  File \"<ipython-input-10-441c2514960e>\", line 40, in <module>\n",
      "    city_rain = city_weather['rain']['3h']\n",
      "KeyError: 'rain'\n"
     ]
    },
    {
     "name": "stdout",
     "output_type": "stream",
     "text": [
      "Processing Record 36 of Set 8 | yeppoon\n"
     ]
    },
    {
     "name": "stderr",
     "output_type": "stream",
     "text": [
      "Traceback (most recent call last):\n",
      "  File \"<ipython-input-10-441c2514960e>\", line 40, in <module>\n",
      "    city_rain = city_weather['rain']['3h']\n",
      "KeyError: 'rain'\n"
     ]
    },
    {
     "name": "stdout",
     "output_type": "stream",
     "text": [
      "Processing Record 37 of Set 8 | zurrieq\n"
     ]
    },
    {
     "name": "stderr",
     "output_type": "stream",
     "text": [
      "Traceback (most recent call last):\n",
      "  File \"<ipython-input-10-441c2514960e>\", line 40, in <module>\n",
      "    city_rain = city_weather['rain']['3h']\n",
      "KeyError: 'rain'\n",
      "Traceback (most recent call last):\n",
      "  File \"<ipython-input-10-441c2514960e>\", line 41, in <module>\n",
      "    city_snow = city_weather[\"snow\"][\"3h\"]\n",
      "KeyError: 'snow'\n"
     ]
    },
    {
     "name": "stdout",
     "output_type": "stream",
     "text": [
      "Processing Record 38 of Set 8 | sembe\n",
      "Processing Record 39 of Set 8 | komsomolets\n"
     ]
    },
    {
     "name": "stderr",
     "output_type": "stream",
     "text": [
      "Traceback (most recent call last):\n",
      "  File \"<ipython-input-10-441c2514960e>\", line 40, in <module>\n",
      "    city_rain = city_weather['rain']['3h']\n",
      "KeyError: 'rain'\n"
     ]
    },
    {
     "name": "stdout",
     "output_type": "stream",
     "text": [
      "Processing Record 40 of Set 8 | christchurch\n"
     ]
    },
    {
     "name": "stderr",
     "output_type": "stream",
     "text": [
      "Traceback (most recent call last):\n",
      "  File \"<ipython-input-10-441c2514960e>\", line 40, in <module>\n",
      "    city_rain = city_weather['rain']['3h']\n",
      "KeyError: 'rain'\n"
     ]
    },
    {
     "name": "stdout",
     "output_type": "stream",
     "text": [
      "Processing Record 41 of Set 8 | tautira\n"
     ]
    },
    {
     "name": "stderr",
     "output_type": "stream",
     "text": [
      "Traceback (most recent call last):\n",
      "  File \"<ipython-input-10-441c2514960e>\", line 40, in <module>\n",
      "    city_rain = city_weather['rain']['3h']\n",
      "KeyError: 'rain'\n"
     ]
    },
    {
     "name": "stdout",
     "output_type": "stream",
     "text": [
      "Processing Record 42 of Set 8 | portree\n"
     ]
    },
    {
     "name": "stderr",
     "output_type": "stream",
     "text": [
      "Traceback (most recent call last):\n",
      "  File \"<ipython-input-10-441c2514960e>\", line 40, in <module>\n",
      "    city_rain = city_weather['rain']['3h']\n",
      "KeyError: 'rain'\n"
     ]
    },
    {
     "name": "stdout",
     "output_type": "stream",
     "text": [
      "Processing Record 43 of Set 8 | miles city\n"
     ]
    },
    {
     "name": "stderr",
     "output_type": "stream",
     "text": [
      "Traceback (most recent call last):\n",
      "  File \"<ipython-input-10-441c2514960e>\", line 40, in <module>\n",
      "    city_rain = city_weather['rain']['3h']\n",
      "KeyError: 'rain'\n"
     ]
    },
    {
     "name": "stdout",
     "output_type": "stream",
     "text": [
      "Processing Record 44 of Set 8 | antalaha\n"
     ]
    },
    {
     "name": "stderr",
     "output_type": "stream",
     "text": [
      "Traceback (most recent call last):\n",
      "  File \"<ipython-input-10-441c2514960e>\", line 41, in <module>\n",
      "    city_snow = city_weather[\"snow\"][\"3h\"]\n",
      "KeyError: 'snow'\n"
     ]
    },
    {
     "name": "stdout",
     "output_type": "stream",
     "text": [
      "Processing Record 45 of Set 8 | samarai\n"
     ]
    },
    {
     "name": "stderr",
     "output_type": "stream",
     "text": [
      "Traceback (most recent call last):\n",
      "  File \"<ipython-input-10-441c2514960e>\", line 40, in <module>\n",
      "    city_rain = city_weather['rain']['3h']\n",
      "KeyError: 'rain'\n"
     ]
    },
    {
     "name": "stdout",
     "output_type": "stream",
     "text": [
      "Processing Record 46 of Set 8 | hasaki\n",
      "Processing Record 47 of Set 8 | viedma\n"
     ]
    },
    {
     "name": "stderr",
     "output_type": "stream",
     "text": [
      "Traceback (most recent call last):\n",
      "  File \"<ipython-input-10-441c2514960e>\", line 40, in <module>\n",
      "    city_rain = city_weather['rain']['3h']\n",
      "KeyError: 'rain'\n",
      "Traceback (most recent call last):\n",
      "  File \"<ipython-input-10-441c2514960e>\", line 40, in <module>\n",
      "    city_rain = city_weather['rain']['3h']\n",
      "KeyError: 'rain'\n"
     ]
    },
    {
     "name": "stdout",
     "output_type": "stream",
     "text": [
      "Processing Record 48 of Set 8 | vila franca do campo\n"
     ]
    },
    {
     "name": "stderr",
     "output_type": "stream",
     "text": [
      "Traceback (most recent call last):\n",
      "  File \"<ipython-input-10-441c2514960e>\", line 40, in <module>\n",
      "    city_rain = city_weather['rain']['3h']\n",
      "KeyError: 'rain'\n"
     ]
    },
    {
     "name": "stdout",
     "output_type": "stream",
     "text": [
      "Processing Record 49 of Set 8 | bud\n"
     ]
    },
    {
     "name": "stderr",
     "output_type": "stream",
     "text": [
      "Traceback (most recent call last):\n",
      "  File \"<ipython-input-10-441c2514960e>\", line 40, in <module>\n",
      "    city_rain = city_weather['rain']['3h']\n",
      "KeyError: 'rain'\n"
     ]
    },
    {
     "name": "stdout",
     "output_type": "stream",
     "text": [
      "Processing Record 50 of Set 8 | suez\n"
     ]
    },
    {
     "name": "stderr",
     "output_type": "stream",
     "text": [
      "Traceback (most recent call last):\n",
      "  File \"<ipython-input-10-441c2514960e>\", line 40, in <module>\n",
      "    city_rain = city_weather['rain']['3h']\n",
      "KeyError: 'rain'\n"
     ]
    },
    {
     "name": "stdout",
     "output_type": "stream",
     "text": [
      "Processing Record 1 of Set 9 | flinders\n"
     ]
    },
    {
     "name": "stderr",
     "output_type": "stream",
     "text": [
      "Traceback (most recent call last):\n",
      "  File \"<ipython-input-10-441c2514960e>\", line 40, in <module>\n",
      "    city_rain = city_weather['rain']['3h']\n",
      "KeyError: 'rain'\n"
     ]
    },
    {
     "name": "stdout",
     "output_type": "stream",
     "text": [
      "Processing Record 2 of Set 9 | tabou\n"
     ]
    },
    {
     "name": "stderr",
     "output_type": "stream",
     "text": [
      "Traceback (most recent call last):\n",
      "  File \"<ipython-input-10-441c2514960e>\", line 40, in <module>\n",
      "    city_rain = city_weather['rain']['3h']\n",
      "KeyError: 'rain'\n"
     ]
    },
    {
     "name": "stdout",
     "output_type": "stream",
     "text": [
      "Processing Record 3 of Set 9 | san jose iturbide\n"
     ]
    },
    {
     "name": "stderr",
     "output_type": "stream",
     "text": [
      "Traceback (most recent call last):\n",
      "  File \"<ipython-input-10-441c2514960e>\", line 40, in <module>\n",
      "    city_rain = city_weather['rain']['3h']\n",
      "KeyError: 'rain'\n"
     ]
    },
    {
     "name": "stdout",
     "output_type": "stream",
     "text": [
      "Processing Record 4 of Set 9 | merzifon\n"
     ]
    },
    {
     "name": "stderr",
     "output_type": "stream",
     "text": [
      "Traceback (most recent call last):\n",
      "  File \"<ipython-input-10-441c2514960e>\", line 40, in <module>\n",
      "    city_rain = city_weather['rain']['3h']\n",
      "KeyError: 'rain'\n"
     ]
    },
    {
     "name": "stdout",
     "output_type": "stream",
     "text": [
      "Processing Record 5 of Set 9 | dongsheng\n"
     ]
    },
    {
     "name": "stderr",
     "output_type": "stream",
     "text": [
      "Traceback (most recent call last):\n",
      "  File \"<ipython-input-10-441c2514960e>\", line 40, in <module>\n",
      "    city_rain = city_weather['rain']['3h']\n",
      "KeyError: 'rain'\n"
     ]
    },
    {
     "name": "stdout",
     "output_type": "stream",
     "text": [
      "Processing Record 6 of Set 9 | sicuani\n"
     ]
    },
    {
     "name": "stderr",
     "output_type": "stream",
     "text": [
      "Traceback (most recent call last):\n",
      "  File \"<ipython-input-10-441c2514960e>\", line 41, in <module>\n",
      "    city_snow = city_weather[\"snow\"][\"3h\"]\n",
      "KeyError: 'snow'\n"
     ]
    },
    {
     "name": "stdout",
     "output_type": "stream",
     "text": [
      "Processing Record 7 of Set 9 | lima\n"
     ]
    },
    {
     "name": "stderr",
     "output_type": "stream",
     "text": [
      "Traceback (most recent call last):\n",
      "  File \"<ipython-input-10-441c2514960e>\", line 40, in <module>\n",
      "    city_rain = city_weather['rain']['3h']\n",
      "KeyError: 'rain'\n"
     ]
    },
    {
     "name": "stdout",
     "output_type": "stream",
     "text": [
      "Processing Record 8 of Set 9 | bang saphan\n"
     ]
    },
    {
     "name": "stderr",
     "output_type": "stream",
     "text": [
      "Traceback (most recent call last):\n",
      "  File \"<ipython-input-10-441c2514960e>\", line 40, in <module>\n",
      "    city_rain = city_weather['rain']['3h']\n",
      "KeyError: 'rain'\n"
     ]
    },
    {
     "name": "stdout",
     "output_type": "stream",
     "text": [
      "Processing Record 9 of Set 9 | bulgan\n"
     ]
    },
    {
     "name": "stderr",
     "output_type": "stream",
     "text": [
      "Traceback (most recent call last):\n",
      "  File \"<ipython-input-10-441c2514960e>\", line 40, in <module>\n",
      "    city_rain = city_weather['rain']['3h']\n",
      "KeyError: 'rain'\n"
     ]
    },
    {
     "name": "stdout",
     "output_type": "stream",
     "text": [
      "Processing Record 10 of Set 9 | coquimbo\n"
     ]
    },
    {
     "name": "stderr",
     "output_type": "stream",
     "text": [
      "Traceback (most recent call last):\n",
      "  File \"<ipython-input-10-441c2514960e>\", line 40, in <module>\n",
      "    city_rain = city_weather['rain']['3h']\n",
      "KeyError: 'rain'\n"
     ]
    },
    {
     "name": "stdout",
     "output_type": "stream",
     "text": [
      "Processing Record 11 of Set 9 | zyryanka\n"
     ]
    },
    {
     "name": "stderr",
     "output_type": "stream",
     "text": [
      "Traceback (most recent call last):\n",
      "  File \"<ipython-input-10-441c2514960e>\", line 40, in <module>\n",
      "    city_rain = city_weather['rain']['3h']\n",
      "KeyError: 'rain'\n"
     ]
    },
    {
     "name": "stdout",
     "output_type": "stream",
     "text": [
      "Processing Record 12 of Set 9 | mumford\n"
     ]
    },
    {
     "name": "stderr",
     "output_type": "stream",
     "text": [
      "Traceback (most recent call last):\n",
      "  File \"<ipython-input-10-441c2514960e>\", line 40, in <module>\n",
      "    city_rain = city_weather['rain']['3h']\n",
      "KeyError: 'rain'\n"
     ]
    },
    {
     "name": "stdout",
     "output_type": "stream",
     "text": [
      "Processing Record 13 of Set 9 | dawlatabad\n"
     ]
    },
    {
     "name": "stderr",
     "output_type": "stream",
     "text": [
      "Traceback (most recent call last):\n",
      "  File \"<ipython-input-10-441c2514960e>\", line 40, in <module>\n",
      "    city_rain = city_weather['rain']['3h']\n",
      "KeyError: 'rain'\n",
      "Traceback (most recent call last):\n"
     ]
    },
    {
     "name": "stdout",
     "output_type": "stream",
     "text": [
      "Processing Record 14 of Set 9 | edea\n"
     ]
    },
    {
     "name": "stderr",
     "output_type": "stream",
     "text": [
      "  File \"<ipython-input-10-441c2514960e>\", line 40, in <module>\n",
      "    city_rain = city_weather['rain']['3h']\n",
      "KeyError: 'rain'\n",
      "Traceback (most recent call last):\n",
      "  File \"<ipython-input-10-441c2514960e>\", line 40, in <module>\n",
      "    city_rain = city_weather['rain']['3h']\n",
      "KeyError: 'rain'\n"
     ]
    },
    {
     "name": "stdout",
     "output_type": "stream",
     "text": [
      "Processing Record 15 of Set 9 | anchorage\n",
      "Processing Record 16 of Set 9 | ola\n"
     ]
    },
    {
     "name": "stderr",
     "output_type": "stream",
     "text": [
      "Traceback (most recent call last):\n",
      "  File \"<ipython-input-10-441c2514960e>\", line 40, in <module>\n",
      "    city_rain = city_weather['rain']['3h']\n",
      "KeyError: 'rain'\n"
     ]
    },
    {
     "name": "stdout",
     "output_type": "stream",
     "text": [
      "Processing Record 17 of Set 9 | eydhafushi\n"
     ]
    },
    {
     "name": "stderr",
     "output_type": "stream",
     "text": [
      "Traceback (most recent call last):\n",
      "  File \"<ipython-input-10-441c2514960e>\", line 40, in <module>\n",
      "    city_rain = city_weather['rain']['3h']\n",
      "KeyError: 'rain'\n"
     ]
    },
    {
     "name": "stdout",
     "output_type": "stream",
     "text": [
      "Processing Record 18 of Set 9 | noumea\n"
     ]
    },
    {
     "name": "stderr",
     "output_type": "stream",
     "text": [
      "Traceback (most recent call last):\n",
      "  File \"<ipython-input-10-441c2514960e>\", line 40, in <module>\n",
      "    city_rain = city_weather['rain']['3h']\n",
      "KeyError: 'rain'\n"
     ]
    },
    {
     "name": "stdout",
     "output_type": "stream",
     "text": [
      "Processing Record 19 of Set 9 | ilulissat\n"
     ]
    },
    {
     "name": "stderr",
     "output_type": "stream",
     "text": [
      "Traceback (most recent call last):\n",
      "  File \"<ipython-input-10-441c2514960e>\", line 40, in <module>\n",
      "    city_rain = city_weather['rain']['3h']\n",
      "KeyError: 'rain'\n"
     ]
    },
    {
     "name": "stdout",
     "output_type": "stream",
     "text": [
      "Processing Record 20 of Set 9 | bengkalis\n"
     ]
    },
    {
     "name": "stderr",
     "output_type": "stream",
     "text": [
      "Traceback (most recent call last):\n",
      "  File \"<ipython-input-10-441c2514960e>\", line 32, in <module>\n",
      "    city_lat = city_weather[\"coord\"][\"lat\"]\n",
      "KeyError: 'coord'\n"
     ]
    },
    {
     "name": "stdout",
     "output_type": "stream",
     "text": [
      "Processing Record 21 of Set 9 | evensk\n"
     ]
    },
    {
     "name": "stderr",
     "output_type": "stream",
     "text": [
      "Traceback (most recent call last):\n",
      "  File \"<ipython-input-10-441c2514960e>\", line 40, in <module>\n",
      "    city_rain = city_weather['rain']['3h']\n",
      "KeyError: 'rain'\n"
     ]
    },
    {
     "name": "stdout",
     "output_type": "stream",
     "text": [
      "Processing Record 22 of Set 9 | labuhan\n"
     ]
    },
    {
     "name": "stderr",
     "output_type": "stream",
     "text": [
      "Traceback (most recent call last):\n",
      "  File \"<ipython-input-10-441c2514960e>\", line 40, in <module>\n",
      "    city_rain = city_weather['rain']['3h']\n",
      "KeyError: 'rain'\n"
     ]
    },
    {
     "name": "stdout",
     "output_type": "stream",
     "text": [
      "Processing Record 23 of Set 9 | loanda\n"
     ]
    },
    {
     "name": "stderr",
     "output_type": "stream",
     "text": [
      "Traceback (most recent call last):\n",
      "  File \"<ipython-input-10-441c2514960e>\", line 40, in <module>\n",
      "    city_rain = city_weather['rain']['3h']\n",
      "KeyError: 'rain'\n"
     ]
    },
    {
     "name": "stdout",
     "output_type": "stream",
     "text": [
      "Processing Record 24 of Set 9 | ixtapa\n"
     ]
    },
    {
     "name": "stderr",
     "output_type": "stream",
     "text": [
      "Traceback (most recent call last):\n",
      "  File \"<ipython-input-10-441c2514960e>\", line 40, in <module>\n",
      "    city_rain = city_weather['rain']['3h']\n",
      "KeyError: 'rain'\n"
     ]
    },
    {
     "name": "stdout",
     "output_type": "stream",
     "text": [
      "Processing Record 25 of Set 9 | vostok\n"
     ]
    },
    {
     "name": "stderr",
     "output_type": "stream",
     "text": [
      "Traceback (most recent call last):\n",
      "  File \"<ipython-input-10-441c2514960e>\", line 40, in <module>\n",
      "    city_rain = city_weather['rain']['3h']\n",
      "KeyError: 'rain'\n"
     ]
    },
    {
     "name": "stdout",
     "output_type": "stream",
     "text": [
      "Processing Record 26 of Set 9 | avallon\n"
     ]
    },
    {
     "name": "stderr",
     "output_type": "stream",
     "text": [
      "Traceback (most recent call last):\n",
      "  File \"<ipython-input-10-441c2514960e>\", line 41, in <module>\n",
      "    city_snow = city_weather[\"snow\"][\"3h\"]\n",
      "KeyError: 'snow'\n"
     ]
    },
    {
     "name": "stdout",
     "output_type": "stream",
     "text": [
      "Processing Record 27 of Set 9 | coahuayana\n"
     ]
    },
    {
     "name": "stderr",
     "output_type": "stream",
     "text": [
      "Traceback (most recent call last):\n",
      "  File \"<ipython-input-10-441c2514960e>\", line 40, in <module>\n",
      "    city_rain = city_weather['rain']['3h']\n",
      "KeyError: 'rain'\n"
     ]
    },
    {
     "name": "stdout",
     "output_type": "stream",
     "text": [
      "Processing Record 28 of Set 9 | vaitupu\n"
     ]
    },
    {
     "name": "stderr",
     "output_type": "stream",
     "text": [
      "Traceback (most recent call last):\n",
      "  File \"<ipython-input-10-441c2514960e>\", line 32, in <module>\n",
      "    city_lat = city_weather[\"coord\"][\"lat\"]\n",
      "KeyError: 'coord'\n"
     ]
    },
    {
     "name": "stdout",
     "output_type": "stream",
     "text": [
      "Processing Record 29 of Set 9 | ponta do sol\n"
     ]
    },
    {
     "name": "stderr",
     "output_type": "stream",
     "text": [
      "Traceback (most recent call last):\n",
      "  File \"<ipython-input-10-441c2514960e>\", line 40, in <module>\n",
      "    city_rain = city_weather['rain']['3h']\n",
      "KeyError: 'rain'\n"
     ]
    },
    {
     "name": "stdout",
     "output_type": "stream",
     "text": [
      "Processing Record 30 of Set 9 | batagay\n"
     ]
    },
    {
     "name": "stderr",
     "output_type": "stream",
     "text": [
      "Traceback (most recent call last):\n",
      "  File \"<ipython-input-10-441c2514960e>\", line 40, in <module>\n",
      "    city_rain = city_weather['rain']['3h']\n",
      "KeyError: 'rain'\n"
     ]
    },
    {
     "name": "stdout",
     "output_type": "stream",
     "text": [
      "Processing Record 31 of Set 9 | eskasem\n"
     ]
    },
    {
     "name": "stderr",
     "output_type": "stream",
     "text": [
      "Traceback (most recent call last):\n",
      "  File \"<ipython-input-10-441c2514960e>\", line 32, in <module>\n",
      "    city_lat = city_weather[\"coord\"][\"lat\"]\n",
      "KeyError: 'coord'\n"
     ]
    },
    {
     "name": "stdout",
     "output_type": "stream",
     "text": [
      "Processing Record 32 of Set 9 | vilyuysk\n"
     ]
    },
    {
     "name": "stderr",
     "output_type": "stream",
     "text": [
      "Traceback (most recent call last):\n",
      "  File \"<ipython-input-10-441c2514960e>\", line 40, in <module>\n",
      "    city_rain = city_weather['rain']['3h']\n",
      "KeyError: 'rain'\n"
     ]
    },
    {
     "name": "stdout",
     "output_type": "stream",
     "text": [
      "Processing Record 33 of Set 9 | olafsvik\n"
     ]
    },
    {
     "name": "stderr",
     "output_type": "stream",
     "text": [
      "Traceback (most recent call last):\n",
      "  File \"<ipython-input-10-441c2514960e>\", line 40, in <module>\n",
      "    city_rain = city_weather['rain']['3h']\n",
      "KeyError: 'rain'\n"
     ]
    },
    {
     "name": "stdout",
     "output_type": "stream",
     "text": [
      "Processing Record 34 of Set 9 | katsuura\n"
     ]
    },
    {
     "name": "stderr",
     "output_type": "stream",
     "text": [
      "Traceback (most recent call last):\n",
      "  File \"<ipython-input-10-441c2514960e>\", line 40, in <module>\n",
      "    city_rain = city_weather['rain']['3h']\n",
      "KeyError: 'rain'\n"
     ]
    },
    {
     "name": "stdout",
     "output_type": "stream",
     "text": [
      "Processing Record 35 of Set 9 | tamandare\n"
     ]
    },
    {
     "name": "stderr",
     "output_type": "stream",
     "text": [
      "Traceback (most recent call last):\n",
      "  File \"<ipython-input-10-441c2514960e>\", line 41, in <module>\n",
      "    city_snow = city_weather[\"snow\"][\"3h\"]\n",
      "KeyError: 'snow'\n"
     ]
    },
    {
     "name": "stdout",
     "output_type": "stream",
     "text": [
      "Processing Record 36 of Set 9 | albion\n"
     ]
    },
    {
     "name": "stderr",
     "output_type": "stream",
     "text": [
      "Traceback (most recent call last):\n",
      "  File \"<ipython-input-10-441c2514960e>\", line 40, in <module>\n",
      "    city_rain = city_weather['rain']['3h']\n",
      "KeyError: 'rain'\n"
     ]
    },
    {
     "name": "stdout",
     "output_type": "stream",
     "text": [
      "Processing Record 37 of Set 9 | meylan\n"
     ]
    },
    {
     "name": "stderr",
     "output_type": "stream",
     "text": [
      "Traceback (most recent call last):\n",
      "  File \"<ipython-input-10-441c2514960e>\", line 40, in <module>\n",
      "    city_rain = city_weather['rain']['3h']\n",
      "KeyError: 'rain'\n"
     ]
    },
    {
     "name": "stdout",
     "output_type": "stream",
     "text": [
      "Processing Record 38 of Set 9 | luganville\n"
     ]
    },
    {
     "name": "stderr",
     "output_type": "stream",
     "text": [
      "Traceback (most recent call last):\n",
      "  File \"<ipython-input-10-441c2514960e>\", line 40, in <module>\n",
      "    city_rain = city_weather['rain']['3h']\n",
      "KeyError: 'rain'\n"
     ]
    },
    {
     "name": "stdout",
     "output_type": "stream",
     "text": [
      "Processing Record 39 of Set 9 | jieshi\n"
     ]
    },
    {
     "name": "stderr",
     "output_type": "stream",
     "text": [
      "Traceback (most recent call last):\n",
      "  File \"<ipython-input-10-441c2514960e>\", line 40, in <module>\n",
      "    city_rain = city_weather['rain']['3h']\n",
      "KeyError: 'rain'\n"
     ]
    },
    {
     "name": "stdout",
     "output_type": "stream",
     "text": [
      "Processing Record 40 of Set 9 | bridgetown\n"
     ]
    },
    {
     "name": "stderr",
     "output_type": "stream",
     "text": [
      "Traceback (most recent call last):\n",
      "  File \"<ipython-input-10-441c2514960e>\", line 40, in <module>\n",
      "    city_rain = city_weather['rain']['3h']\n",
      "KeyError: 'rain'\n"
     ]
    },
    {
     "name": "stdout",
     "output_type": "stream",
     "text": [
      "Processing Record 41 of Set 9 | muroto\n"
     ]
    },
    {
     "name": "stderr",
     "output_type": "stream",
     "text": [
      "Traceback (most recent call last):\n",
      "  File \"<ipython-input-10-441c2514960e>\", line 40, in <module>\n",
      "    city_rain = city_weather['rain']['3h']\n",
      "KeyError: 'rain'\n"
     ]
    },
    {
     "name": "stdout",
     "output_type": "stream",
     "text": [
      "Processing Record 42 of Set 9 | bossembele\n"
     ]
    },
    {
     "name": "stderr",
     "output_type": "stream",
     "text": [
      "Traceback (most recent call last):\n",
      "  File \"<ipython-input-10-441c2514960e>\", line 32, in <module>\n",
      "    city_lat = city_weather[\"coord\"][\"lat\"]\n",
      "KeyError: 'coord'\n"
     ]
    },
    {
     "name": "stdout",
     "output_type": "stream",
     "text": [
      "Processing Record 43 of Set 9 | namatanai\n"
     ]
    },
    {
     "name": "stderr",
     "output_type": "stream",
     "text": [
      "Traceback (most recent call last):\n",
      "  File \"<ipython-input-10-441c2514960e>\", line 40, in <module>\n",
      "    city_rain = city_weather['rain']['3h']\n",
      "KeyError: 'rain'\n"
     ]
    },
    {
     "name": "stdout",
     "output_type": "stream",
     "text": [
      "Processing Record 44 of Set 9 | umea\n"
     ]
    },
    {
     "name": "stderr",
     "output_type": "stream",
     "text": [
      "Traceback (most recent call last):\n",
      "  File \"<ipython-input-10-441c2514960e>\", line 40, in <module>\n",
      "    city_rain = city_weather['rain']['3h']\n",
      "KeyError: 'rain'\n"
     ]
    },
    {
     "name": "stdout",
     "output_type": "stream",
     "text": [
      "Processing Record 45 of Set 9 | gizo\n"
     ]
    },
    {
     "name": "stderr",
     "output_type": "stream",
     "text": [
      "Traceback (most recent call last):\n",
      "  File \"<ipython-input-10-441c2514960e>\", line 40, in <module>\n",
      "    city_rain = city_weather['rain']['3h']\n",
      "KeyError: 'rain'\n"
     ]
    },
    {
     "name": "stdout",
     "output_type": "stream",
     "text": [
      "Processing Record 46 of Set 9 | coaticook\n"
     ]
    },
    {
     "name": "stderr",
     "output_type": "stream",
     "text": [
      "Traceback (most recent call last):\n",
      "  File \"<ipython-input-10-441c2514960e>\", line 40, in <module>\n",
      "    city_rain = city_weather['rain']['3h']\n",
      "KeyError: 'rain'\n"
     ]
    },
    {
     "name": "stdout",
     "output_type": "stream",
     "text": [
      "Processing Record 47 of Set 9 | upata\n"
     ]
    },
    {
     "name": "stderr",
     "output_type": "stream",
     "text": [
      "Traceback (most recent call last):\n",
      "  File \"<ipython-input-10-441c2514960e>\", line 40, in <module>\n",
      "    city_rain = city_weather['rain']['3h']\n",
      "KeyError: 'rain'\n"
     ]
    },
    {
     "name": "stdout",
     "output_type": "stream",
     "text": [
      "Processing Record 48 of Set 9 | kamenskoye\n"
     ]
    },
    {
     "name": "stderr",
     "output_type": "stream",
     "text": [
      "Traceback (most recent call last):\n",
      "  File \"<ipython-input-10-441c2514960e>\", line 32, in <module>\n",
      "    city_lat = city_weather[\"coord\"][\"lat\"]\n",
      "KeyError: 'coord'\n"
     ]
    },
    {
     "name": "stdout",
     "output_type": "stream",
     "text": [
      "Processing Record 49 of Set 9 | turgutlu\n"
     ]
    },
    {
     "name": "stderr",
     "output_type": "stream",
     "text": [
      "Traceback (most recent call last):\n",
      "  File \"<ipython-input-10-441c2514960e>\", line 40, in <module>\n",
      "    city_rain = city_weather['rain']['3h']\n",
      "KeyError: 'rain'\n"
     ]
    },
    {
     "name": "stdout",
     "output_type": "stream",
     "text": [
      "Processing Record 50 of Set 9 | pavelets\n"
     ]
    },
    {
     "name": "stderr",
     "output_type": "stream",
     "text": [
      "Traceback (most recent call last):\n",
      "  File \"<ipython-input-10-441c2514960e>\", line 40, in <module>\n",
      "    city_rain = city_weather['rain']['3h']\n",
      "KeyError: 'rain'\n"
     ]
    },
    {
     "name": "stdout",
     "output_type": "stream",
     "text": [
      "Processing Record 1 of Set 10 | nouadhibou\n"
     ]
    },
    {
     "name": "stderr",
     "output_type": "stream",
     "text": [
      "Traceback (most recent call last):\n",
      "  File \"<ipython-input-10-441c2514960e>\", line 40, in <module>\n",
      "    city_rain = city_weather['rain']['3h']\n",
      "KeyError: 'rain'\n"
     ]
    },
    {
     "name": "stdout",
     "output_type": "stream",
     "text": [
      "Processing Record 2 of Set 10 | baile tusnad\n"
     ]
    },
    {
     "name": "stderr",
     "output_type": "stream",
     "text": [
      "Traceback (most recent call last):\n",
      "  File \"<ipython-input-10-441c2514960e>\", line 40, in <module>\n",
      "    city_rain = city_weather['rain']['3h']\n",
      "KeyError: 'rain'\n"
     ]
    },
    {
     "name": "stdout",
     "output_type": "stream",
     "text": [
      "Processing Record 3 of Set 10 | luena\n"
     ]
    },
    {
     "name": "stderr",
     "output_type": "stream",
     "text": [
      "Traceback (most recent call last):\n",
      "  File \"<ipython-input-10-441c2514960e>\", line 41, in <module>\n",
      "    city_snow = city_weather[\"snow\"][\"3h\"]\n",
      "KeyError: 'snow'\n"
     ]
    },
    {
     "name": "stdout",
     "output_type": "stream",
     "text": [
      "Processing Record 4 of Set 10 | mankato\n"
     ]
    },
    {
     "name": "stderr",
     "output_type": "stream",
     "text": [
      "Traceback (most recent call last):\n",
      "  File \"<ipython-input-10-441c2514960e>\", line 40, in <module>\n",
      "    city_rain = city_weather['rain']['3h']\n",
      "KeyError: 'rain'\n"
     ]
    },
    {
     "name": "stdout",
     "output_type": "stream",
     "text": [
      "Processing Record 5 of Set 10 | carutapera\n"
     ]
    },
    {
     "name": "stderr",
     "output_type": "stream",
     "text": [
      "Traceback (most recent call last):\n",
      "  File \"<ipython-input-10-441c2514960e>\", line 41, in <module>\n",
      "    city_snow = city_weather[\"snow\"][\"3h\"]\n",
      "KeyError: 'snow'\n"
     ]
    },
    {
     "name": "stdout",
     "output_type": "stream",
     "text": [
      "Processing Record 6 of Set 10 | north augusta\n"
     ]
    },
    {
     "name": "stderr",
     "output_type": "stream",
     "text": [
      "Traceback (most recent call last):\n",
      "  File \"<ipython-input-10-441c2514960e>\", line 40, in <module>\n",
      "    city_rain = city_weather['rain']['3h']\n",
      "KeyError: 'rain'\n"
     ]
    },
    {
     "name": "stdout",
     "output_type": "stream",
     "text": [
      "Processing Record 7 of Set 10 | mount isa\n"
     ]
    },
    {
     "name": "stderr",
     "output_type": "stream",
     "text": [
      "Traceback (most recent call last):\n",
      "  File \"<ipython-input-10-441c2514960e>\", line 40, in <module>\n",
      "    city_rain = city_weather['rain']['3h']\n",
      "KeyError: 'rain'\n"
     ]
    },
    {
     "name": "stdout",
     "output_type": "stream",
     "text": [
      "Processing Record 8 of Set 10 | poum\n"
     ]
    },
    {
     "name": "stderr",
     "output_type": "stream",
     "text": [
      "Traceback (most recent call last):\n",
      "  File \"<ipython-input-10-441c2514960e>\", line 40, in <module>\n",
      "    city_rain = city_weather['rain']['3h']\n",
      "KeyError: 'rain'\n"
     ]
    },
    {
     "name": "stdout",
     "output_type": "stream",
     "text": [
      "Processing Record 9 of Set 10 | noshiro\n"
     ]
    },
    {
     "name": "stderr",
     "output_type": "stream",
     "text": [
      "Traceback (most recent call last):\n",
      "  File \"<ipython-input-10-441c2514960e>\", line 40, in <module>\n",
      "    city_rain = city_weather['rain']['3h']\n",
      "KeyError: 'rain'\n"
     ]
    },
    {
     "name": "stdout",
     "output_type": "stream",
     "text": [
      "Processing Record 10 of Set 10 | itaqui\n"
     ]
    },
    {
     "name": "stderr",
     "output_type": "stream",
     "text": [
      "Traceback (most recent call last):\n",
      "  File \"<ipython-input-10-441c2514960e>\", line 41, in <module>\n",
      "    city_snow = city_weather[\"snow\"][\"3h\"]\n",
      "KeyError: 'snow'\n"
     ]
    },
    {
     "name": "stdout",
     "output_type": "stream",
     "text": [
      "Processing Record 11 of Set 10 | villa guerrero\n"
     ]
    },
    {
     "name": "stderr",
     "output_type": "stream",
     "text": [
      "Traceback (most recent call last):\n",
      "  File \"<ipython-input-10-441c2514960e>\", line 40, in <module>\n",
      "    city_rain = city_weather['rain']['3h']\n",
      "KeyError: 'rain'\n",
      "Traceback (most recent call last):\n"
     ]
    },
    {
     "name": "stdout",
     "output_type": "stream",
     "text": [
      "Processing Record 12 of Set 10 | veraval\n"
     ]
    },
    {
     "name": "stderr",
     "output_type": "stream",
     "text": [
      "  File \"<ipython-input-10-441c2514960e>\", line 40, in <module>\n",
      "    city_rain = city_weather['rain']['3h']\n",
      "KeyError: 'rain'\n",
      "Traceback (most recent call last):\n",
      "  File \"<ipython-input-10-441c2514960e>\", line 40, in <module>\n",
      "    city_rain = city_weather['rain']['3h']\n",
      "KeyError: 'rain'\n"
     ]
    },
    {
     "name": "stdout",
     "output_type": "stream",
     "text": [
      "Processing Record 13 of Set 10 | nioro\n",
      "Processing Record 14 of Set 10 | sofiysk\n"
     ]
    },
    {
     "name": "stderr",
     "output_type": "stream",
     "text": [
      "Traceback (most recent call last):\n",
      "  File \"<ipython-input-10-441c2514960e>\", line 32, in <module>\n",
      "    city_lat = city_weather[\"coord\"][\"lat\"]\n",
      "KeyError: 'coord'\n"
     ]
    },
    {
     "name": "stdout",
     "output_type": "stream",
     "text": [
      "Processing Record 15 of Set 10 | danielskuil\n"
     ]
    },
    {
     "name": "stderr",
     "output_type": "stream",
     "text": [
      "Traceback (most recent call last):\n",
      "  File \"<ipython-input-10-441c2514960e>\", line 40, in <module>\n",
      "    city_rain = city_weather['rain']['3h']\n",
      "KeyError: 'rain'\n"
     ]
    },
    {
     "name": "stdout",
     "output_type": "stream",
     "text": [
      "Processing Record 16 of Set 10 | tura\n"
     ]
    },
    {
     "name": "stderr",
     "output_type": "stream",
     "text": [
      "Traceback (most recent call last):\n",
      "  File \"<ipython-input-10-441c2514960e>\", line 40, in <module>\n",
      "    city_rain = city_weather['rain']['3h']\n",
      "KeyError: 'rain'\n"
     ]
    },
    {
     "name": "stdout",
     "output_type": "stream",
     "text": [
      "Processing Record 17 of Set 10 | edmundston\n"
     ]
    },
    {
     "name": "stderr",
     "output_type": "stream",
     "text": [
      "Traceback (most recent call last):\n",
      "  File \"<ipython-input-10-441c2514960e>\", line 40, in <module>\n",
      "    city_rain = city_weather['rain']['3h']\n",
      "KeyError: 'rain'\n"
     ]
    },
    {
     "name": "stdout",
     "output_type": "stream",
     "text": [
      "Processing Record 18 of Set 10 | kaharlyk\n"
     ]
    },
    {
     "name": "stderr",
     "output_type": "stream",
     "text": [
      "Traceback (most recent call last):\n",
      "  File \"<ipython-input-10-441c2514960e>\", line 40, in <module>\n",
      "    city_rain = city_weather['rain']['3h']\n",
      "KeyError: 'rain'\n"
     ]
    },
    {
     "name": "stdout",
     "output_type": "stream",
     "text": [
      "Processing Record 19 of Set 10 | wanning\n"
     ]
    },
    {
     "name": "stderr",
     "output_type": "stream",
     "text": [
      "Traceback (most recent call last):\n",
      "  File \"<ipython-input-10-441c2514960e>\", line 40, in <module>\n",
      "    city_rain = city_weather['rain']['3h']\n",
      "KeyError: 'rain'\n"
     ]
    },
    {
     "name": "stdout",
     "output_type": "stream",
     "text": [
      "Processing Record 20 of Set 10 | arrecife\n"
     ]
    },
    {
     "name": "stderr",
     "output_type": "stream",
     "text": [
      "Traceback (most recent call last):\n",
      "  File \"<ipython-input-10-441c2514960e>\", line 40, in <module>\n",
      "    city_rain = city_weather['rain']['3h']\n",
      "KeyError: 'rain'\n"
     ]
    },
    {
     "name": "stdout",
     "output_type": "stream",
     "text": [
      "Processing Record 21 of Set 10 | paita\n"
     ]
    },
    {
     "name": "stderr",
     "output_type": "stream",
     "text": [
      "Traceback (most recent call last):\n",
      "  File \"<ipython-input-10-441c2514960e>\", line 40, in <module>\n",
      "    city_rain = city_weather['rain']['3h']\n",
      "KeyError: 'rain'\n"
     ]
    },
    {
     "name": "stdout",
     "output_type": "stream",
     "text": [
      "Processing Record 22 of Set 10 | sitka\n"
     ]
    },
    {
     "name": "stderr",
     "output_type": "stream",
     "text": [
      "Traceback (most recent call last):\n",
      "  File \"<ipython-input-10-441c2514960e>\", line 40, in <module>\n",
      "    city_rain = city_weather['rain']['3h']\n",
      "KeyError: '3h'\n"
     ]
    },
    {
     "name": "stdout",
     "output_type": "stream",
     "text": [
      "Processing Record 23 of Set 10 | brae\n"
     ]
    },
    {
     "name": "stderr",
     "output_type": "stream",
     "text": [
      "Traceback (most recent call last):\n",
      "  File \"<ipython-input-10-441c2514960e>\", line 40, in <module>\n",
      "    city_rain = city_weather['rain']['3h']\n",
      "KeyError: 'rain'\n"
     ]
    },
    {
     "name": "stdout",
     "output_type": "stream",
     "text": [
      "Processing Record 24 of Set 10 | kyrksaeterora\n"
     ]
    },
    {
     "name": "stderr",
     "output_type": "stream",
     "text": [
      "Traceback (most recent call last):\n",
      "  File \"<ipython-input-10-441c2514960e>\", line 40, in <module>\n",
      "    city_rain = city_weather['rain']['3h']\n",
      "KeyError: 'rain'\n"
     ]
    },
    {
     "name": "stdout",
     "output_type": "stream",
     "text": [
      "Processing Record 25 of Set 10 | baft\n"
     ]
    },
    {
     "name": "stderr",
     "output_type": "stream",
     "text": [
      "Traceback (most recent call last):\n",
      "  File \"<ipython-input-10-441c2514960e>\", line 40, in <module>\n",
      "    city_rain = city_weather['rain']['3h']\n",
      "KeyError: 'rain'\n"
     ]
    },
    {
     "name": "stdout",
     "output_type": "stream",
     "text": [
      "Processing Record 26 of Set 10 | lianran\n"
     ]
    },
    {
     "name": "stderr",
     "output_type": "stream",
     "text": [
      "Traceback (most recent call last):\n",
      "  File \"<ipython-input-10-441c2514960e>\", line 40, in <module>\n",
      "    city_rain = city_weather['rain']['3h']\n",
      "KeyError: 'rain'\n"
     ]
    },
    {
     "name": "stdout",
     "output_type": "stream",
     "text": [
      "Processing Record 27 of Set 10 | sol-iletsk\n"
     ]
    },
    {
     "name": "stderr",
     "output_type": "stream",
     "text": [
      "Traceback (most recent call last):\n",
      "  File \"<ipython-input-10-441c2514960e>\", line 41, in <module>\n",
      "    city_snow = city_weather[\"snow\"][\"3h\"]\n",
      "KeyError: 'snow'\n"
     ]
    },
    {
     "name": "stdout",
     "output_type": "stream",
     "text": [
      "Processing Record 28 of Set 10 | itarema\n"
     ]
    },
    {
     "name": "stderr",
     "output_type": "stream",
     "text": [
      "Traceback (most recent call last):\n",
      "  File \"<ipython-input-10-441c2514960e>\", line 41, in <module>\n",
      "    city_snow = city_weather[\"snow\"][\"3h\"]\n",
      "KeyError: 'snow'\n"
     ]
    },
    {
     "name": "stdout",
     "output_type": "stream",
     "text": [
      "Processing Record 29 of Set 10 | kudahuvadhoo\n"
     ]
    },
    {
     "name": "stderr",
     "output_type": "stream",
     "text": [
      "Traceback (most recent call last):\n",
      "  File \"<ipython-input-10-441c2514960e>\", line 41, in <module>\n",
      "    city_snow = city_weather[\"snow\"][\"3h\"]\n",
      "KeyError: 'snow'\n"
     ]
    },
    {
     "name": "stdout",
     "output_type": "stream",
     "text": [
      "Processing Record 30 of Set 10 | kurumkan\n"
     ]
    },
    {
     "name": "stderr",
     "output_type": "stream",
     "text": [
      "Traceback (most recent call last):\n",
      "  File \"<ipython-input-10-441c2514960e>\", line 40, in <module>\n",
      "    city_rain = city_weather['rain']['3h']\n",
      "KeyError: 'rain'\n"
     ]
    },
    {
     "name": "stdout",
     "output_type": "stream",
     "text": [
      "Processing Record 31 of Set 10 | grand forks\n"
     ]
    },
    {
     "name": "stderr",
     "output_type": "stream",
     "text": [
      "Traceback (most recent call last):\n",
      "  File \"<ipython-input-10-441c2514960e>\", line 40, in <module>\n",
      "    city_rain = city_weather['rain']['3h']\n",
      "KeyError: 'rain'\n"
     ]
    },
    {
     "name": "stdout",
     "output_type": "stream",
     "text": [
      "Processing Record 32 of Set 10 | ghanzi\n"
     ]
    },
    {
     "name": "stderr",
     "output_type": "stream",
     "text": [
      "Traceback (most recent call last):\n",
      "  File \"<ipython-input-10-441c2514960e>\", line 40, in <module>\n",
      "    city_rain = city_weather['rain']['3h']\n",
      "KeyError: 'rain'\n"
     ]
    },
    {
     "name": "stdout",
     "output_type": "stream",
     "text": [
      "Processing Record 33 of Set 10 | cururupu\n"
     ]
    },
    {
     "name": "stderr",
     "output_type": "stream",
     "text": [
      "Traceback (most recent call last):\n",
      "  File \"<ipython-input-10-441c2514960e>\", line 41, in <module>\n",
      "    city_snow = city_weather[\"snow\"][\"3h\"]\n",
      "KeyError: 'snow'\n"
     ]
    },
    {
     "name": "stdout",
     "output_type": "stream",
     "text": [
      "Processing Record 34 of Set 10 | vao\n"
     ]
    },
    {
     "name": "stderr",
     "output_type": "stream",
     "text": [
      "Traceback (most recent call last):\n",
      "  File \"<ipython-input-10-441c2514960e>\", line 40, in <module>\n",
      "    city_rain = city_weather['rain']['3h']\n",
      "KeyError: 'rain'\n"
     ]
    },
    {
     "name": "stdout",
     "output_type": "stream",
     "text": [
      "Processing Record 35 of Set 10 | stuttgart\n"
     ]
    },
    {
     "name": "stderr",
     "output_type": "stream",
     "text": [
      "Traceback (most recent call last):\n",
      "  File \"<ipython-input-10-441c2514960e>\", line 40, in <module>\n",
      "    city_rain = city_weather['rain']['3h']\n",
      "KeyError: 'rain'\n"
     ]
    },
    {
     "name": "stdout",
     "output_type": "stream",
     "text": [
      "Processing Record 36 of Set 10 | trairi\n"
     ]
    },
    {
     "name": "stderr",
     "output_type": "stream",
     "text": [
      "Traceback (most recent call last):\n",
      "  File \"<ipython-input-10-441c2514960e>\", line 41, in <module>\n",
      "    city_snow = city_weather[\"snow\"][\"3h\"]\n",
      "KeyError: 'snow'\n"
     ]
    },
    {
     "name": "stdout",
     "output_type": "stream",
     "text": [
      "Processing Record 37 of Set 10 | lisala\n"
     ]
    },
    {
     "name": "stderr",
     "output_type": "stream",
     "text": [
      "Traceback (most recent call last):\n",
      "  File \"<ipython-input-10-441c2514960e>\", line 40, in <module>\n",
      "    city_rain = city_weather['rain']['3h']\n",
      "KeyError: 'rain'\n"
     ]
    },
    {
     "name": "stdout",
     "output_type": "stream",
     "text": [
      "Processing Record 38 of Set 10 | hurghada\n"
     ]
    },
    {
     "name": "stderr",
     "output_type": "stream",
     "text": [
      "Traceback (most recent call last):\n",
      "  File \"<ipython-input-10-441c2514960e>\", line 40, in <module>\n",
      "    city_rain = city_weather['rain']['3h']\n",
      "KeyError: 'rain'\n"
     ]
    },
    {
     "name": "stdout",
     "output_type": "stream",
     "text": [
      "Processing Record 39 of Set 10 | katherine\n"
     ]
    },
    {
     "name": "stderr",
     "output_type": "stream",
     "text": [
      "Traceback (most recent call last):\n",
      "  File \"<ipython-input-10-441c2514960e>\", line 40, in <module>\n",
      "    city_rain = city_weather['rain']['3h']\n",
      "KeyError: 'rain'\n"
     ]
    },
    {
     "name": "stdout",
     "output_type": "stream",
     "text": [
      "Processing Record 40 of Set 10 | dunedin\n"
     ]
    },
    {
     "name": "stderr",
     "output_type": "stream",
     "text": [
      "Traceback (most recent call last):\n",
      "  File \"<ipython-input-10-441c2514960e>\", line 40, in <module>\n",
      "    city_rain = city_weather['rain']['3h']\n",
      "KeyError: 'rain'\n"
     ]
    },
    {
     "name": "stdout",
     "output_type": "stream",
     "text": [
      "Processing Record 41 of Set 10 | kloulklubed\n"
     ]
    },
    {
     "name": "stderr",
     "output_type": "stream",
     "text": [
      "Traceback (most recent call last):\n",
      "  File \"<ipython-input-10-441c2514960e>\", line 41, in <module>\n",
      "    city_snow = city_weather[\"snow\"][\"3h\"]\n",
      "KeyError: 'snow'\n"
     ]
    },
    {
     "name": "stdout",
     "output_type": "stream",
     "text": [
      "Processing Record 42 of Set 10 | arkansas city\n"
     ]
    },
    {
     "name": "stderr",
     "output_type": "stream",
     "text": [
      "Traceback (most recent call last):\n",
      "  File \"<ipython-input-10-441c2514960e>\", line 40, in <module>\n",
      "    city_rain = city_weather['rain']['3h']\n",
      "KeyError: '3h'\n"
     ]
    },
    {
     "name": "stdout",
     "output_type": "stream",
     "text": [
      "Processing Record 43 of Set 10 | woodward\n"
     ]
    },
    {
     "name": "stderr",
     "output_type": "stream",
     "text": [
      "Traceback (most recent call last):\n",
      "  File \"<ipython-input-10-441c2514960e>\", line 40, in <module>\n",
      "    city_rain = city_weather['rain']['3h']\n",
      "KeyError: 'rain'\n"
     ]
    },
    {
     "name": "stdout",
     "output_type": "stream",
     "text": [
      "Processing Record 44 of Set 10 | bako\n"
     ]
    },
    {
     "name": "stderr",
     "output_type": "stream",
     "text": [
      "Traceback (most recent call last):\n",
      "  File \"<ipython-input-10-441c2514960e>\", line 40, in <module>\n",
      "    city_rain = city_weather['rain']['3h']\n",
      "KeyError: 'rain'\n"
     ]
    },
    {
     "name": "stdout",
     "output_type": "stream",
     "text": [
      "Processing Record 45 of Set 10 | roebourne\n"
     ]
    },
    {
     "name": "stderr",
     "output_type": "stream",
     "text": [
      "Traceback (most recent call last):\n",
      "  File \"<ipython-input-10-441c2514960e>\", line 40, in <module>\n",
      "    city_rain = city_weather['rain']['3h']\n",
      "KeyError: 'rain'\n"
     ]
    },
    {
     "name": "stdout",
     "output_type": "stream",
     "text": [
      "Processing Record 46 of Set 10 | curup\n"
     ]
    },
    {
     "name": "stderr",
     "output_type": "stream",
     "text": [
      "Traceback (most recent call last):\n",
      "  File \"<ipython-input-10-441c2514960e>\", line 40, in <module>\n",
      "    city_rain = city_weather['rain']['3h']\n",
      "KeyError: 'rain'\n"
     ]
    },
    {
     "name": "stdout",
     "output_type": "stream",
     "text": [
      "Processing Record 47 of Set 10 | kismayo\n"
     ]
    },
    {
     "name": "stderr",
     "output_type": "stream",
     "text": [
      "Traceback (most recent call last):\n",
      "  File \"<ipython-input-10-441c2514960e>\", line 40, in <module>\n",
      "    city_rain = city_weather['rain']['3h']\n",
      "KeyError: 'rain'\n"
     ]
    },
    {
     "name": "stdout",
     "output_type": "stream",
     "text": [
      "Processing Record 48 of Set 10 | magnor\n"
     ]
    },
    {
     "name": "stderr",
     "output_type": "stream",
     "text": [
      "Traceback (most recent call last):\n",
      "  File \"<ipython-input-10-441c2514960e>\", line 40, in <module>\n",
      "    city_rain = city_weather['rain']['3h']\n",
      "KeyError: 'rain'\n"
     ]
    },
    {
     "name": "stdout",
     "output_type": "stream",
     "text": [
      "Processing Record 49 of Set 10 | tsiroanomandidy\n"
     ]
    },
    {
     "name": "stderr",
     "output_type": "stream",
     "text": [
      "Traceback (most recent call last):\n",
      "  File \"<ipython-input-10-441c2514960e>\", line 41, in <module>\n",
      "    city_snow = city_weather[\"snow\"][\"3h\"]\n",
      "KeyError: 'snow'\n"
     ]
    },
    {
     "name": "stdout",
     "output_type": "stream",
     "text": [
      "Processing Record 50 of Set 10 | saint-augustin\n"
     ]
    },
    {
     "name": "stderr",
     "output_type": "stream",
     "text": [
      "Traceback (most recent call last):\n",
      "  File \"<ipython-input-10-441c2514960e>\", line 40, in <module>\n",
      "    city_rain = city_weather['rain']['3h']\n",
      "KeyError: 'rain'\n"
     ]
    },
    {
     "name": "stdout",
     "output_type": "stream",
     "text": [
      "Processing Record 1 of Set 11 | seidu\n"
     ]
    },
    {
     "name": "stderr",
     "output_type": "stream",
     "text": [
      "Traceback (most recent call last):\n",
      "  File \"<ipython-input-10-441c2514960e>\", line 40, in <module>\n",
      "    city_rain = city_weather['rain']['3h']\n",
      "KeyError: 'rain'\n"
     ]
    },
    {
     "name": "stdout",
     "output_type": "stream",
     "text": [
      "Processing Record 2 of Set 11 | siyabuswa\n"
     ]
    },
    {
     "name": "stderr",
     "output_type": "stream",
     "text": [
      "Traceback (most recent call last):\n",
      "  File \"<ipython-input-10-441c2514960e>\", line 40, in <module>\n",
      "    city_rain = city_weather['rain']['3h']\n",
      "KeyError: 'rain'\n"
     ]
    },
    {
     "name": "stdout",
     "output_type": "stream",
     "text": [
      "Processing Record 3 of Set 11 | tapaua\n"
     ]
    },
    {
     "name": "stderr",
     "output_type": "stream",
     "text": [
      "Traceback (most recent call last):\n",
      "  File \"<ipython-input-10-441c2514960e>\", line 32, in <module>\n",
      "    city_lat = city_weather[\"coord\"][\"lat\"]\n",
      "KeyError: 'coord'\n"
     ]
    },
    {
     "name": "stdout",
     "output_type": "stream",
     "text": [
      "Processing Record 4 of Set 11 | batagay-alyta\n"
     ]
    },
    {
     "name": "stderr",
     "output_type": "stream",
     "text": [
      "Traceback (most recent call last):\n",
      "  File \"<ipython-input-10-441c2514960e>\", line 40, in <module>\n",
      "    city_rain = city_weather['rain']['3h']\n",
      "KeyError: 'rain'\n"
     ]
    },
    {
     "name": "stdout",
     "output_type": "stream",
     "text": [
      "Processing Record 5 of Set 11 | xuddur\n"
     ]
    },
    {
     "name": "stderr",
     "output_type": "stream",
     "text": [
      "Traceback (most recent call last):\n",
      "  File \"<ipython-input-10-441c2514960e>\", line 40, in <module>\n",
      "    city_rain = city_weather['rain']['3h']\n",
      "KeyError: 'rain'\n"
     ]
    },
    {
     "name": "stdout",
     "output_type": "stream",
     "text": [
      "Processing Record 6 of Set 11 | shimsk\n"
     ]
    },
    {
     "name": "stderr",
     "output_type": "stream",
     "text": [
      "Traceback (most recent call last):\n",
      "  File \"<ipython-input-10-441c2514960e>\", line 40, in <module>\n",
      "    city_rain = city_weather['rain']['3h']\n",
      "KeyError: 'rain'\n"
     ]
    },
    {
     "name": "stdout",
     "output_type": "stream",
     "text": [
      "Processing Record 7 of Set 11 | svetlogorsk\n"
     ]
    },
    {
     "name": "stderr",
     "output_type": "stream",
     "text": [
      "Traceback (most recent call last):\n",
      "  File \"<ipython-input-10-441c2514960e>\", line 41, in <module>\n",
      "    city_snow = city_weather[\"snow\"][\"3h\"]\n",
      "KeyError: 'snow'\n"
     ]
    },
    {
     "name": "stdout",
     "output_type": "stream",
     "text": [
      "Processing Record 8 of Set 11 | beyneu\n"
     ]
    },
    {
     "name": "stderr",
     "output_type": "stream",
     "text": [
      "Traceback (most recent call last):\n",
      "  File \"<ipython-input-10-441c2514960e>\", line 40, in <module>\n",
      "    city_rain = city_weather['rain']['3h']\n",
      "KeyError: 'rain'\n"
     ]
    },
    {
     "name": "stdout",
     "output_type": "stream",
     "text": [
      "Processing Record 9 of Set 11 | yueyang\n"
     ]
    },
    {
     "name": "stderr",
     "output_type": "stream",
     "text": [
      "Traceback (most recent call last):\n",
      "  File \"<ipython-input-10-441c2514960e>\", line 41, in <module>\n",
      "    city_snow = city_weather[\"snow\"][\"3h\"]\n",
      "KeyError: 'snow'\n"
     ]
    },
    {
     "name": "stdout",
     "output_type": "stream",
     "text": [
      "Processing Record 10 of Set 11 | phnum penh\n"
     ]
    },
    {
     "name": "stderr",
     "output_type": "stream",
     "text": [
      "Traceback (most recent call last):\n",
      "  File \"<ipython-input-10-441c2514960e>\", line 32, in <module>\n",
      "    city_lat = city_weather[\"coord\"][\"lat\"]\n",
      "KeyError: 'coord'\n"
     ]
    },
    {
     "name": "stdout",
     "output_type": "stream",
     "text": [
      "Processing Record 11 of Set 11 | bajo baudo\n"
     ]
    },
    {
     "name": "stderr",
     "output_type": "stream",
     "text": [
      "Traceback (most recent call last):\n",
      "  File \"<ipython-input-10-441c2514960e>\", line 32, in <module>\n",
      "    city_lat = city_weather[\"coord\"][\"lat\"]\n",
      "KeyError: 'coord'\n"
     ]
    },
    {
     "name": "stdout",
     "output_type": "stream",
     "text": [
      "Processing Record 12 of Set 11 | shelburne\n"
     ]
    },
    {
     "name": "stderr",
     "output_type": "stream",
     "text": [
      "Traceback (most recent call last):\n",
      "  File \"<ipython-input-10-441c2514960e>\", line 40, in <module>\n",
      "    city_rain = city_weather['rain']['3h']\n",
      "KeyError: 'rain'\n"
     ]
    },
    {
     "name": "stdout",
     "output_type": "stream",
     "text": [
      "Processing Record 13 of Set 11 | ciudad bolivar\n"
     ]
    },
    {
     "name": "stderr",
     "output_type": "stream",
     "text": [
      "Traceback (most recent call last):\n",
      "  File \"<ipython-input-10-441c2514960e>\", line 40, in <module>\n",
      "    city_rain = city_weather['rain']['3h']\n",
      "KeyError: 'rain'\n"
     ]
    },
    {
     "name": "stdout",
     "output_type": "stream",
     "text": [
      "Processing Record 14 of Set 11 | macapa\n"
     ]
    },
    {
     "name": "stderr",
     "output_type": "stream",
     "text": [
      "Traceback (most recent call last):\n",
      "  File \"<ipython-input-10-441c2514960e>\", line 40, in <module>\n",
      "    city_rain = city_weather['rain']['3h']\n",
      "KeyError: 'rain'\n"
     ]
    },
    {
     "name": "stdout",
     "output_type": "stream",
     "text": [
      "Processing Record 15 of Set 11 | uvira\n"
     ]
    },
    {
     "name": "stderr",
     "output_type": "stream",
     "text": [
      "Traceback (most recent call last):\n",
      "  File \"<ipython-input-10-441c2514960e>\", line 40, in <module>\n",
      "    city_rain = city_weather['rain']['3h']\n",
      "KeyError: 'rain'\n"
     ]
    },
    {
     "name": "stdout",
     "output_type": "stream",
     "text": [
      "Processing Record 16 of Set 11 | zhangjiakou\n"
     ]
    },
    {
     "name": "stderr",
     "output_type": "stream",
     "text": [
      "Traceback (most recent call last):\n",
      "  File \"<ipython-input-10-441c2514960e>\", line 40, in <module>\n",
      "    city_rain = city_weather['rain']['3h']\n",
      "KeyError: 'rain'\n"
     ]
    },
    {
     "name": "stdout",
     "output_type": "stream",
     "text": [
      "Processing Record 17 of Set 11 | north bend\n"
     ]
    },
    {
     "name": "stderr",
     "output_type": "stream",
     "text": [
      "Traceback (most recent call last):\n",
      "  File \"<ipython-input-10-441c2514960e>\", line 40, in <module>\n",
      "    city_rain = city_weather['rain']['3h']\n",
      "KeyError: 'rain'\n"
     ]
    },
    {
     "name": "stdout",
     "output_type": "stream",
     "text": [
      "Processing Record 18 of Set 11 | umm durman\n"
     ]
    },
    {
     "name": "stderr",
     "output_type": "stream",
     "text": [
      "Traceback (most recent call last):\n",
      "  File \"<ipython-input-10-441c2514960e>\", line 32, in <module>\n",
      "    city_lat = city_weather[\"coord\"][\"lat\"]\n",
      "KeyError: 'coord'\n"
     ]
    },
    {
     "name": "stdout",
     "output_type": "stream",
     "text": [
      "Processing Record 19 of Set 11 | acapulco\n"
     ]
    },
    {
     "name": "stderr",
     "output_type": "stream",
     "text": [
      "Traceback (most recent call last):\n",
      "  File \"<ipython-input-10-441c2514960e>\", line 40, in <module>\n",
      "    city_rain = city_weather['rain']['3h']\n",
      "KeyError: 'rain'\n"
     ]
    },
    {
     "name": "stdout",
     "output_type": "stream",
     "text": [
      "Processing Record 20 of Set 11 | xining\n"
     ]
    },
    {
     "name": "stderr",
     "output_type": "stream",
     "text": [
      "Traceback (most recent call last):\n",
      "  File \"<ipython-input-10-441c2514960e>\", line 40, in <module>\n",
      "    city_rain = city_weather['rain']['3h']\n",
      "KeyError: 'rain'\n"
     ]
    },
    {
     "name": "stdout",
     "output_type": "stream",
     "text": [
      "Processing Record 21 of Set 11 | novyy urengoy\n"
     ]
    },
    {
     "name": "stderr",
     "output_type": "stream",
     "text": [
      "Traceback (most recent call last):\n",
      "  File \"<ipython-input-10-441c2514960e>\", line 40, in <module>\n",
      "    city_rain = city_weather['rain']['3h']\n",
      "KeyError: 'rain'\n"
     ]
    },
    {
     "name": "stdout",
     "output_type": "stream",
     "text": [
      "Processing Record 22 of Set 11 | gornopravdinsk\n"
     ]
    },
    {
     "name": "stderr",
     "output_type": "stream",
     "text": [
      "Traceback (most recent call last):\n",
      "  File \"<ipython-input-10-441c2514960e>\", line 40, in <module>\n",
      "    city_rain = city_weather['rain']['3h']\n",
      "KeyError: 'rain'\n"
     ]
    },
    {
     "name": "stdout",
     "output_type": "stream",
     "text": [
      "Processing Record 23 of Set 11 | dodoma\n"
     ]
    },
    {
     "name": "stderr",
     "output_type": "stream",
     "text": [
      "Traceback (most recent call last):\n",
      "  File \"<ipython-input-10-441c2514960e>\", line 40, in <module>\n",
      "    city_rain = city_weather['rain']['3h']\n",
      "KeyError: 'rain'\n"
     ]
    },
    {
     "name": "stdout",
     "output_type": "stream",
     "text": [
      "Processing Record 24 of Set 11 | lagoa\n"
     ]
    },
    {
     "name": "stderr",
     "output_type": "stream",
     "text": [
      "Traceback (most recent call last):\n",
      "  File \"<ipython-input-10-441c2514960e>\", line 40, in <module>\n",
      "    city_rain = city_weather['rain']['3h']\n",
      "KeyError: 'rain'\n"
     ]
    },
    {
     "name": "stdout",
     "output_type": "stream",
     "text": [
      "Processing Record 25 of Set 11 | teeli\n"
     ]
    },
    {
     "name": "stderr",
     "output_type": "stream",
     "text": [
      "Traceback (most recent call last):\n",
      "  File \"<ipython-input-10-441c2514960e>\", line 40, in <module>\n",
      "    city_rain = city_weather['rain']['3h']\n",
      "KeyError: 'rain'\n"
     ]
    },
    {
     "name": "stdout",
     "output_type": "stream",
     "text": [
      "Processing Record 26 of Set 11 | portobelo\n"
     ]
    },
    {
     "name": "stderr",
     "output_type": "stream",
     "text": [
      "Traceback (most recent call last):\n",
      "  File \"<ipython-input-10-441c2514960e>\", line 40, in <module>\n",
      "    city_rain = city_weather['rain']['3h']\n",
      "KeyError: 'rain'\n"
     ]
    },
    {
     "name": "stdout",
     "output_type": "stream",
     "text": [
      "Processing Record 27 of Set 11 | axim\n"
     ]
    },
    {
     "name": "stderr",
     "output_type": "stream",
     "text": [
      "Traceback (most recent call last):\n",
      "  File \"<ipython-input-10-441c2514960e>\", line 40, in <module>\n",
      "    city_rain = city_weather['rain']['3h']\n",
      "KeyError: 'rain'\n"
     ]
    },
    {
     "name": "stdout",
     "output_type": "stream",
     "text": [
      "Processing Record 28 of Set 11 | ipoti\n"
     ]
    },
    {
     "name": "stderr",
     "output_type": "stream",
     "text": [
      "Traceback (most recent call last):\n",
      "  File \"<ipython-input-10-441c2514960e>\", line 40, in <module>\n",
      "    city_rain = city_weather['rain']['3h']\n",
      "KeyError: 'rain'\n"
     ]
    },
    {
     "name": "stdout",
     "output_type": "stream",
     "text": [
      "Processing Record 29 of Set 11 | college\n"
     ]
    },
    {
     "name": "stderr",
     "output_type": "stream",
     "text": [
      "Traceback (most recent call last):\n",
      "  File \"<ipython-input-10-441c2514960e>\", line 40, in <module>\n",
      "    city_rain = city_weather['rain']['3h']\n",
      "KeyError: 'rain'\n"
     ]
    },
    {
     "name": "stdout",
     "output_type": "stream",
     "text": [
      "Processing Record 30 of Set 11 | chifeng\n"
     ]
    },
    {
     "name": "stderr",
     "output_type": "stream",
     "text": [
      "Traceback (most recent call last):\n",
      "  File \"<ipython-input-10-441c2514960e>\", line 40, in <module>\n",
      "    city_rain = city_weather['rain']['3h']\n",
      "KeyError: 'rain'\n"
     ]
    },
    {
     "name": "stdout",
     "output_type": "stream",
     "text": [
      "Processing Record 31 of Set 11 | yirol\n"
     ]
    },
    {
     "name": "stderr",
     "output_type": "stream",
     "text": [
      "Traceback (most recent call last):\n",
      "  File \"<ipython-input-10-441c2514960e>\", line 32, in <module>\n",
      "    city_lat = city_weather[\"coord\"][\"lat\"]\n",
      "KeyError: 'coord'\n"
     ]
    },
    {
     "name": "stdout",
     "output_type": "stream",
     "text": [
      "Processing Record 32 of Set 11 | santiago de cuba\n"
     ]
    },
    {
     "name": "stderr",
     "output_type": "stream",
     "text": [
      "Traceback (most recent call last):\n",
      "  File \"<ipython-input-10-441c2514960e>\", line 40, in <module>\n",
      "    city_rain = city_weather['rain']['3h']\n",
      "KeyError: 'rain'\n"
     ]
    },
    {
     "name": "stdout",
     "output_type": "stream",
     "text": [
      "Processing Record 33 of Set 11 | falealupo\n"
     ]
    },
    {
     "name": "stderr",
     "output_type": "stream",
     "text": [
      "Traceback (most recent call last):\n",
      "  File \"<ipython-input-10-441c2514960e>\", line 32, in <module>\n",
      "    city_lat = city_weather[\"coord\"][\"lat\"]\n",
      "KeyError: 'coord'\n"
     ]
    },
    {
     "name": "stdout",
     "output_type": "stream",
     "text": [
      "Processing Record 34 of Set 11 | balkanabat\n"
     ]
    },
    {
     "name": "stderr",
     "output_type": "stream",
     "text": [
      "Traceback (most recent call last):\n",
      "  File \"<ipython-input-10-441c2514960e>\", line 41, in <module>\n",
      "    city_snow = city_weather[\"snow\"][\"3h\"]\n",
      "KeyError: 'snow'\n"
     ]
    },
    {
     "name": "stdout",
     "output_type": "stream",
     "text": [
      "Processing Record 35 of Set 11 | tezu\n"
     ]
    },
    {
     "name": "stderr",
     "output_type": "stream",
     "text": [
      "Traceback (most recent call last):\n",
      "  File \"<ipython-input-10-441c2514960e>\", line 41, in <module>\n",
      "    city_snow = city_weather[\"snow\"][\"3h\"]\n",
      "KeyError: 'snow'\n"
     ]
    },
    {
     "name": "stdout",
     "output_type": "stream",
     "text": [
      "Processing Record 36 of Set 11 | quesnel\n"
     ]
    },
    {
     "name": "stderr",
     "output_type": "stream",
     "text": [
      "Traceback (most recent call last):\n",
      "  File \"<ipython-input-10-441c2514960e>\", line 40, in <module>\n",
      "    city_rain = city_weather['rain']['3h']\n",
      "KeyError: 'rain'\n"
     ]
    },
    {
     "name": "stdout",
     "output_type": "stream",
     "text": [
      "Processing Record 37 of Set 11 | les cayes\n"
     ]
    },
    {
     "name": "stderr",
     "output_type": "stream",
     "text": [
      "Traceback (most recent call last):\n",
      "  File \"<ipython-input-10-441c2514960e>\", line 40, in <module>\n",
      "    city_rain = city_weather['rain']['3h']\n",
      "KeyError: 'rain'\n"
     ]
    },
    {
     "name": "stdout",
     "output_type": "stream",
     "text": [
      "Processing Record 38 of Set 11 | phonhong\n"
     ]
    },
    {
     "name": "stderr",
     "output_type": "stream",
     "text": [
      "Traceback (most recent call last):\n",
      "  File \"<ipython-input-10-441c2514960e>\", line 40, in <module>\n",
      "    city_rain = city_weather['rain']['3h']\n",
      "KeyError: 'rain'\n"
     ]
    },
    {
     "name": "stdout",
     "output_type": "stream",
     "text": [
      "Processing Record 39 of Set 11 | yanai\n"
     ]
    },
    {
     "name": "stderr",
     "output_type": "stream",
     "text": [
      "Traceback (most recent call last):\n",
      "  File \"<ipython-input-10-441c2514960e>\", line 40, in <module>\n",
      "    city_rain = city_weather['rain']['3h']\n",
      "KeyError: 'rain'\n"
     ]
    },
    {
     "name": "stdout",
     "output_type": "stream",
     "text": [
      "Processing Record 40 of Set 11 | grande prairie\n"
     ]
    },
    {
     "name": "stderr",
     "output_type": "stream",
     "text": [
      "Traceback (most recent call last):\n",
      "  File \"<ipython-input-10-441c2514960e>\", line 40, in <module>\n",
      "    city_rain = city_weather['rain']['3h']\n",
      "KeyError: 'rain'\n"
     ]
    },
    {
     "name": "stdout",
     "output_type": "stream",
     "text": [
      "Processing Record 41 of Set 11 | orebro\n"
     ]
    },
    {
     "name": "stderr",
     "output_type": "stream",
     "text": [
      "Traceback (most recent call last):\n",
      "  File \"<ipython-input-10-441c2514960e>\", line 40, in <module>\n",
      "    city_rain = city_weather['rain']['3h']\n",
      "KeyError: 'rain'\n"
     ]
    },
    {
     "name": "stdout",
     "output_type": "stream",
     "text": [
      "Processing Record 42 of Set 11 | araguacu\n"
     ]
    },
    {
     "name": "stderr",
     "output_type": "stream",
     "text": [
      "Traceback (most recent call last):\n",
      "  File \"<ipython-input-10-441c2514960e>\", line 41, in <module>\n",
      "    city_snow = city_weather[\"snow\"][\"3h\"]\n",
      "KeyError: 'snow'\n"
     ]
    },
    {
     "name": "stdout",
     "output_type": "stream",
     "text": [
      "Processing Record 43 of Set 11 | teknaf\n"
     ]
    },
    {
     "name": "stderr",
     "output_type": "stream",
     "text": [
      "Traceback (most recent call last):\n",
      "  File \"<ipython-input-10-441c2514960e>\", line 40, in <module>\n",
      "    city_rain = city_weather['rain']['3h']\n",
      "KeyError: 'rain'\n"
     ]
    },
    {
     "name": "stdout",
     "output_type": "stream",
     "text": [
      "Processing Record 44 of Set 11 | santa cruz\n"
     ]
    },
    {
     "name": "stderr",
     "output_type": "stream",
     "text": [
      "Traceback (most recent call last):\n",
      "  File \"<ipython-input-10-441c2514960e>\", line 40, in <module>\n",
      "    city_rain = city_weather['rain']['3h']\n",
      "KeyError: 'rain'\n"
     ]
    },
    {
     "name": "stdout",
     "output_type": "stream",
     "text": [
      "Processing Record 45 of Set 11 | abong mbang\n"
     ]
    },
    {
     "name": "stderr",
     "output_type": "stream",
     "text": [
      "Traceback (most recent call last):\n",
      "  File \"<ipython-input-10-441c2514960e>\", line 40, in <module>\n",
      "    city_rain = city_weather['rain']['3h']\n",
      "KeyError: 'rain'\n"
     ]
    },
    {
     "name": "stdout",
     "output_type": "stream",
     "text": [
      "Processing Record 46 of Set 11 | anekal\n"
     ]
    },
    {
     "name": "stderr",
     "output_type": "stream",
     "text": [
      "Traceback (most recent call last):\n",
      "  File \"<ipython-input-10-441c2514960e>\", line 40, in <module>\n",
      "    city_rain = city_weather['rain']['3h']\n",
      "KeyError: 'rain'\n"
     ]
    },
    {
     "name": "stdout",
     "output_type": "stream",
     "text": [
      "Processing Record 47 of Set 11 | udachnyy\n"
     ]
    },
    {
     "name": "stderr",
     "output_type": "stream",
     "text": [
      "Traceback (most recent call last):\n",
      "  File \"<ipython-input-10-441c2514960e>\", line 40, in <module>\n",
      "    city_rain = city_weather['rain']['3h']\n",
      "KeyError: 'rain'\n"
     ]
    },
    {
     "name": "stdout",
     "output_type": "stream",
     "text": [
      "Processing Record 48 of Set 11 | broken hill\n"
     ]
    },
    {
     "name": "stderr",
     "output_type": "stream",
     "text": [
      "Traceback (most recent call last):\n",
      "  File \"<ipython-input-10-441c2514960e>\", line 40, in <module>\n",
      "    city_rain = city_weather['rain']['3h']\n",
      "KeyError: 'rain'\n"
     ]
    },
    {
     "name": "stdout",
     "output_type": "stream",
     "text": [
      "Processing Record 49 of Set 11 | gumdag\n"
     ]
    },
    {
     "name": "stderr",
     "output_type": "stream",
     "text": [
      "Traceback (most recent call last):\n",
      "  File \"<ipython-input-10-441c2514960e>\", line 41, in <module>\n",
      "    city_snow = city_weather[\"snow\"][\"3h\"]\n",
      "KeyError: 'snow'\n"
     ]
    },
    {
     "name": "stdout",
     "output_type": "stream",
     "text": [
      "Processing Record 50 of Set 11 | ransang\n"
     ]
    },
    {
     "name": "stderr",
     "output_type": "stream",
     "text": [
      "Traceback (most recent call last):\n",
      "  File \"<ipython-input-10-441c2514960e>\", line 40, in <module>\n",
      "    city_rain = city_weather['rain']['3h']\n",
      "KeyError: 'rain'\n"
     ]
    },
    {
     "name": "stdout",
     "output_type": "stream",
     "text": [
      "Processing Record 1 of Set 12 | kontagora\n"
     ]
    },
    {
     "name": "stderr",
     "output_type": "stream",
     "text": [
      "Traceback (most recent call last):\n",
      "  File \"<ipython-input-10-441c2514960e>\", line 40, in <module>\n",
      "    city_rain = city_weather['rain']['3h']\n",
      "KeyError: 'rain'\n"
     ]
    },
    {
     "name": "stdout",
     "output_type": "stream",
     "text": [
      "Processing Record 2 of Set 12 | najran\n"
     ]
    },
    {
     "name": "stderr",
     "output_type": "stream",
     "text": [
      "Traceback (most recent call last):\n",
      "  File \"<ipython-input-10-441c2514960e>\", line 40, in <module>\n",
      "    city_rain = city_weather['rain']['3h']\n",
      "KeyError: 'rain'\n"
     ]
    },
    {
     "name": "stdout",
     "output_type": "stream",
     "text": [
      "Processing Record 3 of Set 12 | ussel\n"
     ]
    },
    {
     "name": "stderr",
     "output_type": "stream",
     "text": [
      "Traceback (most recent call last):\n",
      "  File \"<ipython-input-10-441c2514960e>\", line 41, in <module>\n",
      "    city_snow = city_weather[\"snow\"][\"3h\"]\n",
      "KeyError: 'snow'\n"
     ]
    },
    {
     "name": "stdout",
     "output_type": "stream",
     "text": [
      "Processing Record 4 of Set 12 | tateyama\n"
     ]
    },
    {
     "name": "stderr",
     "output_type": "stream",
     "text": [
      "Traceback (most recent call last):\n",
      "  File \"<ipython-input-10-441c2514960e>\", line 40, in <module>\n",
      "    city_rain = city_weather['rain']['3h']\n",
      "KeyError: 'rain'\n"
     ]
    },
    {
     "name": "stdout",
     "output_type": "stream",
     "text": [
      "Processing Record 5 of Set 12 | poya\n"
     ]
    },
    {
     "name": "stderr",
     "output_type": "stream",
     "text": [
      "Traceback (most recent call last):\n",
      "  File \"<ipython-input-10-441c2514960e>\", line 40, in <module>\n",
      "    city_rain = city_weather['rain']['3h']\n",
      "KeyError: 'rain'\n"
     ]
    },
    {
     "name": "stdout",
     "output_type": "stream",
     "text": [
      "Processing Record 6 of Set 12 | volosovo\n"
     ]
    },
    {
     "name": "stderr",
     "output_type": "stream",
     "text": [
      "Traceback (most recent call last):\n",
      "  File \"<ipython-input-10-441c2514960e>\", line 40, in <module>\n",
      "    city_rain = city_weather['rain']['3h']\n",
      "KeyError: 'rain'\n"
     ]
    },
    {
     "name": "stdout",
     "output_type": "stream",
     "text": [
      "Processing Record 7 of Set 12 | cockburn harbour\n"
     ]
    },
    {
     "name": "stderr",
     "output_type": "stream",
     "text": [
      "Traceback (most recent call last):\n",
      "  File \"<ipython-input-10-441c2514960e>\", line 32, in <module>\n",
      "    city_lat = city_weather[\"coord\"][\"lat\"]\n",
      "KeyError: 'coord'\n"
     ]
    },
    {
     "name": "stdout",
     "output_type": "stream",
     "text": [
      "Processing Record 8 of Set 12 | ribas do rio pardo\n"
     ]
    },
    {
     "name": "stderr",
     "output_type": "stream",
     "text": [
      "Traceback (most recent call last):\n",
      "  File \"<ipython-input-10-441c2514960e>\", line 40, in <module>\n",
      "    city_rain = city_weather['rain']['3h']\n",
      "KeyError: 'rain'\n"
     ]
    },
    {
     "name": "stdout",
     "output_type": "stream",
     "text": [
      "Processing Record 9 of Set 12 | bisceglie\n"
     ]
    },
    {
     "name": "stderr",
     "output_type": "stream",
     "text": [
      "Traceback (most recent call last):\n",
      "  File \"<ipython-input-10-441c2514960e>\", line 40, in <module>\n",
      "    city_rain = city_weather['rain']['3h']\n",
      "KeyError: 'rain'\n"
     ]
    },
    {
     "name": "stdout",
     "output_type": "stream",
     "text": [
      "Processing Record 10 of Set 12 | fortuna foothills\n"
     ]
    },
    {
     "name": "stderr",
     "output_type": "stream",
     "text": [
      "Traceback (most recent call last):\n",
      "  File \"<ipython-input-10-441c2514960e>\", line 40, in <module>\n",
      "    city_rain = city_weather['rain']['3h']\n",
      "KeyError: 'rain'\n"
     ]
    },
    {
     "name": "stdout",
     "output_type": "stream",
     "text": [
      "Processing Record 11 of Set 12 | la palma\n"
     ]
    },
    {
     "name": "stderr",
     "output_type": "stream",
     "text": [
      "Traceback (most recent call last):\n",
      "  File \"<ipython-input-10-441c2514960e>\", line 40, in <module>\n",
      "    city_rain = city_weather['rain']['3h']\n",
      "KeyError: 'rain'\n"
     ]
    },
    {
     "name": "stdout",
     "output_type": "stream",
     "text": [
      "Processing Record 12 of Set 12 | puerto baquerizo moreno\n"
     ]
    },
    {
     "name": "stderr",
     "output_type": "stream",
     "text": [
      "Traceback (most recent call last):\n",
      "  File \"<ipython-input-10-441c2514960e>\", line 40, in <module>\n",
      "    city_rain = city_weather['rain']['3h']\n",
      "KeyError: 'rain'\n"
     ]
    },
    {
     "name": "stdout",
     "output_type": "stream",
     "text": [
      "Processing Record 13 of Set 12 | stamsund\n"
     ]
    },
    {
     "name": "stderr",
     "output_type": "stream",
     "text": [
      "Traceback (most recent call last):\n",
      "  File \"<ipython-input-10-441c2514960e>\", line 32, in <module>\n",
      "    city_lat = city_weather[\"coord\"][\"lat\"]\n",
      "KeyError: 'coord'\n"
     ]
    },
    {
     "name": "stdout",
     "output_type": "stream",
     "text": [
      "Processing Record 14 of Set 12 | buraydah\n"
     ]
    },
    {
     "name": "stderr",
     "output_type": "stream",
     "text": [
      "Traceback (most recent call last):\n",
      "  File \"<ipython-input-10-441c2514960e>\", line 40, in <module>\n",
      "    city_rain = city_weather['rain']['3h']\n",
      "KeyError: 'rain'\n"
     ]
    },
    {
     "name": "stdout",
     "output_type": "stream",
     "text": [
      "Processing Record 15 of Set 12 | teguise\n"
     ]
    },
    {
     "name": "stderr",
     "output_type": "stream",
     "text": [
      "Traceback (most recent call last):\n",
      "  File \"<ipython-input-10-441c2514960e>\", line 40, in <module>\n",
      "    city_rain = city_weather['rain']['3h']\n",
      "KeyError: 'rain'\n"
     ]
    },
    {
     "name": "stdout",
     "output_type": "stream",
     "text": [
      "Processing Record 16 of Set 12 | lavrentiya\n"
     ]
    },
    {
     "name": "stderr",
     "output_type": "stream",
     "text": [
      "Traceback (most recent call last):\n",
      "  File \"<ipython-input-10-441c2514960e>\", line 40, in <module>\n",
      "    city_rain = city_weather['rain']['3h']\n",
      "KeyError: 'rain'\n"
     ]
    },
    {
     "name": "stdout",
     "output_type": "stream",
     "text": [
      "Processing Record 17 of Set 12 | mahibadhoo\n"
     ]
    },
    {
     "name": "stderr",
     "output_type": "stream",
     "text": [
      "Traceback (most recent call last):\n",
      "  File \"<ipython-input-10-441c2514960e>\", line 40, in <module>\n",
      "    city_rain = city_weather['rain']['3h']\n",
      "KeyError: 'rain'\n"
     ]
    },
    {
     "name": "stdout",
     "output_type": "stream",
     "text": [
      "Processing Record 18 of Set 12 | tombouctou\n"
     ]
    },
    {
     "name": "stderr",
     "output_type": "stream",
     "text": [
      "Traceback (most recent call last):\n",
      "  File \"<ipython-input-10-441c2514960e>\", line 40, in <module>\n",
      "    city_rain = city_weather['rain']['3h']\n",
      "KeyError: 'rain'\n"
     ]
    },
    {
     "name": "stdout",
     "output_type": "stream",
     "text": [
      "Processing Record 19 of Set 12 | beloha\n"
     ]
    },
    {
     "name": "stderr",
     "output_type": "stream",
     "text": [
      "Traceback (most recent call last):\n",
      "  File \"<ipython-input-10-441c2514960e>\", line 40, in <module>\n",
      "    city_rain = city_weather['rain']['3h']\n",
      "KeyError: 'rain'\n"
     ]
    },
    {
     "name": "stdout",
     "output_type": "stream",
     "text": [
      "Processing Record 20 of Set 12 | zhezkazgan\n"
     ]
    },
    {
     "name": "stderr",
     "output_type": "stream",
     "text": [
      "Traceback (most recent call last):\n",
      "  File \"<ipython-input-10-441c2514960e>\", line 40, in <module>\n",
      "    city_rain = city_weather['rain']['3h']\n",
      "KeyError: 'rain'\n"
     ]
    },
    {
     "name": "stdout",
     "output_type": "stream",
     "text": [
      "Processing Record 21 of Set 12 | miri\n"
     ]
    },
    {
     "name": "stderr",
     "output_type": "stream",
     "text": [
      "Traceback (most recent call last):\n",
      "  File \"<ipython-input-10-441c2514960e>\", line 40, in <module>\n",
      "    city_rain = city_weather['rain']['3h']\n",
      "KeyError: 'rain'\n"
     ]
    },
    {
     "name": "stdout",
     "output_type": "stream",
     "text": [
      "Processing Record 22 of Set 12 | sistranda\n"
     ]
    },
    {
     "name": "stderr",
     "output_type": "stream",
     "text": [
      "Traceback (most recent call last):\n",
      "  File \"<ipython-input-10-441c2514960e>\", line 40, in <module>\n",
      "    city_rain = city_weather['rain']['3h']\n",
      "KeyError: 'rain'\n"
     ]
    },
    {
     "name": "stdout",
     "output_type": "stream",
     "text": [
      "Processing Record 23 of Set 12 | lensk\n"
     ]
    },
    {
     "name": "stderr",
     "output_type": "stream",
     "text": [
      "Traceback (most recent call last):\n",
      "  File \"<ipython-input-10-441c2514960e>\", line 40, in <module>\n",
      "    city_rain = city_weather['rain']['3h']\n",
      "KeyError: 'rain'\n"
     ]
    },
    {
     "name": "stdout",
     "output_type": "stream",
     "text": [
      "Processing Record 24 of Set 12 | muros\n"
     ]
    },
    {
     "name": "stderr",
     "output_type": "stream",
     "text": [
      "Traceback (most recent call last):\n",
      "  File \"<ipython-input-10-441c2514960e>\", line 40, in <module>\n",
      "    city_rain = city_weather['rain']['3h']\n",
      "KeyError: 'rain'\n"
     ]
    },
    {
     "name": "stdout",
     "output_type": "stream",
     "text": [
      "Processing Record 25 of Set 12 | gamba\n"
     ]
    },
    {
     "name": "stderr",
     "output_type": "stream",
     "text": [
      "Traceback (most recent call last):\n",
      "  File \"<ipython-input-10-441c2514960e>\", line 41, in <module>\n",
      "    city_snow = city_weather[\"snow\"][\"3h\"]\n",
      "KeyError: 'snow'\n"
     ]
    },
    {
     "name": "stdout",
     "output_type": "stream",
     "text": [
      "Processing Record 26 of Set 12 | sindor\n"
     ]
    },
    {
     "name": "stderr",
     "output_type": "stream",
     "text": [
      "Traceback (most recent call last):\n",
      "  File \"<ipython-input-10-441c2514960e>\", line 40, in <module>\n",
      "    city_rain = city_weather['rain']['3h']\n",
      "KeyError: 'rain'\n"
     ]
    },
    {
     "name": "stdout",
     "output_type": "stream",
     "text": [
      "Processing Record 27 of Set 12 | beeville\n"
     ]
    },
    {
     "name": "stderr",
     "output_type": "stream",
     "text": [
      "Traceback (most recent call last):\n",
      "  File \"<ipython-input-10-441c2514960e>\", line 40, in <module>\n",
      "    city_rain = city_weather['rain']['3h']\n",
      "KeyError: 'rain'\n"
     ]
    },
    {
     "name": "stdout",
     "output_type": "stream",
     "text": [
      "Processing Record 28 of Set 12 | vestmanna\n"
     ]
    },
    {
     "name": "stderr",
     "output_type": "stream",
     "text": [
      "Traceback (most recent call last):\n",
      "  File \"<ipython-input-10-441c2514960e>\", line 40, in <module>\n",
      "    city_rain = city_weather['rain']['3h']\n",
      "KeyError: 'rain'\n"
     ]
    },
    {
     "name": "stdout",
     "output_type": "stream",
     "text": [
      "Processing Record 29 of Set 12 | pachora\n"
     ]
    },
    {
     "name": "stderr",
     "output_type": "stream",
     "text": [
      "Traceback (most recent call last):\n",
      "  File \"<ipython-input-10-441c2514960e>\", line 40, in <module>\n",
      "    city_rain = city_weather['rain']['3h']\n",
      "KeyError: 'rain'\n"
     ]
    },
    {
     "name": "stdout",
     "output_type": "stream",
     "text": [
      "Processing Record 30 of Set 12 | bandarbeyla\n"
     ]
    },
    {
     "name": "stderr",
     "output_type": "stream",
     "text": [
      "Traceback (most recent call last):\n",
      "  File \"<ipython-input-10-441c2514960e>\", line 40, in <module>\n",
      "    city_rain = city_weather['rain']['3h']\n",
      "KeyError: 'rain'\n"
     ]
    },
    {
     "name": "stdout",
     "output_type": "stream",
     "text": [
      "Processing Record 31 of Set 12 | leh\n"
     ]
    },
    {
     "name": "stderr",
     "output_type": "stream",
     "text": [
      "Traceback (most recent call last):\n",
      "  File \"<ipython-input-10-441c2514960e>\", line 40, in <module>\n",
      "    city_rain = city_weather['rain']['3h']\n",
      "KeyError: 'rain'\n"
     ]
    },
    {
     "name": "stdout",
     "output_type": "stream",
     "text": [
      "Processing Record 32 of Set 12 | bonthe\n"
     ]
    },
    {
     "name": "stderr",
     "output_type": "stream",
     "text": [
      "Traceback (most recent call last):\n",
      "  File \"<ipython-input-10-441c2514960e>\", line 40, in <module>\n",
      "    city_rain = city_weather['rain']['3h']\n",
      "KeyError: 'rain'\n"
     ]
    },
    {
     "name": "stdout",
     "output_type": "stream",
     "text": [
      "Processing Record 33 of Set 12 | bengkulu\n"
     ]
    },
    {
     "name": "stderr",
     "output_type": "stream",
     "text": [
      "Traceback (most recent call last):\n",
      "  File \"<ipython-input-10-441c2514960e>\", line 40, in <module>\n",
      "    city_rain = city_weather['rain']['3h']\n",
      "KeyError: 'rain'\n"
     ]
    },
    {
     "name": "stdout",
     "output_type": "stream",
     "text": [
      "Processing Record 34 of Set 12 | kecskemet\n"
     ]
    },
    {
     "name": "stderr",
     "output_type": "stream",
     "text": [
      "Traceback (most recent call last):\n",
      "  File \"<ipython-input-10-441c2514960e>\", line 40, in <module>\n",
      "    city_rain = city_weather['rain']['3h']\n",
      "KeyError: 'rain'\n"
     ]
    },
    {
     "name": "stdout",
     "output_type": "stream",
     "text": [
      "Processing Record 35 of Set 12 | sambava\n"
     ]
    },
    {
     "name": "stderr",
     "output_type": "stream",
     "text": [
      "Traceback (most recent call last):\n",
      "  File \"<ipython-input-10-441c2514960e>\", line 41, in <module>\n",
      "    city_snow = city_weather[\"snow\"][\"3h\"]\n",
      "KeyError: 'snow'\n"
     ]
    },
    {
     "name": "stdout",
     "output_type": "stream",
     "text": [
      "Processing Record 36 of Set 12 | adrar\n"
     ]
    },
    {
     "name": "stderr",
     "output_type": "stream",
     "text": [
      "Traceback (most recent call last):\n",
      "  File \"<ipython-input-10-441c2514960e>\", line 40, in <module>\n",
      "    city_rain = city_weather['rain']['3h']\n",
      "KeyError: 'rain'\n"
     ]
    },
    {
     "name": "stdout",
     "output_type": "stream",
     "text": [
      "Processing Record 37 of Set 12 | manta\n"
     ]
    },
    {
     "name": "stderr",
     "output_type": "stream",
     "text": [
      "Traceback (most recent call last):\n",
      "  File \"<ipython-input-10-441c2514960e>\", line 40, in <module>\n",
      "    city_rain = city_weather['rain']['3h']\n",
      "KeyError: 'rain'\n"
     ]
    },
    {
     "name": "stdout",
     "output_type": "stream",
     "text": [
      "Processing Record 38 of Set 12 | koungou\n"
     ]
    },
    {
     "name": "stderr",
     "output_type": "stream",
     "text": [
      "Traceback (most recent call last):\n",
      "  File \"<ipython-input-10-441c2514960e>\", line 40, in <module>\n",
      "    city_rain = city_weather['rain']['3h']\n",
      "KeyError: 'rain'\n"
     ]
    },
    {
     "name": "stdout",
     "output_type": "stream",
     "text": [
      "Processing Record 39 of Set 12 | faya\n"
     ]
    },
    {
     "name": "stderr",
     "output_type": "stream",
     "text": [
      "Traceback (most recent call last):\n",
      "  File \"<ipython-input-10-441c2514960e>\", line 40, in <module>\n",
      "    city_rain = city_weather['rain']['3h']\n",
      "KeyError: 'rain'\n"
     ]
    },
    {
     "name": "stdout",
     "output_type": "stream",
     "text": [
      "Processing Record 40 of Set 12 | vanimo\n"
     ]
    },
    {
     "name": "stderr",
     "output_type": "stream",
     "text": [
      "Traceback (most recent call last):\n",
      "  File \"<ipython-input-10-441c2514960e>\", line 40, in <module>\n",
      "    city_rain = city_weather['rain']['3h']\n",
      "KeyError: 'rain'\n"
     ]
    },
    {
     "name": "stdout",
     "output_type": "stream",
     "text": [
      "Processing Record 41 of Set 12 | marmaris\n"
     ]
    },
    {
     "name": "stderr",
     "output_type": "stream",
     "text": [
      "Traceback (most recent call last):\n",
      "  File \"<ipython-input-10-441c2514960e>\", line 40, in <module>\n",
      "    city_rain = city_weather['rain']['3h']\n",
      "KeyError: 'rain'\n"
     ]
    },
    {
     "name": "stdout",
     "output_type": "stream",
     "text": [
      "Processing Record 42 of Set 12 | sassandra\n"
     ]
    },
    {
     "name": "stderr",
     "output_type": "stream",
     "text": [
      "Traceback (most recent call last):\n",
      "  File \"<ipython-input-10-441c2514960e>\", line 40, in <module>\n",
      "    city_rain = city_weather['rain']['3h']\n",
      "KeyError: 'rain'\n"
     ]
    },
    {
     "name": "stdout",
     "output_type": "stream",
     "text": [
      "Processing Record 43 of Set 12 | marrakesh\n"
     ]
    },
    {
     "name": "stderr",
     "output_type": "stream",
     "text": [
      "Traceback (most recent call last):\n",
      "  File \"<ipython-input-10-441c2514960e>\", line 40, in <module>\n",
      "    city_rain = city_weather['rain']['3h']\n",
      "KeyError: 'rain'\n"
     ]
    },
    {
     "name": "stdout",
     "output_type": "stream",
     "text": [
      "Processing Record 44 of Set 12 | nimaparha\n"
     ]
    },
    {
     "name": "stderr",
     "output_type": "stream",
     "text": [
      "Traceback (most recent call last):\n",
      "  File \"<ipython-input-10-441c2514960e>\", line 40, in <module>\n",
      "    city_rain = city_weather['rain']['3h']\n",
      "KeyError: 'rain'\n"
     ]
    },
    {
     "name": "stdout",
     "output_type": "stream",
     "text": [
      "Processing Record 45 of Set 12 | progreso\n"
     ]
    },
    {
     "name": "stderr",
     "output_type": "stream",
     "text": [
      "Traceback (most recent call last):\n",
      "  File \"<ipython-input-10-441c2514960e>\", line 40, in <module>\n",
      "    city_rain = city_weather['rain']['3h']\n",
      "KeyError: 'rain'\n"
     ]
    },
    {
     "name": "stdout",
     "output_type": "stream",
     "text": [
      "Processing Record 46 of Set 12 | epinal\n"
     ]
    },
    {
     "name": "stderr",
     "output_type": "stream",
     "text": [
      "Traceback (most recent call last):\n",
      "  File \"<ipython-input-10-441c2514960e>\", line 40, in <module>\n",
      "    city_rain = city_weather['rain']['3h']\n",
      "KeyError: 'rain'\n"
     ]
    },
    {
     "name": "stdout",
     "output_type": "stream",
     "text": [
      "Processing Record 47 of Set 12 | doctor pedro p. pena\n"
     ]
    },
    {
     "name": "stderr",
     "output_type": "stream",
     "text": [
      "Traceback (most recent call last):\n",
      "  File \"<ipython-input-10-441c2514960e>\", line 32, in <module>\n",
      "    city_lat = city_weather[\"coord\"][\"lat\"]\n",
      "KeyError: 'coord'\n"
     ]
    },
    {
     "name": "stdout",
     "output_type": "stream",
     "text": [
      "Processing Record 48 of Set 12 | flin flon\n"
     ]
    },
    {
     "name": "stderr",
     "output_type": "stream",
     "text": [
      "Traceback (most recent call last):\n",
      "  File \"<ipython-input-10-441c2514960e>\", line 40, in <module>\n",
      "    city_rain = city_weather['rain']['3h']\n",
      "KeyError: 'rain'\n"
     ]
    },
    {
     "name": "stdout",
     "output_type": "stream",
     "text": [
      "Processing Record 49 of Set 12 | biak\n"
     ]
    },
    {
     "name": "stderr",
     "output_type": "stream",
     "text": [
      "Traceback (most recent call last):\n",
      "  File \"<ipython-input-10-441c2514960e>\", line 41, in <module>\n",
      "    city_snow = city_weather[\"snow\"][\"3h\"]\n",
      "KeyError: 'snow'\n"
     ]
    },
    {
     "name": "stdout",
     "output_type": "stream",
     "text": [
      "Processing Record 50 of Set 12 | machali\n"
     ]
    },
    {
     "name": "stderr",
     "output_type": "stream",
     "text": [
      "Traceback (most recent call last):\n",
      "  File \"<ipython-input-10-441c2514960e>\", line 40, in <module>\n",
      "    city_rain = city_weather['rain']['3h']\n",
      "KeyError: 'rain'\n"
     ]
    },
    {
     "name": "stdout",
     "output_type": "stream",
     "text": [
      "Processing Record 1 of Set 13 | turki\n"
     ]
    },
    {
     "name": "stderr",
     "output_type": "stream",
     "text": [
      "Traceback (most recent call last):\n",
      "  File \"<ipython-input-10-441c2514960e>\", line 40, in <module>\n",
      "    city_rain = city_weather['rain']['3h']\n",
      "KeyError: 'rain'\n"
     ]
    },
    {
     "name": "stdout",
     "output_type": "stream",
     "text": [
      "Processing Record 2 of Set 13 | lourinha\n"
     ]
    },
    {
     "name": "stderr",
     "output_type": "stream",
     "text": [
      "Traceback (most recent call last):\n",
      "  File \"<ipython-input-10-441c2514960e>\", line 40, in <module>\n",
      "    city_rain = city_weather['rain']['3h']\n",
      "KeyError: 'rain'\n"
     ]
    },
    {
     "name": "stdout",
     "output_type": "stream",
     "text": [
      "Processing Record 3 of Set 13 | cabinda\n"
     ]
    },
    {
     "name": "stderr",
     "output_type": "stream",
     "text": [
      "Traceback (most recent call last):\n",
      "  File \"<ipython-input-10-441c2514960e>\", line 40, in <module>\n",
      "    city_rain = city_weather['rain']['3h']\n",
      "KeyError: 'rain'\n"
     ]
    },
    {
     "name": "stdout",
     "output_type": "stream",
     "text": [
      "Processing Record 4 of Set 13 | wawa\n"
     ]
    },
    {
     "name": "stderr",
     "output_type": "stream",
     "text": [
      "Traceback (most recent call last):\n",
      "  File \"<ipython-input-10-441c2514960e>\", line 40, in <module>\n",
      "    city_rain = city_weather['rain']['3h']\n",
      "KeyError: 'rain'\n"
     ]
    },
    {
     "name": "stdout",
     "output_type": "stream",
     "text": [
      "Processing Record 5 of Set 13 | ulaanbaatar\n"
     ]
    },
    {
     "name": "stderr",
     "output_type": "stream",
     "text": [
      "Traceback (most recent call last):\n",
      "  File \"<ipython-input-10-441c2514960e>\", line 40, in <module>\n",
      "    city_rain = city_weather['rain']['3h']\n",
      "KeyError: 'rain'\n"
     ]
    },
    {
     "name": "stdout",
     "output_type": "stream",
     "text": [
      "Processing Record 6 of Set 13 | soc trang\n"
     ]
    },
    {
     "name": "stderr",
     "output_type": "stream",
     "text": [
      "Traceback (most recent call last):\n",
      "  File \"<ipython-input-10-441c2514960e>\", line 40, in <module>\n",
      "    city_rain = city_weather['rain']['3h']\n",
      "KeyError: 'rain'\n"
     ]
    },
    {
     "name": "stdout",
     "output_type": "stream",
     "text": [
      "Processing Record 7 of Set 13 | tornio\n",
      "-----------------------------\n",
      "Data Retrieval Complete      \n",
      "-----------------------------\n"
     ]
    },
    {
     "name": "stderr",
     "output_type": "stream",
     "text": [
      "Traceback (most recent call last):\n",
      "  File \"<ipython-input-10-441c2514960e>\", line 40, in <module>\n",
      "    city_rain = city_weather['rain']['3h']\n",
      "KeyError: 'rain'\n"
     ]
    }
   ],
   "source": [
    "#Retrieve the following information from the API call : Latitude and longitude, Maximum temperature, Percent humidity, Percent cloudiness, Wind speed, Weather description (e.g., clouds, fog, light rain, clear sky)\n",
    "# Create an empty list to hold the weather data.\n",
    "city_data = []\n",
    "# Print the beginning of the logging.\n",
    "print(\"Beginning Data Retrieval     \")\n",
    "print(\"-----------------------------\")\n",
    "\n",
    "# Create counters.\n",
    "record_count = 1\n",
    "set_count = 1\n",
    "\n",
    "# Loop through all the cities in the list.\n",
    "for i, city in enumerate(cities):\n",
    "\n",
    "    # Group cities in sets of 50 for logging purposes.\n",
    "    if (i % 50 == 0 and i >= 50):\n",
    "        set_count += 1\n",
    "        record_count = 1\n",
    "    # Create endpoint URL with each city.\n",
    "    city_url = url + \"&q=\" + city\n",
    "\n",
    "    # Log the URL, record, and set numbers and the city.\n",
    "    print(f\"Processing Record {record_count} of Set {set_count} | {city}\")\n",
    "    # Add 1 to the record count.\n",
    "    record_count += 1\n",
    "    \n",
    "# Run an API request for each of the cities.\n",
    "    try:\n",
    "        # Parse the JSON and retrieve data.\n",
    "        city_weather = requests.get(city_url).json()\n",
    "        # Parse out the needed data.\n",
    "        city_lat = city_weather[\"coord\"][\"lat\"]\n",
    "        city_lng = city_weather[\"coord\"][\"lon\"]\n",
    "        city_max_temp = city_weather[\"main\"][\"temp_max\"]\n",
    "        city_humidity = city_weather[\"main\"][\"humidity\"]\n",
    "        city_clouds = city_weather[\"clouds\"][\"all\"]\n",
    "        city_wind = city_weather[\"wind\"][\"speed\"]\n",
    "        city_country = city_weather[\"sys\"][\"country\"]\n",
    "        city_description = city_weather[\"weather\"][0][\"description\"]\n",
    "        city_rain = city_weather['rain']['3h']\n",
    "        city_snow = city_weather[\"snow\"][\"3h\"]\n",
    "        # Convert the date to ISO standard.\n",
    "        city_date = datetime.utcfromtimestamp(city_weather[\"dt\"]).strftime('%Y-%m-%d %H:%M:%S')\n",
    "        # Append the city information into city_data list.\n",
    "        city_data.append({\"City\": city.title(),\n",
    "                          \"Lat\": city_lat,\n",
    "                          \"Lng\": city_lng,\n",
    "                          \"Max Temp\": city_max_temp,\n",
    "                          \"Humidity\": city_humidity,\n",
    "                          \"Cloudiness\": city_clouds,\n",
    "                          \"Wind Speed\": city_wind,\n",
    "                          \"Country\": city_country,\n",
    "                          \"Date\": city_date,\n",
    "                          \"Current Description\": city_description,\n",
    "                          \"Rain Inches (last 3 hrs)\": city_rain,\n",
    "                          \"Snow Inches (last 3 hrs)\": city_snow})\n",
    "\n",
    "# If an error is experienced, skip the city.\n",
    "#Using a try-except block, if it is raining, get the amount of rainfall in inches for the last three hours. If it is not raining, add 0 inches for the city\n",
    "#Using a try-except block, if it is snowing, get the amount of snow in inches for the last three hours. If it is not snowing, add 0 inches for the city.\n",
    "    \n",
    "    except:\n",
    "        city_rain=0\n",
    "        city_snow=0 \n",
    "        traceback.print_exc()\n",
    "        \n",
    "\n",
    "\n",
    "                                       \n",
    "        \n",
    "# Indicate that Data Loading is complete.\n",
    "print(\"-----------------------------\")\n",
    "print(\"Data Retrieval Complete      \")\n",
    "print(\"-----------------------------\")\n",
    "\n",
    "\n"
   ]
  },
  {
   "cell_type": "code",
   "execution_count": 11,
   "metadata": {},
   "outputs": [
    {
     "data": {
      "text/html": [
       "<div>\n",
       "<style scoped>\n",
       "    .dataframe tbody tr th:only-of-type {\n",
       "        vertical-align: middle;\n",
       "    }\n",
       "\n",
       "    .dataframe tbody tr th {\n",
       "        vertical-align: top;\n",
       "    }\n",
       "\n",
       "    .dataframe thead th {\n",
       "        text-align: right;\n",
       "    }\n",
       "</style>\n",
       "<table border=\"1\" class=\"dataframe\">\n",
       "  <thead>\n",
       "    <tr style=\"text-align: right;\">\n",
       "      <th></th>\n",
       "    </tr>\n",
       "  </thead>\n",
       "  <tbody>\n",
       "  </tbody>\n",
       "</table>\n",
       "</div>"
      ],
      "text/plain": [
       "Empty DataFrame\n",
       "Columns: []\n",
       "Index: []"
      ]
     },
     "execution_count": 11,
     "metadata": {},
     "output_type": "execute_result"
    }
   ],
   "source": [
    "#Add the data to a new DataFrame.\n",
    "city_data_df = pd.DataFrame(city_data)\n",
    "city_data_df.head(10)\n"
   ]
  },
  {
   "cell_type": "code",
   "execution_count": null,
   "metadata": {},
   "outputs": [],
   "source": [
    "#rearrange the columns\n",
    "new_column_order=[\"City\", \"Country\", \"Date\", \"Lat\", \"Lng\", \"Max Temp\", \"Humidity\", \"Cloudiness\", \"Wind Speed\", \"Current Description\", \"Rain Inches (last 3 hrs)\", \"Snow Inches (last 3 hrs)\"]\n",
    "\n",
    "city_data_df=city_data_df[new_column_order]\n",
    "city_data_df.head(10)"
   ]
  },
  {
   "cell_type": "code",
   "execution_count": null,
   "metadata": {},
   "outputs": [],
   "source": [
    "#Save the new DataFrame as a CSV file to be used for Part 2.\n",
    "output_data_file = \"weather_data/WeatherPy_challenge.csv\"\n",
    "city_data_df.to_csv(output_data_file, index_label=\"City_ID\")"
   ]
  },
  {
   "cell_type": "code",
   "execution_count": null,
   "metadata": {},
   "outputs": [],
   "source": []
  }
 ],
 "metadata": {
  "kernelspec": {
   "display_name": "PythonData",
   "language": "python",
   "name": "pythondata"
  },
  "language_info": {
   "codemirror_mode": {
    "name": "ipython",
    "version": 3
   },
   "file_extension": ".py",
   "mimetype": "text/x-python",
   "name": "python",
   "nbconvert_exporter": "python",
   "pygments_lexer": "ipython3",
   "version": "3.7.6"
  }
 },
 "nbformat": 4,
 "nbformat_minor": 4
}
